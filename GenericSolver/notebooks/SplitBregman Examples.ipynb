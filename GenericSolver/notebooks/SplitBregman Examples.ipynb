{
 "cells": [
  {
   "cell_type": "markdown",
   "metadata": {
    "collapsed": true,
    "pycharm": {
     "name": "#%% md\n"
    }
   },
   "source": [
    "# The Split-Bregman Algorithm: Sparsity Enforcing Inversions\n",
    "\n",
    "@Author: Francesco Picetti - francesco.picetti@polimi.it"
   ]
  },
  {
   "cell_type": "markdown",
   "metadata": {},
   "source": [
    "In this notebook we will show the Split-Bregman algorithm,\n",
    "as described by [Goldstein and Osher, 2009](https://doi.org/10.1137/080725891).\n",
    "\n",
    "In its generalized unconstrained formulation (the same we handle in this library), this algorithm\n",
    "takes what we call `ProblemLinearReg` (see `pyProblem.py`):\n",
    "\n",
    "\\begin{equation}\n",
    "    \\arg \\min_\\mathbf{m} \\Vert  \\mathbf{A} \\mathbf{m} - \\mathbf{d}\\Vert_2^2 + \\sum_i \\varepsilon_{L2,i}\\Vert \\mathbf{R}_{L2,i} \\mathbf{m} - \\mathbf{p}_i\\Vert_2^2 + \\sum_i \\varepsilon_{L1,i}\\Vert \\mathbf{R}_{L1,i} \\mathbf{m}\\Vert_1,\n",
    "\\end{equation}\n",
    "\n",
    "being $\\mathbf{m}$ our model, $\\mathbf{d}$ the observed data, $\\mathbf{A}$ a linear modeling operator,\n",
    "$\\mathbf{R}_{L2,i}$ the $i$-th linear regularizer to which we associate a prior $\\mathbf{p}_i$ along with its weight $\\varepsilon_{L2,i}$,\n",
    "$\\mathbf{R}_{L1,i}$ the $i$-th sparsity promoting regularizer and its weight $\\varepsilon_{L1,i}$."
   ]
  },
  {
   "cell_type": "markdown",
   "metadata": {},
   "source": [
    "#### Import modules"
   ]
  },
  {
   "cell_type": "code",
   "execution_count": 1,
   "metadata": {
    "pycharm": {
     "name": "#%%\n"
    }
   },
   "outputs": [
    {
     "name": "stdout",
     "output_type": "stream",
     "text": [
      "WARNING! DATAPATH not found. The folder /tmp will be used to write binary files\n"
     ]
    }
   ],
   "source": [
    "# Importing necessary modules\n",
    "import sys\n",
    "sys.path.append(\"../python\")\n",
    "import os\n",
    "import numpy as np\n",
    "import pyOperator as pyOp\n",
    "import pyVector as pyVec\n",
    "import pyNpOperator as NpOp\n",
    "from pyProblem import ProblemLinearReg, ProblemL2Linear, ProblemL1Lasso\n",
    "from pyLinearSolver import LSQRsolver, LCGsolver\n",
    "from pySparseSolver import ISTAsolver, SplitBregmanSolver\n",
    "from pyStopper import BasicStopper\n",
    "from sys_util import logger\n",
    "\n",
    "# Plotting library\n",
    "from matplotlib import pyplot as plt\n",
    "import matplotlib\n",
    "from mpl_toolkits.axes_grid1 import make_axes_locatable\n",
    "%matplotlib inline\n",
    "params = {\n",
    "    'image.cmap': 'gray',\n",
    "    'axes.grid': False,\n",
    "    'savefig.dpi': 300,  # to adjust notebook inline plot size\n",
    "    'axes.labelsize': 14, # fontsize for x and y labels (was 10)\n",
    "    'axes.titlesize': 14,\n",
    "    'font.size': 14,\n",
    "    'legend.fontsize': 14,\n",
    "    'xtick.labelsize': 14,\n",
    "    'ytick.labelsize': 14,\n",
    "    'text.usetex':True\n",
    "}\n",
    "matplotlib.rcParams.update(params)"
   ]
  },
  {
   "cell_type": "markdown",
   "metadata": {},
   "source": [
    "##  Example 1:  1D Ricker Deconvolution\n",
    "\n",
    "In this example we want to invert a 1D seismic trace for the Earth's reflectivity.\n",
    "We suppose the wavelet to be known, yielding  to a deterministic deconvolution problem."
   ]
  },
  {
   "cell_type": "code",
   "execution_count": null,
   "metadata": {
    "pycharm": {
     "name": "#%%\n"
    }
   },
   "outputs": [],
   "source": [
    "# load wavelet\n",
    "ricker = genericIO.defaultIO.getVector(\"../testdata/ricker1.H\")\n",
    "waveletHyper = ricker.getHyper()\n",
    "nt = waveletHyper.getAxis(1).n\n",
    "ot = waveletHyper.getAxis(1).o\n",
    "dt = waveletHyper.getAxis(1).d\n",
    "\n",
    "# load reflectivity\n",
    "model = genericIO.defaultIO.getVector('../testdata/ref_randomspikes.H')\n",
    "\n",
    "# instantating operator\n",
    "A = NpOp.ConvNDscipy(model, ricker)\n",
    "\n",
    "# Generating true recorded trace\n",
    "data = A * model"
   ]
  },
  {
   "cell_type": "code",
   "execution_count": null,
   "metadata": {
    "pycharm": {
     "name": "#%%\n"
    }
   },
   "outputs": [],
   "source": [
    "fig, ax = plt.subplots(figsize=(5,3))\n",
    "time_range = np.linspace(ot,ot+(nt-1)*dt,nt)\n",
    "plt.plot(np.linspace(ot,ot+(nt-1)*dt,nt), ricker.getNdArray())\n",
    "plt.title('Wavelet'), plt.xlabel(\"Time [s]\"), plt.ylabel(\"Amplitude\")\n",
    "ax.autoscale(enable=True, axis='x', tight=True)\n",
    "plt.show()\n",
    "\n",
    "fig, ax = plt.subplots(figsize=(12, 3))\n",
    "plt.plot(model.getNdArray(), 'k',  label='model')\n",
    "plt.plot(data.getNdArray(), 'b',  label='data')\n",
    "ax.autoscale(enable=True, axis='x', tight=True)\n",
    "plt.ylim(-1., 1.)\n",
    "plt.legend()\n",
    "plt.grid(True)\n",
    "plt.show()"
   ]
  },
  {
   "cell_type": "markdown",
   "metadata": {},
   "source": [
    "#### Solve with Conjugate Gradient\n",
    "\n",
    "Conjugate gradient is a fast and powerful adjoint-state algorithm for solving problems in the form:\n",
    "\n",
    "\\begin{equation}\n",
    "    \\hat{\\mathbf{m}} = \\arg \\min_\\mathbf{m} \\Vert \\mathbf{A}\\mathbf{m} - \\mathbf{d}\\Vert_2^2\n",
    "\\end{equation}"
   ]
  },
  {
   "cell_type": "code",
   "execution_count": null,
   "metadata": {
    "pycharm": {
     "name": "#%%\n"
    }
   },
   "outputs": [],
   "source": [
    "# instantiate a linear L2 problem\n",
    "problemCG = ProblemL2Linear(model.clone().zero(), data, A)\n",
    "\n",
    "# define the solver with 10'000 iterations\n",
    "CG = LCGsolver(BasicStopper(10000))\n",
    "\n",
    "# solve the problem\n",
    "CG.run(problemCG, verbose=True)"
   ]
  },
  {
   "cell_type": "code",
   "execution_count": null,
   "metadata": {
    "pycharm": {
     "name": "#%%\n"
    }
   },
   "outputs": [],
   "source": [
    "fig, ax = plt.subplots(figsize=(12, 3))\n",
    "plt.plot(model.getNdArray(), 'k', label=\"true model\")\n",
    "plt.plot(problemCG.model.getNdArray(), 'r--', label=\"CG\")\n",
    "plt.title('Conjugate Gradient, %d iterations' % CG.stopper.niter)\n",
    "plt.ylim(-1., 1.)\n",
    "ax.autoscale(enable=True, axis='x', tight=True)\n",
    "plt.grid(True)\n",
    "plt.legend()\n",
    "plt.show()"
   ]
  },
  {
   "cell_type": "markdown",
   "metadata": {},
   "source": [
    "#### Impose sparsity in the solution: FISTA\n",
    "\n",
    "Iterative Shrinkage-Thresholding Algorithms solve the so-called LASSO problem:\n",
    "\\begin{equation}\n",
    "    \\hat{\\mathbf{m}} = \\arg \\min_\\mathbf{m} \\Vert \\mathbf{A}\\mathbf{m} - \\mathbf{d}\\Vert_2^2 + \\lambda \\Vert \\mathbf{m}\\Vert_1\n",
    "\\end{equation}\n",
    "\n",
    "If we provide the operator's maximum eigenvalue $\\eta$ we can build a fast version\n",
    "of this algorithm by imposing the step $\\alpha < 1/\\eta^2$ as proposed in [Beck and Teboulle, 2009](https://doi.org/10.1137/080716542)."
   ]
  },
  {
   "cell_type": "code",
   "execution_count": null,
   "metadata": {
    "pycharm": {
     "name": "#%%\n"
    }
   },
   "outputs": [],
   "source": [
    "# compute maximum eigenvalue\n",
    "maxeig = A.powerMethod()\n",
    "print('FISTA α=%.6e' % (1/(maxeig**2)))\n",
    "\n",
    "# define the LASSO problem\n",
    "problemFISTA = ProblemL1Lasso(model.clone().zero(), data, A, lambda_value=1, op_norm=maxeig**2)\n",
    "\n",
    "# instantiate the fast solver with 1000 iterations\n",
    "FISTA = ISTAsolver(BasicStopper(1000), fast=True)\n",
    "\n",
    "# solve the problem\n",
    "FISTA.run(problemFISTA, verbose=True)"
   ]
  },
  {
   "cell_type": "code",
   "execution_count": null,
   "metadata": {
    "pycharm": {
     "name": "#%%\n"
    }
   },
   "outputs": [],
   "source": [
    "fig, ax = plt.subplots(figsize=(12,3))\n",
    "plt.plot(model.getNdArray(), 'k', label=\"true model\")\n",
    "plt.plot(problemFISTA.model.getNdArray(), 'r--', label=\"FISTA\")\n",
    "plt.title('Fast ISTA, λ=%.e' % problemFISTA.lambda_value)\n",
    "plt.ylim(-1, 1)\n",
    "ax.autoscale(enable=True, axis='x', tight=True)\n",
    "plt.grid(True)\n",
    "plt.legend()\n",
    "plt.show()"
   ]
  },
  {
   "cell_type": "markdown",
   "metadata": {},
   "source": [
    "Note that FISTA is able to recover the model's kinematics but not the true amplitude.\n",
    "Indeed, this algorithm is very sensitive to $\\lambda$ parameter.\n",
    "Let's try another solver."
   ]
  },
  {
   "cell_type": "markdown",
   "metadata": {},
   "source": [
    "#### Split-Bregman for LASSO problem"
   ]
  },
  {
   "cell_type": "code",
   "execution_count": null,
   "metadata": {
    "pycharm": {
     "name": "#%%\n"
    }
   },
   "outputs": [],
   "source": [
    "# define the Linear Regularized Problem\n",
    "problemSB = ProblemLinearReg(model.clone().zero(), data, A,\n",
    "                             regsL1=pyOp.IdentityOp(model), epsL1=.1)\n",
    "\n",
    "# instantiate the Split-Bregman solver\n",
    "SB = SplitBregmanSolver(BasicStopper(1000), niter_inner=5, niter_solver=15,\n",
    "                        linear_solver='LSQR', breg_weight=1., warm_start=True)\n",
    "\n",
    "# solve the problem\n",
    "SB.run(problemSB, verbose=True, inner_verbose=False)"
   ]
  },
  {
   "cell_type": "code",
   "execution_count": null,
   "metadata": {
    "pycharm": {
     "name": "#%%\n"
    }
   },
   "outputs": [],
   "source": [
    "fig, ax = plt.subplots(figsize=(12,3))\n",
    "plt.plot(model.getNdArray(), 'k', label=\"true model\")\n",
    "plt.plot(problemFISTA.model.getNdArray(), 'r--', label=\"SB\")\n",
    "plt.title('Split-Bregman, ε=%.e' % problemSB.epsL1)\n",
    "plt.ylim(-1, 1)\n",
    "ax.autoscale(enable=True, axis='x', tight=True)\n",
    "plt.grid(True)\n",
    "plt.legend()\n",
    "plt.show()"
   ]
  },
  {
   "cell_type": "markdown",
   "metadata": {
    "pycharm": {
     "name": "#%% md\n"
    }
   },
   "source": [
    "The results is much better than FISTA output: the dynamics is almost-perfectly recovered.\n"
   ]
  },
  {
   "cell_type": "markdown",
   "metadata": {},
   "source": [
    "##  Example 2:  1D Velocity Deconvolution\n",
    "\n",
    "Now we create a synthetic velocity profile and suppose to have recorded a smooth version of it.\n",
    "The deconvolution problem aims at recovering the sharp model, and this is done by using a Total Variation regularizer."
   ]
  },
  {
   "cell_type": "code",
   "execution_count": 2,
   "metadata": {
    "pycharm": {
     "name": "#%%\n"
    }
   },
   "outputs": [],
   "source": [
    "# create the true model\n",
    "nx = 201\n",
    "dt = 1./(nx-1)\n",
    "t = np.linspace(0.0,dt*nx,nx)\n",
    "x = pyVec.vectorIC(np.zeros((nx,), dtype=np.float32)).zero()\n",
    "x.getNdArray()[20:30] = 10.\n",
    "x.getNdArray()[50:75] = -5.\n",
    "x.getNdArray()[100:150] = 2.5\n",
    "x.getNdArray()[175:180] = 7.5\n",
    "\n",
    "# instantiate the blurring operator\n",
    "G = NpOp.GaussianFilter(x, 2.0)\n",
    "\n",
    "# simulate data\n",
    "y = G * x"
   ]
  },
  {
   "cell_type": "code",
   "execution_count": 3,
   "metadata": {
    "pycharm": {
     "name": "#%%\n"
    }
   },
   "outputs": [
    {
     "data": {
      "image/png": "[encoded data removed]",
      "text/plain": [
       "<Figure size 864x216 with 1 Axes>"
      ]
     },
     "metadata": {
      "needs_background": "light"
     },
     "output_type": "display_data"
    }
   ],
   "source": [
    "fig, ax = plt.subplots(figsize=(12, 3))\n",
    "plt.plot(t,x.getNdArray(), 'k',  label='model')\n",
    "plt.plot(t,y.getNdArray(), 'b',  label='data')\n",
    "ax.autoscale(enable=True, axis='x', tight=True)\n",
    "plt.ylim(-6, 12)\n",
    "# plt.legend()\n",
    "plt.grid(True)\n",
    "plt.tight_layout(.5)\n",
    "plt.xlim([0,1])\n",
    "plt.xlabel(\"Time [s]\",fontsize=14)\n",
    "plt.ylabel(\"Amplitude\",fontsize=14)\n",
    "plt.savefig('blocky_model.pdf', format='pdf', dpi=300, bbox_inches='tight')"
   ]
  },
  {
   "cell_type": "markdown",
   "metadata": {
    "pycharm": {
     "name": "#%% md\n"
    }
   },
   "source": [
    "As we can see, the model presents some flat regions. Let's have a look to its first derivative:"
   ]
  },
  {
   "cell_type": "code",
   "execution_count": 8,
   "metadata": {
    "pycharm": {
     "name": "#%%\n"
    }
   },
   "outputs": [],
   "source": [
    "TV = NpOp.FirstDerivative(x)\n",
    "Dx = TV * x"
   ]
  },
  {
   "cell_type": "code",
   "execution_count": 9,
   "metadata": {
    "pycharm": {
     "name": "#%%\n"
    }
   },
   "outputs": [
    {
     "data": {
      "image/png": "[encoded data removed]",
      "text/plain": [
       "<Figure size 864x216 with 1 Axes>"
      ]
     },
     "metadata": {
      "needs_background": "light"
     },
     "output_type": "display_data"
    }
   ],
   "source": [
    "fig, ax = plt.subplots(figsize=(12, 3))\n",
    "plt.plot(x.getNdArray(), 'k',  label='model')\n",
    "plt.plot(Dx.getNdArray(), 'b',  label='gradient')\n",
    "ax.autoscale(enable=True, axis='x', tight=True)\n",
    "plt.ylim(-6, 12)\n",
    "plt.legend()\n",
    "plt.grid(True)\n",
    "plt.tight_layout(.5)\n",
    "plt.show()"
   ]
  },
  {
   "cell_type": "markdown",
   "metadata": {
    "pycharm": {
     "name": "#%% md\n"
    }
   },
   "source": [
    "The model derivative is sparse! We can set up a SplitBregman solver:"
   ]
  },
  {
   "cell_type": "code",
   "execution_count": 10,
   "metadata": {
    "pycharm": {
     "name": "#%%\n"
    }
   },
   "outputs": [
    {
     "name": "stdout",
     "output_type": "stream",
     "text": [
      "##########################################################################################\n",
      "\t\t\tSPLIT-BREGMAN ALGORITHM\n",
      "\n",
      "\tRestart folder: /tmp/restart_2020-07-16T08-35-24.467209/\n",
      "\tModeling Operator:\tGausFilt\n",
      "\tInner iterations:\t5\n",
      "\tSolver iterations:\t10\n",
      "\tL1 Regularizer ops:\t\t1stDer_0\n",
      "\tL1 Regularizer weights:\t1.00e-01\n",
      "\tBregman update weight:\t1.00e+00\n",
      "\tUsing warm start option for inner problem\n",
      "##########################################################################################\n",
      "\n",
      "iter = 0000, obj = 5.74471e+02, df_obj = 5.74e+02, reg_obj = 0.00e+00, resnorm = 3.39e+01\n",
      "iter = 0001, obj = 5.96557e+00, df_obj = 5.68e-02, reg_obj = 5.91e+00, resnorm = 1.04e+01\n",
      "iter = 0002, obj = 5.71213e+00, df_obj = 2.69e-02, reg_obj = 5.69e+00, resnorm = 1.10e+01\n",
      "iter = 0003, obj = 5.44417e+00, df_obj = 2.54e-02, reg_obj = 5.42e+00, resnorm = 1.10e+01\n",
      "iter = 0004, obj = 5.36246e+00, df_obj = 2.08e-02, reg_obj = 5.34e+00, resnorm = 1.13e+01\n",
      "iter = 0005, obj = 5.29384e+00, df_obj = 1.69e-02, reg_obj = 5.28e+00, resnorm = 1.15e+01\n",
      "iter = 0006, obj = 5.23943e+00, df_obj = 1.39e-02, reg_obj = 5.23e+00, resnorm = 1.18e+01\n",
      "iter = 0007, obj = 5.19637e+00, df_obj = 1.15e-02, reg_obj = 5.18e+00, resnorm = 1.21e+01\n",
      "iter = 0008, obj = 5.16842e+00, df_obj = 9.10e-03, reg_obj = 5.16e+00, resnorm = 1.23e+01\n",
      "iter = 0009, obj = 5.13465e+00, df_obj = 7.18e-03, reg_obj = 5.13e+00, resnorm = 1.26e+01\n",
      "iter = 0010, obj = 5.10154e+00, df_obj = 5.75e-03, reg_obj = 5.10e+00, resnorm = 1.28e+01\n",
      "iter = 0011, obj = 5.06569e+00, df_obj = 4.60e-03, reg_obj = 5.06e+00, resnorm = 1.30e+01\n",
      "iter = 0012, obj = 5.04032e+00, df_obj = 3.69e-03, reg_obj = 5.04e+00, resnorm = 1.32e+01\n",
      "iter = 0013, obj = 5.03881e+00, df_obj = 2.84e-03, reg_obj = 5.04e+00, resnorm = 1.33e+01\n",
      "iter = 0014, obj = 5.02613e+00, df_obj = 2.18e-03, reg_obj = 5.02e+00, resnorm = 1.34e+01\n",
      "iter = 0015, obj = 5.02450e+00, df_obj = 1.73e-03, reg_obj = 5.02e+00, resnorm = 1.35e+01\n",
      "iter = 0016, obj = 5.02341e+00, df_obj = 1.40e-03, reg_obj = 5.02e+00, resnorm = 1.36e+01\n",
      "iter = 0017, obj = 5.01692e+00, df_obj = 1.20e-03, reg_obj = 5.02e+00, resnorm = 1.36e+01\n",
      "iter = 0018, obj = 5.01035e+00, df_obj = 1.10e-03, reg_obj = 5.01e+00, resnorm = 1.36e+01\n",
      "iter = 0019, obj = 5.00524e+00, df_obj = 1.06e-03, reg_obj = 5.00e+00, resnorm = 1.36e+01\n",
      "iter = 0020, obj = 5.00235e+00, df_obj = 1.03e-03, reg_obj = 5.00e+00, resnorm = 1.36e+01\n",
      "iter = 0021, obj = 5.00023e+00, df_obj = 1.03e-03, reg_obj = 5.00e+00, resnorm = 1.36e+01\n",
      "iter = 0022, obj = 4.99803e+00, df_obj = 1.03e-03, reg_obj = 5.00e+00, resnorm = 1.36e+01\n",
      "iter = 0023, obj = 4.99633e+00, df_obj = 1.04e-03, reg_obj = 5.00e+00, resnorm = 1.36e+01\n",
      "iter = 0024, obj = 4.99450e+00, df_obj = 1.06e-03, reg_obj = 4.99e+00, resnorm = 1.36e+01\n",
      "iter = 0025, obj = 4.99309e+00, df_obj = 1.08e-03, reg_obj = 4.99e+00, resnorm = 1.36e+01\n",
      "iter = 0026, obj = 4.99173e+00, df_obj = 1.11e-03, reg_obj = 4.99e+00, resnorm = 1.36e+01\n",
      "iter = 0027, obj = 4.99062e+00, df_obj = 1.13e-03, reg_obj = 4.99e+00, resnorm = 1.36e+01\n",
      "iter = 0028, obj = 4.98968e+00, df_obj = 1.15e-03, reg_obj = 4.99e+00, resnorm = 1.36e+01\n",
      "iter = 0029, obj = 4.98865e+00, df_obj = 1.16e-03, reg_obj = 4.99e+00, resnorm = 1.36e+01\n",
      "iter = 0030, obj = 4.98827e+00, df_obj = 1.18e-03, reg_obj = 4.99e+00, resnorm = 1.36e+01\n",
      "iter = 0031, obj = 4.98743e+00, df_obj = 1.19e-03, reg_obj = 4.99e+00, resnorm = 1.36e+01\n",
      "iter = 0032, obj = 4.98710e+00, df_obj = 1.20e-03, reg_obj = 4.99e+00, resnorm = 1.36e+01\n",
      "iter = 0033, obj = 4.98647e+00, df_obj = 1.21e-03, reg_obj = 4.99e+00, resnorm = 1.36e+01\n",
      "iter = 0034, obj = 4.98614e+00, df_obj = 1.21e-03, reg_obj = 4.98e+00, resnorm = 1.36e+01\n",
      "iter = 0035, obj = 4.98578e+00, df_obj = 1.21e-03, reg_obj = 4.98e+00, resnorm = 1.36e+01\n",
      "iter = 0036, obj = 4.98547e+00, df_obj = 1.21e-03, reg_obj = 4.98e+00, resnorm = 1.36e+01\n",
      "iter = 0037, obj = 4.98522e+00, df_obj = 1.21e-03, reg_obj = 4.98e+00, resnorm = 1.36e+01\n",
      "iter = 0038, obj = 4.98501e+00, df_obj = 1.21e-03, reg_obj = 4.98e+00, resnorm = 1.36e+01\n",
      "iter = 0039, obj = 4.98483e+00, df_obj = 1.20e-03, reg_obj = 4.98e+00, resnorm = 1.36e+01\n",
      "iter = 0040, obj = 4.98470e+00, df_obj = 1.20e-03, reg_obj = 4.98e+00, resnorm = 1.36e+01\n",
      "iter = 0041, obj = 4.98460e+00, df_obj = 1.19e-03, reg_obj = 4.98e+00, resnorm = 1.36e+01\n",
      "iter = 0042, obj = 4.98444e+00, df_obj = 1.19e-03, reg_obj = 4.98e+00, resnorm = 1.36e+01\n",
      "iter = 0043, obj = 4.98426e+00, df_obj = 1.18e-03, reg_obj = 4.98e+00, resnorm = 1.36e+01\n",
      "iter = 0044, obj = 4.98417e+00, df_obj = 1.18e-03, reg_obj = 4.98e+00, resnorm = 1.36e+01\n",
      "iter = 0045, obj = 4.98406e+00, df_obj = 1.17e-03, reg_obj = 4.98e+00, resnorm = 1.36e+01\n",
      "iter = 0046, obj = 4.98394e+00, df_obj = 1.16e-03, reg_obj = 4.98e+00, resnorm = 1.36e+01\n",
      "iter = 0047, obj = 4.98382e+00, df_obj = 1.16e-03, reg_obj = 4.98e+00, resnorm = 1.36e+01\n",
      "iter = 0048, obj = 4.98381e+00, df_obj = 1.15e-03, reg_obj = 4.98e+00, resnorm = 1.36e+01\n",
      "iter = 0049, obj = 4.98376e+00, df_obj = 1.15e-03, reg_obj = 4.98e+00, resnorm = 1.36e+01\n",
      "iter = 0050, obj = 4.98363e+00, df_obj = 1.14e-03, reg_obj = 4.98e+00, resnorm = 1.36e+01\n",
      "iter = 0051, obj = 4.98361e+00, df_obj = 1.14e-03, reg_obj = 4.98e+00, resnorm = 1.36e+01\n",
      "iter = 0052, obj = 4.98352e+00, df_obj = 1.14e-03, reg_obj = 4.98e+00, resnorm = 1.36e+01\n",
      "iter = 0053, obj = 4.98348e+00, df_obj = 1.13e-03, reg_obj = 4.98e+00, resnorm = 1.36e+01\n",
      "iter = 0054, obj = 4.98341e+00, df_obj = 1.13e-03, reg_obj = 4.98e+00, resnorm = 1.36e+01\n",
      "iter = 0055, obj = 4.98344e+00, df_obj = 1.13e-03, reg_obj = 4.98e+00, resnorm = 1.36e+01\n",
      "iter = 0056, obj = 4.98339e+00, df_obj = 1.13e-03, reg_obj = 4.98e+00, resnorm = 1.36e+01\n",
      "iter = 0057, obj = 4.98332e+00, df_obj = 1.12e-03, reg_obj = 4.98e+00, resnorm = 1.36e+01\n",
      "iter = 0058, obj = 4.98328e+00, df_obj = 1.12e-03, reg_obj = 4.98e+00, resnorm = 1.36e+01\n",
      "iter = 0059, obj = 4.98323e+00, df_obj = 1.12e-03, reg_obj = 4.98e+00, resnorm = 1.36e+01\n",
      "iter = 0060, obj = 4.98320e+00, df_obj = 1.11e-03, reg_obj = 4.98e+00, resnorm = 1.36e+01\n",
      "iter = 0061, obj = 4.98318e+00, df_obj = 1.11e-03, reg_obj = 4.98e+00, resnorm = 1.36e+01\n",
      "iter = 0062, obj = 4.98313e+00, df_obj = 1.11e-03, reg_obj = 4.98e+00, resnorm = 1.36e+01\n",
      "iter = 0063, obj = 4.98312e+00, df_obj = 1.11e-03, reg_obj = 4.98e+00, resnorm = 1.36e+01\n",
      "iter = 0064, obj = 4.98313e+00, df_obj = 1.10e-03, reg_obj = 4.98e+00, resnorm = 1.36e+01\n",
      "iter = 0065, obj = 4.98309e+00, df_obj = 1.10e-03, reg_obj = 4.98e+00, resnorm = 1.36e+01\n",
      "iter = 0066, obj = 4.98305e+00, df_obj = 1.10e-03, reg_obj = 4.98e+00, resnorm = 1.36e+01\n",
      "iter = 0067, obj = 4.98302e+00, df_obj = 1.10e-03, reg_obj = 4.98e+00, resnorm = 1.36e+01\n",
      "iter = 0068, obj = 4.98298e+00, df_obj = 1.09e-03, reg_obj = 4.98e+00, resnorm = 1.36e+01\n",
      "iter = 0069, obj = 4.98294e+00, df_obj = 1.09e-03, reg_obj = 4.98e+00, resnorm = 1.36e+01\n",
      "iter = 0070, obj = 4.98295e+00, df_obj = 1.09e-03, reg_obj = 4.98e+00, resnorm = 1.36e+01\n",
      "iter = 0071, obj = 4.98292e+00, df_obj = 1.09e-03, reg_obj = 4.98e+00, resnorm = 1.36e+01\n",
      "iter = 0072, obj = 4.98288e+00, df_obj = 1.08e-03, reg_obj = 4.98e+00, resnorm = 1.36e+01\n",
      "iter = 0073, obj = 4.98292e+00, df_obj = 1.08e-03, reg_obj = 4.98e+00, resnorm = 1.36e+01\n",
      "iter = 0074, obj = 4.98283e+00, df_obj = 1.08e-03, reg_obj = 4.98e+00, resnorm = 1.36e+01\n",
      "iter = 0075, obj = 4.98291e+00, df_obj = 1.08e-03, reg_obj = 4.98e+00, resnorm = 1.36e+01\n",
      "iter = 0076, obj = 4.98282e+00, df_obj = 1.08e-03, reg_obj = 4.98e+00, resnorm = 1.36e+01\n",
      "iter = 0077, obj = 4.98272e+00, df_obj = 1.07e-03, reg_obj = 4.98e+00, resnorm = 1.36e+01\n",
      "iter = 0078, obj = 4.98267e+00, df_obj = 1.07e-03, reg_obj = 4.98e+00, resnorm = 1.36e+01\n",
      "iter = 0079, obj = 4.98269e+00, df_obj = 1.07e-03, reg_obj = 4.98e+00, resnorm = 1.36e+01\n",
      "iter = 0080, obj = 4.98263e+00, df_obj = 1.07e-03, reg_obj = 4.98e+00, resnorm = 1.36e+01\n",
      "iter = 0081, obj = 4.98264e+00, df_obj = 1.07e-03, reg_obj = 4.98e+00, resnorm = 1.36e+01\n",
      "iter = 0082, obj = 4.98288e+00, df_obj = 1.07e-03, reg_obj = 4.98e+00, resnorm = 1.36e+01\n",
      "iter = 0083, obj = 4.98263e+00, df_obj = 1.06e-03, reg_obj = 4.98e+00, resnorm = 1.36e+01\n",
      "iter = 0084, obj = 4.98256e+00, df_obj = 1.06e-03, reg_obj = 4.98e+00, resnorm = 1.36e+01\n",
      "iter = 0085, obj = 4.98255e+00, df_obj = 1.06e-03, reg_obj = 4.98e+00, resnorm = 1.36e+01\n",
      "iter = 0086, obj = 4.98256e+00, df_obj = 1.06e-03, reg_obj = 4.98e+00, resnorm = 1.36e+01\n",
      "iter = 0087, obj = 4.98266e+00, df_obj = 1.06e-03, reg_obj = 4.98e+00, resnorm = 1.36e+01\n"
     ]
    },
    {
     "name": "stdout",
     "output_type": "stream",
     "text": [
      "iter = 0088, obj = 4.98256e+00, df_obj = 1.06e-03, reg_obj = 4.98e+00, resnorm = 1.36e+01\n",
      "iter = 0089, obj = 4.98247e+00, df_obj = 1.06e-03, reg_obj = 4.98e+00, resnorm = 1.36e+01\n",
      "iter = 0090, obj = 4.98257e+00, df_obj = 1.05e-03, reg_obj = 4.98e+00, resnorm = 1.36e+01\n",
      "iter = 0091, obj = 4.98252e+00, df_obj = 1.05e-03, reg_obj = 4.98e+00, resnorm = 1.36e+01\n",
      "iter = 0092, obj = 4.98245e+00, df_obj = 1.05e-03, reg_obj = 4.98e+00, resnorm = 1.36e+01\n",
      "iter = 0093, obj = 4.98243e+00, df_obj = 1.05e-03, reg_obj = 4.98e+00, resnorm = 1.36e+01\n",
      "iter = 0094, obj = 4.98241e+00, df_obj = 1.05e-03, reg_obj = 4.98e+00, resnorm = 1.36e+01\n",
      "iter = 0095, obj = 4.98241e+00, df_obj = 1.05e-03, reg_obj = 4.98e+00, resnorm = 1.36e+01\n",
      "iter = 0096, obj = 4.98239e+00, df_obj = 1.05e-03, reg_obj = 4.98e+00, resnorm = 1.36e+01\n",
      "iter = 0097, obj = 4.98238e+00, df_obj = 1.05e-03, reg_obj = 4.98e+00, resnorm = 1.36e+01\n",
      "iter = 0098, obj = 4.98235e+00, df_obj = 1.05e-03, reg_obj = 4.98e+00, resnorm = 1.36e+01\n",
      "iter = 0099, obj = 4.98247e+00, df_obj = 1.05e-03, reg_obj = 4.98e+00, resnorm = 1.36e+01\n",
      "iter = 0100, obj = 4.98237e+00, df_obj = 1.05e-03, reg_obj = 4.98e+00, resnorm = 1.36e+01\n",
      "iter = 0101, obj = 4.98237e+00, df_obj = 1.04e-03, reg_obj = 4.98e+00, resnorm = 1.36e+01\n",
      "iter = 0102, obj = 4.98236e+00, df_obj = 1.04e-03, reg_obj = 4.98e+00, resnorm = 1.36e+01\n",
      "iter = 0103, obj = 4.98231e+00, df_obj = 1.04e-03, reg_obj = 4.98e+00, resnorm = 1.36e+01\n",
      "iter = 0104, obj = 4.98233e+00, df_obj = 1.04e-03, reg_obj = 4.98e+00, resnorm = 1.36e+01\n",
      "iter = 0105, obj = 4.98230e+00, df_obj = 1.04e-03, reg_obj = 4.98e+00, resnorm = 1.36e+01\n",
      "iter = 0106, obj = 4.98228e+00, df_obj = 1.04e-03, reg_obj = 4.98e+00, resnorm = 1.36e+01\n",
      "iter = 0107, obj = 4.98246e+00, df_obj = 1.04e-03, reg_obj = 4.98e+00, resnorm = 1.36e+01\n",
      "iter = 0108, obj = 4.98238e+00, df_obj = 1.04e-03, reg_obj = 4.98e+00, resnorm = 1.36e+01\n",
      "iter = 0109, obj = 4.98242e+00, df_obj = 1.04e-03, reg_obj = 4.98e+00, resnorm = 1.36e+01\n",
      "iter = 0110, obj = 4.98229e+00, df_obj = 1.04e-03, reg_obj = 4.98e+00, resnorm = 1.36e+01\n",
      "iter = 0111, obj = 4.98228e+00, df_obj = 1.04e-03, reg_obj = 4.98e+00, resnorm = 1.36e+01\n",
      "iter = 0112, obj = 4.98222e+00, df_obj = 1.04e-03, reg_obj = 4.98e+00, resnorm = 1.36e+01\n",
      "iter = 0113, obj = 4.98221e+00, df_obj = 1.04e-03, reg_obj = 4.98e+00, resnorm = 1.36e+01\n",
      "iter = 0114, obj = 4.98220e+00, df_obj = 1.03e-03, reg_obj = 4.98e+00, resnorm = 1.36e+01\n",
      "iter = 0115, obj = 4.98226e+00, df_obj = 1.03e-03, reg_obj = 4.98e+00, resnorm = 1.36e+01\n",
      "iter = 0116, obj = 4.98222e+00, df_obj = 1.03e-03, reg_obj = 4.98e+00, resnorm = 1.36e+01\n",
      "iter = 0117, obj = 4.98221e+00, df_obj = 1.03e-03, reg_obj = 4.98e+00, resnorm = 1.36e+01\n",
      "iter = 0118, obj = 4.98227e+00, df_obj = 1.03e-03, reg_obj = 4.98e+00, resnorm = 1.36e+01\n",
      "iter = 0119, obj = 4.98221e+00, df_obj = 1.03e-03, reg_obj = 4.98e+00, resnorm = 1.36e+01\n",
      "iter = 0120, obj = 4.98222e+00, df_obj = 1.03e-03, reg_obj = 4.98e+00, resnorm = 1.36e+01\n",
      "iter = 0121, obj = 4.98219e+00, df_obj = 1.03e-03, reg_obj = 4.98e+00, resnorm = 1.36e+01\n",
      "iter = 0122, obj = 4.98216e+00, df_obj = 1.03e-03, reg_obj = 4.98e+00, resnorm = 1.36e+01\n",
      "iter = 0123, obj = 4.98214e+00, df_obj = 1.03e-03, reg_obj = 4.98e+00, resnorm = 1.36e+01\n",
      "iter = 0124, obj = 4.98213e+00, df_obj = 1.03e-03, reg_obj = 4.98e+00, resnorm = 1.36e+01\n",
      "Relative model change (0.0000e+00) norm smaller than given tolerance (4.7101e-09)\n",
      "##########################################################################################\n",
      "\t\t\tSPLIT-BREGMAN ALGORITHM end\n",
      "##########################################################################################\n"
     ]
    }
   ],
   "source": [
    "problem = ProblemLinearReg(x.clone().zero(), y, G, regsL1=TV, epsL1=.1)\n",
    "\n",
    "SB = SplitBregmanSolver(BasicStopper(1000), niter_inner=5, niter_solver=10,\n",
    "                        linear_solver='LSQR', breg_weight=1., warm_start=True)\n",
    "SB.setDefaults(save_obj=True, save_model=True)\n",
    "\n",
    "SB.run(problem, verbose=True, inner_verbose=False)"
   ]
  },
  {
   "cell_type": "code",
   "execution_count": 11,
   "metadata": {
    "pycharm": {
     "name": "#%%\n"
    }
   },
   "outputs": [
    {
     "data": {
      "image/png": "[encoded data removed]",
      "text/plain": [
       "<Figure size 864x216 with 1 Axes>"
      ]
     },
     "metadata": {
      "needs_background": "light"
     },
     "output_type": "display_data"
    }
   ],
   "source": [
    "fig, ax = plt.subplots(figsize=(12, 3))\n",
    "plt.plot(t,x.getNdArray(), 'k', label=\"true model\")\n",
    "plt.plot(t,problem.model.getNdArray(), 'r--', label=\"SB\")\n",
    "# plt.title('Split-Bregman, ε=%.e' % problem.epsL1)\n",
    "plt.ylim(-6, 12)\n",
    "ax.autoscale(enable=True, axis='x', tight=True)\n",
    "plt.grid(True)\n",
    "# plt.legend()\n",
    "plt.tight_layout(.5)\n",
    "plt.xlim([0,1])\n",
    "plt.xlabel(\"Time [s]\",fontsize=14)\n",
    "plt.ylabel(\"Amplitude\",fontsize=14)\n",
    "plt.savefig('blocky_inversion_sb.pdf', format='pdf', dpi=300, bbox_inches='tight')"
   ]
  },
  {
   "cell_type": "markdown",
   "metadata": {},
   "source": [
    "##  Example 3: 2D Phantom Deconvolution\n",
    "\n",
    "In this example we reconstruct a phantom CT image starting from a blurred acquisition.\n",
    "Again, we regularize the inversion by imposing the first derivative to be sparse.\n",
    "\n",
    "Model:"
   ]
  },
  {
   "cell_type": "code",
   "execution_count": 37,
   "metadata": {
    "pycharm": {
     "name": "#%%\n"
    }
   },
   "outputs": [
    {
     "data": {
      "image/png": "[encoded data removed]",
      "text/plain": [
       "<Figure size 360x288 with 2 Axes>"
      ]
     },
     "metadata": {
      "needs_background": "light"
     },
     "output_type": "display_data"
    }
   ],
   "source": [
    "x = pyVec.vectorIC(np.load('../testdata/shepp_logan_phantom.npy', allow_pickle=True).astype(np.float32))\n",
    "x = x.scale(1 / 255.)\n",
    "\n",
    "plt.figure(figsize=(5, 4))\n",
    "plt.imshow(x.getNdArray(), cmap='bone', vmin=x.min(), vmax=x.max()), plt.colorbar()\n",
    "plt.title('Model')\n",
    "plt.tight_layout(.5)\n",
    "plt.show()"
   ]
  },
  {
   "cell_type": "markdown",
   "metadata": {
    "pycharm": {
     "name": "#%% md\n"
    }
   },
   "source": [
    "Data:"
   ]
  },
  {
   "cell_type": "code",
   "execution_count": 38,
   "metadata": {
    "pycharm": {
     "name": "#%%\n"
    }
   },
   "outputs": [
    {
     "data": {
      "image/png": "[encoded data removed]",
      "text/plain": [
       "<Figure size 360x288 with 2 Axes>"
      ]
     },
     "metadata": {
      "needs_background": "light"
     },
     "output_type": "display_data"
    }
   ],
   "source": [
    "Op = NpOp.GaussianFilter(x, [3, 3])\n",
    "y = Op * x\n",
    "\n",
    "plt.figure(figsize=(5, 4))\n",
    "plt.imshow(y.getNdArray(), cmap='bone', vmin=x.min(), vmax=x.max()), plt.colorbar()\n",
    "plt.title('Data')\n",
    "plt.tight_layout(.5)\n",
    "plt.show()"
   ]
  },
  {
   "cell_type": "markdown",
   "metadata": {
    "pycharm": {
     "name": "#%% md\n"
    }
   },
   "source": [
    "Problem and solver:"
   ]
  },
  {
   "cell_type": "code",
   "execution_count": 39,
   "metadata": {
    "pycharm": {
     "name": "#%%\n"
    }
   },
   "outputs": [
    {
     "data": {
      "image/png": "[encoded data removed]",
      "text/plain": [
       "<Figure size 432x288 with 2 Axes>"
      ]
     },
     "metadata": {
      "needs_background": "light"
     },
     "output_type": "display_data"
    },
    {
     "data": {
      "image/png": "[encoded data removed]",
      "text/plain": [
       "<Figure size 432x288 with 2 Axes>"
      ]
     },
     "metadata": {
      "needs_background": "light"
     },
     "output_type": "display_data"
    },
    {
     "data": {
      "image/png": "[encoded data removed]",
      "text/plain": [
       "<Figure size 360x288 with 2 Axes>"
      ]
     },
     "metadata": {
      "needs_background": "light"
     },
     "output_type": "display_data"
    }
   ],
   "source": [
    "G = NpOp.Gradient(x)\n",
    "\n",
    "x_grad = G*x\n",
    "plt.imshow(x_grad.vecs[1].getNdArray(), cmap='gray'), plt.colorbar(), plt.title('Gx'), plt.show()\n",
    "plt.imshow(x_grad.vecs[0].getNdArray(), cmap='gray'), plt.colorbar(), plt.title('Gz'), plt.show()\n",
    "\n",
    "# Anisotropic TV\n",
    "x_grad_aniso = x.clone().zero()\n",
    "G.merge_directions(False, x_grad, x_grad_aniso, iso=False)\n",
    "plt.figure(figsize=(5, 4))\n",
    "plt.imshow(x_grad_aniso.getNdArray(), cmap='gray'), plt.colorbar()\n",
    "plt.title('Sum of G')\n",
    "plt.show()"
   ]
  },
  {
   "cell_type": "code",
   "execution_count": 40,
   "metadata": {
    "pycharm": {
     "name": "#%%\n"
    }
   },
   "outputs": [
    {
     "name": "stdout",
     "output_type": "stream",
     "text": [
      "##########################################################################################\n",
      "\t\t\tSPLIT-BREGMAN ALGORITHM\n",
      "\n",
      "\tRestart folder: /tmp/restart_2020-07-15T16-55-48.016224/\n",
      "\tModeling Operator:\tGausFilt\n",
      "\tInner iterations:\t5\n",
      "\tSolver iterations:\t15\n",
      "\tL1 Regularizer ops:\t\tGradient\n",
      "\tL1 Regularizer weights:\t1.00e-03\n",
      "\tBregman update weight:\t1.00e+00\n",
      "\tUsing warm start option for inner problem\n",
      "##########################################################################################\n",
      "\n",
      "iter = 000, obj = 6.57986e+02, df_obj = 6.58e+02, reg_obj = 0.00e+00, resnorm = 3.63e+01\n",
      "iter = 001, obj = 1.62061e+00, df_obj = 3.72e-03, reg_obj = 1.62e+00, resnorm = 1.37e+01\n",
      "iter = 002, obj = 1.63302e+00, df_obj = 1.33e-03, reg_obj = 1.63e+00, resnorm = 1.43e+01\n",
      "iter = 003, obj = 1.62330e+00, df_obj = 7.63e-04, reg_obj = 1.62e+00, resnorm = 1.46e+01\n",
      "iter = 004, obj = 1.61034e+00, df_obj = 5.22e-04, reg_obj = 1.61e+00, resnorm = 1.48e+01\n",
      "iter = 005, obj = 1.59418e+00, df_obj = 3.95e-04, reg_obj = 1.59e+00, resnorm = 1.49e+01\n",
      "iter = 006, obj = 1.57876e+00, df_obj = 3.17e-04, reg_obj = 1.58e+00, resnorm = 1.50e+01\n",
      "iter = 007, obj = 1.56272e+00, df_obj = 2.66e-04, reg_obj = 1.56e+00, resnorm = 1.51e+01\n",
      "iter = 008, obj = 1.54813e+00, df_obj = 2.29e-04, reg_obj = 1.55e+00, resnorm = 1.52e+01\n",
      "iter = 009, obj = 1.53355e+00, df_obj = 2.02e-04, reg_obj = 1.53e+00, resnorm = 1.53e+01\n",
      "iter = 010, obj = 1.52031e+00, df_obj = 1.81e-04, reg_obj = 1.52e+00, resnorm = 1.53e+01\n",
      "iter = 011, obj = 1.50753e+00, df_obj = 1.64e-04, reg_obj = 1.51e+00, resnorm = 1.54e+01\n",
      "iter = 012, obj = 1.49593e+00, df_obj = 1.51e-04, reg_obj = 1.50e+00, resnorm = 1.54e+01\n",
      "iter = 013, obj = 1.48477e+00, df_obj = 1.40e-04, reg_obj = 1.48e+00, resnorm = 1.55e+01\n",
      "iter = 014, obj = 1.47459e+00, df_obj = 1.30e-04, reg_obj = 1.47e+00, resnorm = 1.55e+01\n",
      "iter = 015, obj = 1.46483e+00, df_obj = 1.22e-04, reg_obj = 1.46e+00, resnorm = 1.56e+01\n",
      "iter = 016, obj = 1.45588e+00, df_obj = 1.15e-04, reg_obj = 1.46e+00, resnorm = 1.56e+01\n",
      "iter = 017, obj = 1.44742e+00, df_obj = 1.09e-04, reg_obj = 1.45e+00, resnorm = 1.57e+01\n",
      "iter = 018, obj = 1.43964e+00, df_obj = 1.04e-04, reg_obj = 1.44e+00, resnorm = 1.57e+01\n",
      "iter = 019, obj = 1.43222e+00, df_obj = 9.92e-05, reg_obj = 1.43e+00, resnorm = 1.58e+01\n",
      "iter = 020, obj = 1.42519e+00, df_obj = 9.49e-05, reg_obj = 1.43e+00, resnorm = 1.58e+01\n",
      "iter = 021, obj = 1.41851e+00, df_obj = 9.13e-05, reg_obj = 1.42e+00, resnorm = 1.58e+01\n",
      "iter = 022, obj = 1.41231e+00, df_obj = 8.80e-05, reg_obj = 1.41e+00, resnorm = 1.59e+01\n",
      "iter = 023, obj = 1.40630e+00, df_obj = 8.51e-05, reg_obj = 1.41e+00, resnorm = 1.59e+01\n",
      "iter = 024, obj = 1.40080e+00, df_obj = 8.22e-05, reg_obj = 1.40e+00, resnorm = 1.60e+01\n",
      "iter = 025, obj = 1.39544e+00, df_obj = 7.97e-05, reg_obj = 1.40e+00, resnorm = 1.60e+01\n",
      "iter = 026, obj = 1.39044e+00, df_obj = 7.73e-05, reg_obj = 1.39e+00, resnorm = 1.60e+01\n",
      "iter = 027, obj = 1.38543e+00, df_obj = 7.52e-05, reg_obj = 1.39e+00, resnorm = 1.61e+01\n",
      "iter = 028, obj = 1.38091e+00, df_obj = 7.31e-05, reg_obj = 1.38e+00, resnorm = 1.61e+01\n",
      "iter = 029, obj = 1.37635e+00, df_obj = 7.12e-05, reg_obj = 1.38e+00, resnorm = 1.61e+01\n",
      "iter = 030, obj = 1.37219e+00, df_obj = 6.94e-05, reg_obj = 1.37e+00, resnorm = 1.62e+01\n",
      "iter = 031, obj = 1.36796e+00, df_obj = 6.78e-05, reg_obj = 1.37e+00, resnorm = 1.62e+01\n",
      "iter = 032, obj = 1.36416e+00, df_obj = 6.61e-05, reg_obj = 1.36e+00, resnorm = 1.62e+01\n",
      "iter = 033, obj = 1.36024e+00, df_obj = 6.47e-05, reg_obj = 1.36e+00, resnorm = 1.62e+01\n",
      "iter = 034, obj = 1.35673e+00, df_obj = 6.33e-05, reg_obj = 1.36e+00, resnorm = 1.63e+01\n",
      "iter = 035, obj = 1.35312e+00, df_obj = 6.21e-05, reg_obj = 1.35e+00, resnorm = 1.63e+01\n",
      "iter = 036, obj = 1.34992e+00, df_obj = 6.08e-05, reg_obj = 1.35e+00, resnorm = 1.63e+01\n",
      "iter = 037, obj = 1.34652e+00, df_obj = 5.97e-05, reg_obj = 1.35e+00, resnorm = 1.64e+01\n",
      "iter = 038, obj = 1.34355e+00, df_obj = 5.85e-05, reg_obj = 1.34e+00, resnorm = 1.64e+01\n",
      "iter = 039, obj = 1.34043e+00, df_obj = 5.75e-05, reg_obj = 1.34e+00, resnorm = 1.64e+01\n",
      "iter = 040, obj = 1.33771e+00, df_obj = 5.64e-05, reg_obj = 1.34e+00, resnorm = 1.65e+01\n",
      "iter = 041, obj = 1.33484e+00, df_obj = 5.55e-05, reg_obj = 1.33e+00, resnorm = 1.65e+01\n",
      "iter = 042, obj = 1.33231e+00, df_obj = 5.45e-05, reg_obj = 1.33e+00, resnorm = 1.65e+01\n",
      "iter = 043, obj = 1.32969e+00, df_obj = 5.37e-05, reg_obj = 1.33e+00, resnorm = 1.65e+01\n",
      "iter = 044, obj = 1.32742e+00, df_obj = 5.27e-05, reg_obj = 1.33e+00, resnorm = 1.66e+01\n",
      "iter = 045, obj = 1.32502e+00, df_obj = 5.20e-05, reg_obj = 1.32e+00, resnorm = 1.66e+01\n",
      "iter = 046, obj = 1.32290e+00, df_obj = 5.11e-05, reg_obj = 1.32e+00, resnorm = 1.66e+01\n",
      "iter = 047, obj = 1.32065e+00, df_obj = 5.04e-05, reg_obj = 1.32e+00, resnorm = 1.66e+01\n",
      "iter = 048, obj = 1.31863e+00, df_obj = 4.96e-05, reg_obj = 1.32e+00, resnorm = 1.67e+01\n",
      "iter = 049, obj = 1.31654e+00, df_obj = 4.89e-05, reg_obj = 1.32e+00, resnorm = 1.67e+01\n",
      "iter = 050, obj = 1.31464e+00, df_obj = 4.82e-05, reg_obj = 1.31e+00, resnorm = 1.67e+01\n",
      "iter = 051, obj = 1.31270e+00, df_obj = 4.76e-05, reg_obj = 1.31e+00, resnorm = 1.67e+01\n",
      "iter = 052, obj = 1.31090e+00, df_obj = 4.70e-05, reg_obj = 1.31e+00, resnorm = 1.68e+01\n",
      "iter = 053, obj = 1.30905e+00, df_obj = 4.64e-05, reg_obj = 1.31e+00, resnorm = 1.68e+01\n",
      "iter = 054, obj = 1.30734e+00, df_obj = 4.58e-05, reg_obj = 1.31e+00, resnorm = 1.68e+01\n",
      "iter = 055, obj = 1.30559e+00, df_obj = 4.53e-05, reg_obj = 1.31e+00, resnorm = 1.68e+01\n",
      "iter = 056, obj = 1.30398e+00, df_obj = 4.47e-05, reg_obj = 1.30e+00, resnorm = 1.69e+01\n",
      "iter = 057, obj = 1.30237e+00, df_obj = 4.43e-05, reg_obj = 1.30e+00, resnorm = 1.69e+01\n",
      "iter = 058, obj = 1.30085e+00, df_obj = 4.38e-05, reg_obj = 1.30e+00, resnorm = 1.69e+01\n",
      "iter = 059, obj = 1.29932e+00, df_obj = 4.34e-05, reg_obj = 1.30e+00, resnorm = 1.69e+01\n",
      "iter = 060, obj = 1.29784e+00, df_obj = 4.28e-05, reg_obj = 1.30e+00, resnorm = 1.69e+01\n",
      "iter = 061, obj = 1.29633e+00, df_obj = 4.25e-05, reg_obj = 1.30e+00, resnorm = 1.70e+01\n",
      "iter = 062, obj = 1.29491e+00, df_obj = 4.20e-05, reg_obj = 1.29e+00, resnorm = 1.70e+01\n",
      "iter = 063, obj = 1.29347e+00, df_obj = 4.16e-05, reg_obj = 1.29e+00, resnorm = 1.70e+01\n",
      "iter = 064, obj = 1.29210e+00, df_obj = 4.11e-05, reg_obj = 1.29e+00, resnorm = 1.70e+01\n",
      "iter = 065, obj = 1.29073e+00, df_obj = 4.08e-05, reg_obj = 1.29e+00, resnorm = 1.70e+01\n",
      "iter = 066, obj = 1.28944e+00, df_obj = 4.03e-05, reg_obj = 1.29e+00, resnorm = 1.71e+01\n",
      "iter = 067, obj = 1.28813e+00, df_obj = 4.00e-05, reg_obj = 1.29e+00, resnorm = 1.71e+01\n",
      "iter = 068, obj = 1.28689e+00, df_obj = 3.96e-05, reg_obj = 1.29e+00, resnorm = 1.71e+01\n",
      "iter = 069, obj = 1.28565e+00, df_obj = 3.93e-05, reg_obj = 1.29e+00, resnorm = 1.71e+01\n",
      "iter = 070, obj = 1.28448e+00, df_obj = 3.88e-05, reg_obj = 1.28e+00, resnorm = 1.71e+01\n",
      "iter = 071, obj = 1.28332e+00, df_obj = 3.85e-05, reg_obj = 1.28e+00, resnorm = 1.72e+01\n",
      "iter = 072, obj = 1.28219e+00, df_obj = 3.81e-05, reg_obj = 1.28e+00, resnorm = 1.72e+01\n",
      "iter = 073, obj = 1.28111e+00, df_obj = 3.78e-05, reg_obj = 1.28e+00, resnorm = 1.72e+01\n",
      "iter = 074, obj = 1.28005e+00, df_obj = 3.75e-05, reg_obj = 1.28e+00, resnorm = 1.72e+01\n",
      "iter = 075, obj = 1.27902e+00, df_obj = 3.72e-05, reg_obj = 1.28e+00, resnorm = 1.72e+01\n",
      "iter = 076, obj = 1.27803e+00, df_obj = 3.68e-05, reg_obj = 1.28e+00, resnorm = 1.73e+01\n",
      "iter = 077, obj = 1.27707e+00, df_obj = 3.66e-05, reg_obj = 1.28e+00, resnorm = 1.73e+01\n",
      "iter = 078, obj = 1.27611e+00, df_obj = 3.63e-05, reg_obj = 1.28e+00, resnorm = 1.73e+01\n",
      "iter = 079, obj = 1.27517e+00, df_obj = 3.60e-05, reg_obj = 1.28e+00, resnorm = 1.73e+01\n",
      "iter = 080, obj = 1.27428e+00, df_obj = 3.57e-05, reg_obj = 1.27e+00, resnorm = 1.73e+01\n",
      "iter = 081, obj = 1.27339e+00, df_obj = 3.55e-05, reg_obj = 1.27e+00, resnorm = 1.73e+01\n",
      "iter = 082, obj = 1.27252e+00, df_obj = 3.52e-05, reg_obj = 1.27e+00, resnorm = 1.74e+01\n",
      "iter = 083, obj = 1.27169e+00, df_obj = 3.50e-05, reg_obj = 1.27e+00, resnorm = 1.74e+01\n",
      "iter = 084, obj = 1.27089e+00, df_obj = 3.47e-05, reg_obj = 1.27e+00, resnorm = 1.74e+01\n",
      "iter = 085, obj = 1.27008e+00, df_obj = 3.45e-05, reg_obj = 1.27e+00, resnorm = 1.74e+01\n",
      "iter = 086, obj = 1.26928e+00, df_obj = 3.42e-05, reg_obj = 1.27e+00, resnorm = 1.74e+01\n"
     ]
    },
    {
     "name": "stdout",
     "output_type": "stream",
     "text": [
      "iter = 087, obj = 1.26850e+00, df_obj = 3.40e-05, reg_obj = 1.27e+00, resnorm = 1.74e+01\n",
      "iter = 088, obj = 1.26773e+00, df_obj = 3.38e-05, reg_obj = 1.27e+00, resnorm = 1.75e+01\n",
      "iter = 089, obj = 1.26699e+00, df_obj = 3.36e-05, reg_obj = 1.27e+00, resnorm = 1.75e+01\n",
      "iter = 090, obj = 1.26626e+00, df_obj = 3.33e-05, reg_obj = 1.27e+00, resnorm = 1.75e+01\n",
      "iter = 091, obj = 1.26555e+00, df_obj = 3.31e-05, reg_obj = 1.27e+00, resnorm = 1.75e+01\n",
      "iter = 092, obj = 1.26484e+00, df_obj = 3.29e-05, reg_obj = 1.26e+00, resnorm = 1.75e+01\n",
      "iter = 093, obj = 1.26415e+00, df_obj = 3.27e-05, reg_obj = 1.26e+00, resnorm = 1.75e+01\n",
      "iter = 094, obj = 1.26348e+00, df_obj = 3.25e-05, reg_obj = 1.26e+00, resnorm = 1.75e+01\n",
      "iter = 095, obj = 1.26280e+00, df_obj = 3.24e-05, reg_obj = 1.26e+00, resnorm = 1.76e+01\n",
      "iter = 096, obj = 1.26214e+00, df_obj = 3.22e-05, reg_obj = 1.26e+00, resnorm = 1.76e+01\n",
      "iter = 097, obj = 1.26149e+00, df_obj = 3.20e-05, reg_obj = 1.26e+00, resnorm = 1.76e+01\n",
      "iter = 098, obj = 1.26086e+00, df_obj = 3.18e-05, reg_obj = 1.26e+00, resnorm = 1.76e+01\n",
      "iter = 099, obj = 1.26025e+00, df_obj = 3.16e-05, reg_obj = 1.26e+00, resnorm = 1.76e+01\n",
      "iter = 100, obj = 1.25964e+00, df_obj = 3.14e-05, reg_obj = 1.26e+00, resnorm = 1.76e+01\n",
      "iter = 101, obj = 1.25904e+00, df_obj = 3.13e-05, reg_obj = 1.26e+00, resnorm = 1.76e+01\n",
      "iter = 102, obj = 1.25846e+00, df_obj = 3.11e-05, reg_obj = 1.26e+00, resnorm = 1.77e+01\n",
      "iter = 103, obj = 1.25790e+00, df_obj = 3.09e-05, reg_obj = 1.26e+00, resnorm = 1.77e+01\n",
      "iter = 104, obj = 1.25735e+00, df_obj = 3.08e-05, reg_obj = 1.26e+00, resnorm = 1.77e+01\n",
      "iter = 105, obj = 1.25681e+00, df_obj = 3.06e-05, reg_obj = 1.26e+00, resnorm = 1.77e+01\n",
      "iter = 106, obj = 1.25630e+00, df_obj = 3.05e-05, reg_obj = 1.26e+00, resnorm = 1.77e+01\n",
      "iter = 107, obj = 1.25581e+00, df_obj = 3.03e-05, reg_obj = 1.26e+00, resnorm = 1.77e+01\n",
      "iter = 108, obj = 1.25531e+00, df_obj = 3.02e-05, reg_obj = 1.26e+00, resnorm = 1.77e+01\n",
      "iter = 109, obj = 1.25483e+00, df_obj = 3.00e-05, reg_obj = 1.25e+00, resnorm = 1.77e+01\n",
      "iter = 110, obj = 1.25436e+00, df_obj = 2.99e-05, reg_obj = 1.25e+00, resnorm = 1.78e+01\n",
      "iter = 111, obj = 1.25389e+00, df_obj = 2.98e-05, reg_obj = 1.25e+00, resnorm = 1.78e+01\n",
      "iter = 112, obj = 1.25342e+00, df_obj = 2.96e-05, reg_obj = 1.25e+00, resnorm = 1.78e+01\n",
      "iter = 113, obj = 1.25296e+00, df_obj = 2.95e-05, reg_obj = 1.25e+00, resnorm = 1.78e+01\n",
      "iter = 114, obj = 1.25252e+00, df_obj = 2.94e-05, reg_obj = 1.25e+00, resnorm = 1.78e+01\n",
      "iter = 115, obj = 1.25209e+00, df_obj = 2.93e-05, reg_obj = 1.25e+00, resnorm = 1.78e+01\n",
      "iter = 116, obj = 1.25167e+00, df_obj = 2.91e-05, reg_obj = 1.25e+00, resnorm = 1.78e+01\n",
      "iter = 117, obj = 1.25125e+00, df_obj = 2.90e-05, reg_obj = 1.25e+00, resnorm = 1.78e+01\n",
      "iter = 118, obj = 1.25082e+00, df_obj = 2.89e-05, reg_obj = 1.25e+00, resnorm = 1.78e+01\n",
      "iter = 119, obj = 1.25041e+00, df_obj = 2.88e-05, reg_obj = 1.25e+00, resnorm = 1.79e+01\n",
      "iter = 120, obj = 1.25000e+00, df_obj = 2.87e-05, reg_obj = 1.25e+00, resnorm = 1.79e+01\n",
      "iter = 121, obj = 1.24960e+00, df_obj = 2.86e-05, reg_obj = 1.25e+00, resnorm = 1.79e+01\n",
      "iter = 122, obj = 1.24921e+00, df_obj = 2.85e-05, reg_obj = 1.25e+00, resnorm = 1.79e+01\n",
      "iter = 123, obj = 1.24884e+00, df_obj = 2.84e-05, reg_obj = 1.25e+00, resnorm = 1.79e+01\n",
      "iter = 124, obj = 1.24847e+00, df_obj = 2.83e-05, reg_obj = 1.25e+00, resnorm = 1.79e+01\n",
      "iter = 125, obj = 1.24811e+00, df_obj = 2.82e-05, reg_obj = 1.25e+00, resnorm = 1.79e+01\n",
      "iter = 126, obj = 1.24775e+00, df_obj = 2.81e-05, reg_obj = 1.25e+00, resnorm = 1.79e+01\n",
      "iter = 127, obj = 1.24740e+00, df_obj = 2.80e-05, reg_obj = 1.25e+00, resnorm = 1.79e+01\n",
      "iter = 128, obj = 1.24705e+00, df_obj = 2.79e-05, reg_obj = 1.25e+00, resnorm = 1.79e+01\n",
      "iter = 129, obj = 1.24671e+00, df_obj = 2.78e-05, reg_obj = 1.25e+00, resnorm = 1.79e+01\n",
      "iter = 130, obj = 1.24638e+00, df_obj = 2.77e-05, reg_obj = 1.25e+00, resnorm = 1.80e+01\n",
      "iter = 131, obj = 1.24605e+00, df_obj = 2.77e-05, reg_obj = 1.25e+00, resnorm = 1.80e+01\n",
      "iter = 132, obj = 1.24572e+00, df_obj = 2.76e-05, reg_obj = 1.25e+00, resnorm = 1.80e+01\n",
      "iter = 133, obj = 1.24539e+00, df_obj = 2.75e-05, reg_obj = 1.25e+00, resnorm = 1.80e+01\n",
      "iter = 134, obj = 1.24508e+00, df_obj = 2.74e-05, reg_obj = 1.25e+00, resnorm = 1.80e+01\n",
      "iter = 135, obj = 1.24477e+00, df_obj = 2.73e-05, reg_obj = 1.24e+00, resnorm = 1.80e+01\n",
      "iter = 136, obj = 1.24446e+00, df_obj = 2.72e-05, reg_obj = 1.24e+00, resnorm = 1.80e+01\n",
      "iter = 137, obj = 1.24416e+00, df_obj = 2.71e-05, reg_obj = 1.24e+00, resnorm = 1.80e+01\n",
      "iter = 138, obj = 1.24386e+00, df_obj = 2.70e-05, reg_obj = 1.24e+00, resnorm = 1.80e+01\n",
      "iter = 139, obj = 1.24357e+00, df_obj = 2.70e-05, reg_obj = 1.24e+00, resnorm = 1.80e+01\n",
      "iter = 140, obj = 1.24328e+00, df_obj = 2.69e-05, reg_obj = 1.24e+00, resnorm = 1.80e+01\n",
      "iter = 141, obj = 1.24300e+00, df_obj = 2.68e-05, reg_obj = 1.24e+00, resnorm = 1.81e+01\n",
      "iter = 142, obj = 1.24272e+00, df_obj = 2.67e-05, reg_obj = 1.24e+00, resnorm = 1.81e+01\n",
      "iter = 143, obj = 1.24244e+00, df_obj = 2.66e-05, reg_obj = 1.24e+00, resnorm = 1.81e+01\n",
      "iter = 144, obj = 1.24216e+00, df_obj = 2.66e-05, reg_obj = 1.24e+00, resnorm = 1.81e+01\n",
      "iter = 145, obj = 1.24189e+00, df_obj = 2.65e-05, reg_obj = 1.24e+00, resnorm = 1.81e+01\n",
      "iter = 146, obj = 1.24162e+00, df_obj = 2.64e-05, reg_obj = 1.24e+00, resnorm = 1.81e+01\n",
      "iter = 147, obj = 1.24134e+00, df_obj = 2.64e-05, reg_obj = 1.24e+00, resnorm = 1.81e+01\n"
     ]
    },
    {
     "ename": "KeyboardInterrupt",
     "evalue": "",
     "output_type": "error",
     "traceback": [
      "\u001b[0;31m---------------------------------------------------------------------------\u001b[0m",
      "\u001b[0;31mKeyboardInterrupt\u001b[0m                         Traceback (most recent call last)",
      "\u001b[0;32m<ipython-input-40-7fc862ba7227>\u001b[0m in \u001b[0;36m<module>\u001b[0;34m\u001b[0m\n\u001b[1;32m      3\u001b[0m                         linear_solver='LSQR', breg_weight=1., warm_start=True)\n\u001b[1;32m      4\u001b[0m \u001b[0mSB\u001b[0m\u001b[0;34m.\u001b[0m\u001b[0msetDefaults\u001b[0m\u001b[0;34m(\u001b[0m\u001b[0msave_obj\u001b[0m\u001b[0;34m=\u001b[0m\u001b[0;32mTrue\u001b[0m\u001b[0;34m,\u001b[0m \u001b[0msave_model\u001b[0m\u001b[0;34m=\u001b[0m\u001b[0;32mTrue\u001b[0m\u001b[0;34m)\u001b[0m\u001b[0;34m\u001b[0m\u001b[0m\n\u001b[0;32m----> 5\u001b[0;31m \u001b[0mSB\u001b[0m\u001b[0;34m.\u001b[0m\u001b[0mrun\u001b[0m\u001b[0;34m(\u001b[0m\u001b[0mproblemSB\u001b[0m\u001b[0;34m,\u001b[0m \u001b[0mverbose\u001b[0m\u001b[0;34m=\u001b[0m\u001b[0;32mTrue\u001b[0m\u001b[0;34m,\u001b[0m \u001b[0minner_verbose\u001b[0m\u001b[0;34m=\u001b[0m\u001b[0;32mFalse\u001b[0m\u001b[0;34m)\u001b[0m\u001b[0;34m\u001b[0m\u001b[0m\n\u001b[0m",
      "\u001b[0;32m~/PycharmProjects/python-solver/GenericSolver/python/pySparseSolver.py\u001b[0m in \u001b[0;36mrun\u001b[0;34m(self, problem, verbose, inner_verbose, restart)\u001b[0m\n\u001b[1;32m    671\u001b[0m \u001b[0;34m\u001b[0m\u001b[0m\n\u001b[1;32m    672\u001b[0m                 \u001b[0;31m# solve inner problem\u001b[0m\u001b[0;34m\u001b[0m\u001b[0;34m\u001b[0m\u001b[0m\n\u001b[0;32m--> 673\u001b[0;31m                 \u001b[0mself\u001b[0m\u001b[0;34m.\u001b[0m\u001b[0mlinear_solver\u001b[0m\u001b[0;34m.\u001b[0m\u001b[0mrun\u001b[0m\u001b[0;34m(\u001b[0m\u001b[0mlinear_problem\u001b[0m\u001b[0;34m,\u001b[0m \u001b[0mverbose\u001b[0m\u001b[0;34m=\u001b[0m\u001b[0minner_verbose\u001b[0m\u001b[0;34m)\u001b[0m\u001b[0;34m\u001b[0m\u001b[0m\n\u001b[0m\u001b[1;32m    674\u001b[0m \u001b[0;34m\u001b[0m\u001b[0m\n\u001b[1;32m    675\u001b[0m                 \u001b[0;31m# sb_mdl = linear_problem.model.clone()\u001b[0m\u001b[0;34m\u001b[0m\u001b[0;34m\u001b[0m\u001b[0m\n",
      "\u001b[0;32m~/PycharmProjects/python-solver/GenericSolver/python/pyLinearSolver.py\u001b[0m in \u001b[0;36mrun\u001b[0;34m(self, problem, verbose, restart)\u001b[0m\n\u001b[1;32m    557\u001b[0m             \u001b[0;31m# u = A.matvec(v) - alpha * u\u001b[0m\u001b[0;34m\u001b[0m\u001b[0;34m\u001b[0m\u001b[0m\n\u001b[1;32m    558\u001b[0m             \u001b[0mu\u001b[0m\u001b[0;34m.\u001b[0m\u001b[0mscaleAdd\u001b[0m\u001b[0;34m(\u001b[0m\u001b[0mv_prblm\u001b[0m\u001b[0;34m,\u001b[0m \u001b[0;34m-\u001b[0m\u001b[0malpha\u001b[0m\u001b[0;34m,\u001b[0m \u001b[0;36m1.0\u001b[0m\u001b[0;34m)\u001b[0m\u001b[0;34m\u001b[0m\u001b[0m\n\u001b[0;32m--> 559\u001b[0;31m             \u001b[0mbeta\u001b[0m \u001b[0;34m=\u001b[0m \u001b[0mu\u001b[0m\u001b[0;34m.\u001b[0m\u001b[0mnorm\u001b[0m\u001b[0;34m(\u001b[0m\u001b[0;34m)\u001b[0m\u001b[0;34m\u001b[0m\u001b[0m\n\u001b[0m\u001b[1;32m    560\u001b[0m \u001b[0;34m\u001b[0m\u001b[0m\n\u001b[1;32m    561\u001b[0m             \u001b[0;32mif\u001b[0m \u001b[0mbeta\u001b[0m \u001b[0;34m>\u001b[0m \u001b[0;36m0.\u001b[0m\u001b[0;34m:\u001b[0m\u001b[0;34m\u001b[0m\u001b[0m\n",
      "\u001b[0;32m~/PycharmProjects/python-solver/GenericSolver/python/pyVector.py\u001b[0m in \u001b[0;36mnorm\u001b[0;34m(self, N)\u001b[0m\n\u001b[1;32m    396\u001b[0m     \u001b[0;32mdef\u001b[0m \u001b[0mnorm\u001b[0m\u001b[0;34m(\u001b[0m\u001b[0mself\u001b[0m\u001b[0;34m,\u001b[0m \u001b[0mN\u001b[0m\u001b[0;34m=\u001b[0m\u001b[0;36m2\u001b[0m\u001b[0;34m)\u001b[0m\u001b[0;34m:\u001b[0m\u001b[0;34m\u001b[0m\u001b[0m\n\u001b[1;32m    397\u001b[0m         \u001b[0;34m\"\"\"Function to compute vector N-norm\"\"\"\u001b[0m\u001b[0;34m\u001b[0m\u001b[0m\n\u001b[0;32m--> 398\u001b[0;31m         \u001b[0mnorm\u001b[0m \u001b[0;34m=\u001b[0m \u001b[0mnp\u001b[0m\u001b[0;34m.\u001b[0m\u001b[0mpower\u001b[0m\u001b[0;34m(\u001b[0m\u001b[0;34m[\u001b[0m\u001b[0mself\u001b[0m\u001b[0;34m.\u001b[0m\u001b[0mvecs\u001b[0m\u001b[0;34m[\u001b[0m\u001b[0midx\u001b[0m\u001b[0;34m]\u001b[0m\u001b[0;34m.\u001b[0m\u001b[0mnorm\u001b[0m\u001b[0;34m(\u001b[0m\u001b[0mN\u001b[0m\u001b[0;34m)\u001b[0m \u001b[0;32mfor\u001b[0m \u001b[0midx\u001b[0m \u001b[0;32min\u001b[0m \u001b[0mrange\u001b[0m\u001b[0;34m(\u001b[0m\u001b[0mself\u001b[0m\u001b[0;34m.\u001b[0m\u001b[0mn\u001b[0m\u001b[0;34m)\u001b[0m\u001b[0;34m]\u001b[0m\u001b[0;34m,\u001b[0m \u001b[0mN\u001b[0m\u001b[0;34m)\u001b[0m\u001b[0;34m\u001b[0m\u001b[0m\n\u001b[0m\u001b[1;32m    399\u001b[0m         \u001b[0;32mreturn\u001b[0m \u001b[0mnp\u001b[0m\u001b[0;34m.\u001b[0m\u001b[0mpower\u001b[0m\u001b[0;34m(\u001b[0m\u001b[0msum\u001b[0m\u001b[0;34m(\u001b[0m\u001b[0mnorm\u001b[0m\u001b[0;34m)\u001b[0m\u001b[0;34m,\u001b[0m \u001b[0;36m1.\u001b[0m \u001b[0;34m/\u001b[0m \u001b[0mN\u001b[0m\u001b[0;34m)\u001b[0m\u001b[0;34m\u001b[0m\u001b[0m\n\u001b[1;32m    400\u001b[0m \u001b[0;34m\u001b[0m\u001b[0m\n",
      "\u001b[0;32m~/PycharmProjects/python-solver/GenericSolver/python/pyVector.py\u001b[0m in \u001b[0;36m<listcomp>\u001b[0;34m(.0)\u001b[0m\n\u001b[1;32m    396\u001b[0m     \u001b[0;32mdef\u001b[0m \u001b[0mnorm\u001b[0m\u001b[0;34m(\u001b[0m\u001b[0mself\u001b[0m\u001b[0;34m,\u001b[0m \u001b[0mN\u001b[0m\u001b[0;34m=\u001b[0m\u001b[0;36m2\u001b[0m\u001b[0;34m)\u001b[0m\u001b[0;34m:\u001b[0m\u001b[0;34m\u001b[0m\u001b[0m\n\u001b[1;32m    397\u001b[0m         \u001b[0;34m\"\"\"Function to compute vector N-norm\"\"\"\u001b[0m\u001b[0;34m\u001b[0m\u001b[0m\n\u001b[0;32m--> 398\u001b[0;31m         \u001b[0mnorm\u001b[0m \u001b[0;34m=\u001b[0m \u001b[0mnp\u001b[0m\u001b[0;34m.\u001b[0m\u001b[0mpower\u001b[0m\u001b[0;34m(\u001b[0m\u001b[0;34m[\u001b[0m\u001b[0mself\u001b[0m\u001b[0;34m.\u001b[0m\u001b[0mvecs\u001b[0m\u001b[0;34m[\u001b[0m\u001b[0midx\u001b[0m\u001b[0;34m]\u001b[0m\u001b[0;34m.\u001b[0m\u001b[0mnorm\u001b[0m\u001b[0;34m(\u001b[0m\u001b[0mN\u001b[0m\u001b[0;34m)\u001b[0m \u001b[0;32mfor\u001b[0m \u001b[0midx\u001b[0m \u001b[0;32min\u001b[0m \u001b[0mrange\u001b[0m\u001b[0;34m(\u001b[0m\u001b[0mself\u001b[0m\u001b[0;34m.\u001b[0m\u001b[0mn\u001b[0m\u001b[0;34m)\u001b[0m\u001b[0;34m]\u001b[0m\u001b[0;34m,\u001b[0m \u001b[0mN\u001b[0m\u001b[0;34m)\u001b[0m\u001b[0;34m\u001b[0m\u001b[0m\n\u001b[0m\u001b[1;32m    399\u001b[0m         \u001b[0;32mreturn\u001b[0m \u001b[0mnp\u001b[0m\u001b[0;34m.\u001b[0m\u001b[0mpower\u001b[0m\u001b[0;34m(\u001b[0m\u001b[0msum\u001b[0m\u001b[0;34m(\u001b[0m\u001b[0mnorm\u001b[0m\u001b[0;34m)\u001b[0m\u001b[0;34m,\u001b[0m \u001b[0;36m1.\u001b[0m \u001b[0;34m/\u001b[0m \u001b[0mN\u001b[0m\u001b[0;34m)\u001b[0m\u001b[0;34m\u001b[0m\u001b[0m\n\u001b[1;32m    400\u001b[0m \u001b[0;34m\u001b[0m\u001b[0m\n",
      "\u001b[0;32m~/PycharmProjects/python-solver/GenericSolver/python/pyVector.py\u001b[0m in \u001b[0;36mnorm\u001b[0;34m(self, N)\u001b[0m\n\u001b[1;32m    396\u001b[0m     \u001b[0;32mdef\u001b[0m \u001b[0mnorm\u001b[0m\u001b[0;34m(\u001b[0m\u001b[0mself\u001b[0m\u001b[0;34m,\u001b[0m \u001b[0mN\u001b[0m\u001b[0;34m=\u001b[0m\u001b[0;36m2\u001b[0m\u001b[0;34m)\u001b[0m\u001b[0;34m:\u001b[0m\u001b[0;34m\u001b[0m\u001b[0m\n\u001b[1;32m    397\u001b[0m         \u001b[0;34m\"\"\"Function to compute vector N-norm\"\"\"\u001b[0m\u001b[0;34m\u001b[0m\u001b[0m\n\u001b[0;32m--> 398\u001b[0;31m         \u001b[0mnorm\u001b[0m \u001b[0;34m=\u001b[0m \u001b[0mnp\u001b[0m\u001b[0;34m.\u001b[0m\u001b[0mpower\u001b[0m\u001b[0;34m(\u001b[0m\u001b[0;34m[\u001b[0m\u001b[0mself\u001b[0m\u001b[0;34m.\u001b[0m\u001b[0mvecs\u001b[0m\u001b[0;34m[\u001b[0m\u001b[0midx\u001b[0m\u001b[0;34m]\u001b[0m\u001b[0;34m.\u001b[0m\u001b[0mnorm\u001b[0m\u001b[0;34m(\u001b[0m\u001b[0mN\u001b[0m\u001b[0;34m)\u001b[0m \u001b[0;32mfor\u001b[0m \u001b[0midx\u001b[0m \u001b[0;32min\u001b[0m \u001b[0mrange\u001b[0m\u001b[0;34m(\u001b[0m\u001b[0mself\u001b[0m\u001b[0;34m.\u001b[0m\u001b[0mn\u001b[0m\u001b[0;34m)\u001b[0m\u001b[0;34m]\u001b[0m\u001b[0;34m,\u001b[0m \u001b[0mN\u001b[0m\u001b[0;34m)\u001b[0m\u001b[0;34m\u001b[0m\u001b[0m\n\u001b[0m\u001b[1;32m    399\u001b[0m         \u001b[0;32mreturn\u001b[0m \u001b[0mnp\u001b[0m\u001b[0;34m.\u001b[0m\u001b[0mpower\u001b[0m\u001b[0;34m(\u001b[0m\u001b[0msum\u001b[0m\u001b[0;34m(\u001b[0m\u001b[0mnorm\u001b[0m\u001b[0;34m)\u001b[0m\u001b[0;34m,\u001b[0m \u001b[0;36m1.\u001b[0m \u001b[0;34m/\u001b[0m \u001b[0mN\u001b[0m\u001b[0;34m)\u001b[0m\u001b[0;34m\u001b[0m\u001b[0m\n\u001b[1;32m    400\u001b[0m \u001b[0;34m\u001b[0m\u001b[0m\n",
      "\u001b[0;32m~/PycharmProjects/python-solver/GenericSolver/python/pyVector.py\u001b[0m in \u001b[0;36m<listcomp>\u001b[0;34m(.0)\u001b[0m\n\u001b[1;32m    396\u001b[0m     \u001b[0;32mdef\u001b[0m \u001b[0mnorm\u001b[0m\u001b[0;34m(\u001b[0m\u001b[0mself\u001b[0m\u001b[0;34m,\u001b[0m \u001b[0mN\u001b[0m\u001b[0;34m=\u001b[0m\u001b[0;36m2\u001b[0m\u001b[0;34m)\u001b[0m\u001b[0;34m:\u001b[0m\u001b[0;34m\u001b[0m\u001b[0m\n\u001b[1;32m    397\u001b[0m         \u001b[0;34m\"\"\"Function to compute vector N-norm\"\"\"\u001b[0m\u001b[0;34m\u001b[0m\u001b[0m\n\u001b[0;32m--> 398\u001b[0;31m         \u001b[0mnorm\u001b[0m \u001b[0;34m=\u001b[0m \u001b[0mnp\u001b[0m\u001b[0;34m.\u001b[0m\u001b[0mpower\u001b[0m\u001b[0;34m(\u001b[0m\u001b[0;34m[\u001b[0m\u001b[0mself\u001b[0m\u001b[0;34m.\u001b[0m\u001b[0mvecs\u001b[0m\u001b[0;34m[\u001b[0m\u001b[0midx\u001b[0m\u001b[0;34m]\u001b[0m\u001b[0;34m.\u001b[0m\u001b[0mnorm\u001b[0m\u001b[0;34m(\u001b[0m\u001b[0mN\u001b[0m\u001b[0;34m)\u001b[0m \u001b[0;32mfor\u001b[0m \u001b[0midx\u001b[0m \u001b[0;32min\u001b[0m \u001b[0mrange\u001b[0m\u001b[0;34m(\u001b[0m\u001b[0mself\u001b[0m\u001b[0;34m.\u001b[0m\u001b[0mn\u001b[0m\u001b[0;34m)\u001b[0m\u001b[0;34m]\u001b[0m\u001b[0;34m,\u001b[0m \u001b[0mN\u001b[0m\u001b[0;34m)\u001b[0m\u001b[0;34m\u001b[0m\u001b[0m\n\u001b[0m\u001b[1;32m    399\u001b[0m         \u001b[0;32mreturn\u001b[0m \u001b[0mnp\u001b[0m\u001b[0;34m.\u001b[0m\u001b[0mpower\u001b[0m\u001b[0;34m(\u001b[0m\u001b[0msum\u001b[0m\u001b[0;34m(\u001b[0m\u001b[0mnorm\u001b[0m\u001b[0;34m)\u001b[0m\u001b[0;34m,\u001b[0m \u001b[0;36m1.\u001b[0m \u001b[0;34m/\u001b[0m \u001b[0mN\u001b[0m\u001b[0;34m)\u001b[0m\u001b[0;34m\u001b[0m\u001b[0m\n\u001b[1;32m    400\u001b[0m \u001b[0;34m\u001b[0m\u001b[0m\n",
      "\u001b[0;32m~/PycharmProjects/python-solver/GenericSolver/python/pyVector.py\u001b[0m in \u001b[0;36mnorm\u001b[0;34m(self, N)\u001b[0m\n\u001b[1;32m    396\u001b[0m     \u001b[0;32mdef\u001b[0m \u001b[0mnorm\u001b[0m\u001b[0;34m(\u001b[0m\u001b[0mself\u001b[0m\u001b[0;34m,\u001b[0m \u001b[0mN\u001b[0m\u001b[0;34m=\u001b[0m\u001b[0;36m2\u001b[0m\u001b[0;34m)\u001b[0m\u001b[0;34m:\u001b[0m\u001b[0;34m\u001b[0m\u001b[0m\n\u001b[1;32m    397\u001b[0m         \u001b[0;34m\"\"\"Function to compute vector N-norm\"\"\"\u001b[0m\u001b[0;34m\u001b[0m\u001b[0m\n\u001b[0;32m--> 398\u001b[0;31m         \u001b[0mnorm\u001b[0m \u001b[0;34m=\u001b[0m \u001b[0mnp\u001b[0m\u001b[0;34m.\u001b[0m\u001b[0mpower\u001b[0m\u001b[0;34m(\u001b[0m\u001b[0;34m[\u001b[0m\u001b[0mself\u001b[0m\u001b[0;34m.\u001b[0m\u001b[0mvecs\u001b[0m\u001b[0;34m[\u001b[0m\u001b[0midx\u001b[0m\u001b[0;34m]\u001b[0m\u001b[0;34m.\u001b[0m\u001b[0mnorm\u001b[0m\u001b[0;34m(\u001b[0m\u001b[0mN\u001b[0m\u001b[0;34m)\u001b[0m \u001b[0;32mfor\u001b[0m \u001b[0midx\u001b[0m \u001b[0;32min\u001b[0m \u001b[0mrange\u001b[0m\u001b[0;34m(\u001b[0m\u001b[0mself\u001b[0m\u001b[0;34m.\u001b[0m\u001b[0mn\u001b[0m\u001b[0;34m)\u001b[0m\u001b[0;34m]\u001b[0m\u001b[0;34m,\u001b[0m \u001b[0mN\u001b[0m\u001b[0;34m)\u001b[0m\u001b[0;34m\u001b[0m\u001b[0m\n\u001b[0m\u001b[1;32m    399\u001b[0m         \u001b[0;32mreturn\u001b[0m \u001b[0mnp\u001b[0m\u001b[0;34m.\u001b[0m\u001b[0mpower\u001b[0m\u001b[0;34m(\u001b[0m\u001b[0msum\u001b[0m\u001b[0;34m(\u001b[0m\u001b[0mnorm\u001b[0m\u001b[0;34m)\u001b[0m\u001b[0;34m,\u001b[0m \u001b[0;36m1.\u001b[0m \u001b[0;34m/\u001b[0m \u001b[0mN\u001b[0m\u001b[0;34m)\u001b[0m\u001b[0;34m\u001b[0m\u001b[0m\n\u001b[1;32m    400\u001b[0m \u001b[0;34m\u001b[0m\u001b[0m\n",
      "\u001b[0;32m~/PycharmProjects/python-solver/GenericSolver/python/pyVector.py\u001b[0m in \u001b[0;36m<listcomp>\u001b[0;34m(.0)\u001b[0m\n\u001b[1;32m    396\u001b[0m     \u001b[0;32mdef\u001b[0m \u001b[0mnorm\u001b[0m\u001b[0;34m(\u001b[0m\u001b[0mself\u001b[0m\u001b[0;34m,\u001b[0m \u001b[0mN\u001b[0m\u001b[0;34m=\u001b[0m\u001b[0;36m2\u001b[0m\u001b[0;34m)\u001b[0m\u001b[0;34m:\u001b[0m\u001b[0;34m\u001b[0m\u001b[0m\n\u001b[1;32m    397\u001b[0m         \u001b[0;34m\"\"\"Function to compute vector N-norm\"\"\"\u001b[0m\u001b[0;34m\u001b[0m\u001b[0m\n\u001b[0;32m--> 398\u001b[0;31m         \u001b[0mnorm\u001b[0m \u001b[0;34m=\u001b[0m \u001b[0mnp\u001b[0m\u001b[0;34m.\u001b[0m\u001b[0mpower\u001b[0m\u001b[0;34m(\u001b[0m\u001b[0;34m[\u001b[0m\u001b[0mself\u001b[0m\u001b[0;34m.\u001b[0m\u001b[0mvecs\u001b[0m\u001b[0;34m[\u001b[0m\u001b[0midx\u001b[0m\u001b[0;34m]\u001b[0m\u001b[0;34m.\u001b[0m\u001b[0mnorm\u001b[0m\u001b[0;34m(\u001b[0m\u001b[0mN\u001b[0m\u001b[0;34m)\u001b[0m \u001b[0;32mfor\u001b[0m \u001b[0midx\u001b[0m \u001b[0;32min\u001b[0m \u001b[0mrange\u001b[0m\u001b[0;34m(\u001b[0m\u001b[0mself\u001b[0m\u001b[0;34m.\u001b[0m\u001b[0mn\u001b[0m\u001b[0;34m)\u001b[0m\u001b[0;34m]\u001b[0m\u001b[0;34m,\u001b[0m \u001b[0mN\u001b[0m\u001b[0;34m)\u001b[0m\u001b[0;34m\u001b[0m\u001b[0m\n\u001b[0m\u001b[1;32m    399\u001b[0m         \u001b[0;32mreturn\u001b[0m \u001b[0mnp\u001b[0m\u001b[0;34m.\u001b[0m\u001b[0mpower\u001b[0m\u001b[0;34m(\u001b[0m\u001b[0msum\u001b[0m\u001b[0;34m(\u001b[0m\u001b[0mnorm\u001b[0m\u001b[0;34m)\u001b[0m\u001b[0;34m,\u001b[0m \u001b[0;36m1.\u001b[0m \u001b[0;34m/\u001b[0m \u001b[0mN\u001b[0m\u001b[0;34m)\u001b[0m\u001b[0;34m\u001b[0m\u001b[0m\n\u001b[1;32m    400\u001b[0m \u001b[0;34m\u001b[0m\u001b[0m\n",
      "\u001b[0;32m~/PycharmProjects/python-solver/GenericSolver/python/pyVector.py\u001b[0m in \u001b[0;36mnorm\u001b[0;34m(self, N)\u001b[0m\n\u001b[1;32m    396\u001b[0m     \u001b[0;32mdef\u001b[0m \u001b[0mnorm\u001b[0m\u001b[0;34m(\u001b[0m\u001b[0mself\u001b[0m\u001b[0;34m,\u001b[0m \u001b[0mN\u001b[0m\u001b[0;34m=\u001b[0m\u001b[0;36m2\u001b[0m\u001b[0;34m)\u001b[0m\u001b[0;34m:\u001b[0m\u001b[0;34m\u001b[0m\u001b[0m\n\u001b[1;32m    397\u001b[0m         \u001b[0;34m\"\"\"Function to compute vector N-norm\"\"\"\u001b[0m\u001b[0;34m\u001b[0m\u001b[0m\n\u001b[0;32m--> 398\u001b[0;31m         \u001b[0mnorm\u001b[0m \u001b[0;34m=\u001b[0m \u001b[0mnp\u001b[0m\u001b[0;34m.\u001b[0m\u001b[0mpower\u001b[0m\u001b[0;34m(\u001b[0m\u001b[0;34m[\u001b[0m\u001b[0mself\u001b[0m\u001b[0;34m.\u001b[0m\u001b[0mvecs\u001b[0m\u001b[0;34m[\u001b[0m\u001b[0midx\u001b[0m\u001b[0;34m]\u001b[0m\u001b[0;34m.\u001b[0m\u001b[0mnorm\u001b[0m\u001b[0;34m(\u001b[0m\u001b[0mN\u001b[0m\u001b[0;34m)\u001b[0m \u001b[0;32mfor\u001b[0m \u001b[0midx\u001b[0m \u001b[0;32min\u001b[0m \u001b[0mrange\u001b[0m\u001b[0;34m(\u001b[0m\u001b[0mself\u001b[0m\u001b[0;34m.\u001b[0m\u001b[0mn\u001b[0m\u001b[0;34m)\u001b[0m\u001b[0;34m]\u001b[0m\u001b[0;34m,\u001b[0m \u001b[0mN\u001b[0m\u001b[0;34m)\u001b[0m\u001b[0;34m\u001b[0m\u001b[0m\n\u001b[0m\u001b[1;32m    399\u001b[0m         \u001b[0;32mreturn\u001b[0m \u001b[0mnp\u001b[0m\u001b[0;34m.\u001b[0m\u001b[0mpower\u001b[0m\u001b[0;34m(\u001b[0m\u001b[0msum\u001b[0m\u001b[0;34m(\u001b[0m\u001b[0mnorm\u001b[0m\u001b[0;34m)\u001b[0m\u001b[0;34m,\u001b[0m \u001b[0;36m1.\u001b[0m \u001b[0;34m/\u001b[0m \u001b[0mN\u001b[0m\u001b[0;34m)\u001b[0m\u001b[0;34m\u001b[0m\u001b[0m\n\u001b[1;32m    400\u001b[0m \u001b[0;34m\u001b[0m\u001b[0m\n",
      "\u001b[0;32m~/PycharmProjects/python-solver/GenericSolver/python/pyVector.py\u001b[0m in \u001b[0;36m<listcomp>\u001b[0;34m(.0)\u001b[0m\n\u001b[1;32m    396\u001b[0m     \u001b[0;32mdef\u001b[0m \u001b[0mnorm\u001b[0m\u001b[0;34m(\u001b[0m\u001b[0mself\u001b[0m\u001b[0;34m,\u001b[0m \u001b[0mN\u001b[0m\u001b[0;34m=\u001b[0m\u001b[0;36m2\u001b[0m\u001b[0;34m)\u001b[0m\u001b[0;34m:\u001b[0m\u001b[0;34m\u001b[0m\u001b[0m\n\u001b[1;32m    397\u001b[0m         \u001b[0;34m\"\"\"Function to compute vector N-norm\"\"\"\u001b[0m\u001b[0;34m\u001b[0m\u001b[0m\n\u001b[0;32m--> 398\u001b[0;31m         \u001b[0mnorm\u001b[0m \u001b[0;34m=\u001b[0m \u001b[0mnp\u001b[0m\u001b[0;34m.\u001b[0m\u001b[0mpower\u001b[0m\u001b[0;34m(\u001b[0m\u001b[0;34m[\u001b[0m\u001b[0mself\u001b[0m\u001b[0;34m.\u001b[0m\u001b[0mvecs\u001b[0m\u001b[0;34m[\u001b[0m\u001b[0midx\u001b[0m\u001b[0;34m]\u001b[0m\u001b[0;34m.\u001b[0m\u001b[0mnorm\u001b[0m\u001b[0;34m(\u001b[0m\u001b[0mN\u001b[0m\u001b[0;34m)\u001b[0m \u001b[0;32mfor\u001b[0m \u001b[0midx\u001b[0m \u001b[0;32min\u001b[0m \u001b[0mrange\u001b[0m\u001b[0;34m(\u001b[0m\u001b[0mself\u001b[0m\u001b[0;34m.\u001b[0m\u001b[0mn\u001b[0m\u001b[0;34m)\u001b[0m\u001b[0;34m]\u001b[0m\u001b[0;34m,\u001b[0m \u001b[0mN\u001b[0m\u001b[0;34m)\u001b[0m\u001b[0;34m\u001b[0m\u001b[0m\n\u001b[0m\u001b[1;32m    399\u001b[0m         \u001b[0;32mreturn\u001b[0m \u001b[0mnp\u001b[0m\u001b[0;34m.\u001b[0m\u001b[0mpower\u001b[0m\u001b[0;34m(\u001b[0m\u001b[0msum\u001b[0m\u001b[0;34m(\u001b[0m\u001b[0mnorm\u001b[0m\u001b[0;34m)\u001b[0m\u001b[0;34m,\u001b[0m \u001b[0;36m1.\u001b[0m \u001b[0;34m/\u001b[0m \u001b[0mN\u001b[0m\u001b[0;34m)\u001b[0m\u001b[0;34m\u001b[0m\u001b[0m\n\u001b[1;32m    400\u001b[0m \u001b[0;34m\u001b[0m\u001b[0m\n",
      "\u001b[0;32m~/PycharmProjects/python-solver/GenericSolver/python/pyVector.py\u001b[0m in \u001b[0;36mnorm\u001b[0;34m(self, N)\u001b[0m\n\u001b[1;32m    619\u001b[0m     \u001b[0;32mdef\u001b[0m \u001b[0mnorm\u001b[0m\u001b[0;34m(\u001b[0m\u001b[0mself\u001b[0m\u001b[0;34m,\u001b[0m \u001b[0mN\u001b[0m\u001b[0;34m=\u001b[0m\u001b[0;36m2\u001b[0m\u001b[0;34m)\u001b[0m\u001b[0;34m:\u001b[0m\u001b[0;34m\u001b[0m\u001b[0m\n\u001b[1;32m    620\u001b[0m         \u001b[0;34m\"\"\"Function to compute vector N-norm using Numpy\"\"\"\u001b[0m\u001b[0;34m\u001b[0m\u001b[0m\n\u001b[0;32m--> 621\u001b[0;31m         \u001b[0;32mreturn\u001b[0m \u001b[0mnp\u001b[0m\u001b[0;34m.\u001b[0m\u001b[0mlinalg\u001b[0m\u001b[0;34m.\u001b[0m\u001b[0mnorm\u001b[0m\u001b[0;34m(\u001b[0m\u001b[0mself\u001b[0m\u001b[0;34m.\u001b[0m\u001b[0mgetNdArray\u001b[0m\u001b[0;34m(\u001b[0m\u001b[0;34m)\u001b[0m\u001b[0;34m.\u001b[0m\u001b[0mflatten\u001b[0m\u001b[0;34m(\u001b[0m\u001b[0;34m)\u001b[0m\u001b[0;34m,\u001b[0m \u001b[0mord\u001b[0m\u001b[0;34m=\u001b[0m\u001b[0mN\u001b[0m\u001b[0;34m)\u001b[0m\u001b[0;34m\u001b[0m\u001b[0m\n\u001b[0m\u001b[1;32m    622\u001b[0m \u001b[0;34m\u001b[0m\u001b[0m\n\u001b[1;32m    623\u001b[0m     \u001b[0;32mdef\u001b[0m \u001b[0mzero\u001b[0m\u001b[0;34m(\u001b[0m\u001b[0mself\u001b[0m\u001b[0;34m)\u001b[0m\u001b[0;34m:\u001b[0m\u001b[0;34m\u001b[0m\u001b[0m\n",
      "\u001b[0;31mKeyboardInterrupt\u001b[0m: "
     ]
    }
   ],
   "source": [
    "problemSB = ProblemLinearReg(x.clone().zero(), y, Op, regsL1=G, epsL1=1e-3)\n",
    "SB = SplitBregmanSolver(BasicStopper(niter=200), niter_inner=5, niter_solver=15,\n",
    "                        linear_solver='LSQR', breg_weight=1., warm_start=True)\n",
    "SB.setDefaults(save_obj=True, save_model=True)\n",
    "SB.run(problemSB, verbose=True, inner_verbose=False)"
   ]
  },
  {
   "cell_type": "code",
   "execution_count": null,
   "metadata": {
    "pycharm": {
     "name": "#%%\n"
    }
   },
   "outputs": [],
   "source": [
    "plt.figure(figsize=(5, 4))\n",
    "plt.imshow(problemSB.model.getNdArray(), cmap='bone', vmin=x.min(), vmax=x.max()), plt.colorbar()\n",
    "plt.title(r'SB TV, $\\varepsilon=%.e$, %d iter' % (problemSB.epsL1[0], SB.stopper.niter))\n",
    "plt.tight_layout(.5)\n",
    "plt.show()"
   ]
  },
  {
   "cell_type": "code",
   "execution_count": null,
   "metadata": {
    "pycharm": {
     "name": "#%%\n"
    }
   },
   "outputs": [],
   "source": [
    "plt.figure(figsize=(5, 4))\n",
    "plt.semilogy(SB.obj / SB.obj[0], 'b', lw=3, label='Obj')\n",
    "plt.semilogy(np.asarray(SB.obj_terms)[:, 0] / SB.obj[0], 'r--', label='0.5 $\\Vert\\cdot\\Vert_2^2$')\n",
    "plt.semilogy(np.asarray(SB.obj_terms)[:, 1] / SB.obj[0], 'y--', label='ε $\\Vert\\cdot\\Vert_1$')\n",
    "plt.legend()\n",
    "plt.grid(True)\n",
    "plt.tight_layout(.5)\n",
    "plt.title('Convergence curve')\n",
    "plt.show()"
   ]
  }
 ],
 "metadata": {
  "kernelspec": {
   "display_name": "Python 3",
   "language": "python",
   "name": "python3"
  },
  "language_info": {
   "codemirror_mode": {
    "name": "ipython",
    "version": 3
   },
   "file_extension": ".py",
   "mimetype": "text/x-python",
   "name": "python",
   "nbconvert_exporter": "python",
   "pygments_lexer": "ipython3",
   "version": "3.6.5"
  }
 },
 "nbformat": 4,
 "nbformat_minor": 1
}
