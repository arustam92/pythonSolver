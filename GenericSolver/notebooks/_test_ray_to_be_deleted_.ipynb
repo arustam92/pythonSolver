{
 "cells": [
  {
   "cell_type": "code",
   "execution_count": 1,
   "id": "cac51303",
   "metadata": {},
   "outputs": [],
   "source": [
    "%load_ext autoreload\n",
    "%autoreload 2\n",
    "import dask\n",
    "import dask.distributed\n",
    "from dask_util import DaskClient\n",
    "import dask_util\n",
    "import numpy as np"
   ]
  },
  {
   "cell_type": "code",
   "execution_count": 2,
   "id": "ade93e57",
   "metadata": {
    "scrolled": true
   },
   "outputs": [],
   "source": [
    "local_params = {\n",
    "    \"n_workers\":4, \n",
    "    \"processes\" : True\n",
    "    \n",
    "}\n",
    "\n",
    "# cluster = {\n",
    "#     \"cores\" : 24,\n",
    "#     \"processes\" : 1,\n",
    "#     \"memory\" : \"1GB\",\n",
    "#     \"shebang\" : '#!/usr/bin/env bash',\n",
    "#     \"queue\" : \"serc\",\n",
    "#     \"walltime\" : \"00:10:00\",\n",
    "#     \"local_directory\" : '/tmp',\n",
    "#     \"death_timeout\" : \"15s\",\n",
    "#     \"interface\" : \"ib0\",\n",
    "#     \"log_directory\" : f'{os.environ[\"SCRATCH\"]}/dask_jobqueue_logs/'    \n",
    "# }\n",
    "\n",
    "\n",
    "client = DaskClient(local_params=local_params)"
   ]
  },
  {
   "cell_type": "code",
   "execution_count": 3,
   "id": "18ee4797",
   "metadata": {},
   "outputs": [
    {
     "name": "stdout",
     "output_type": "stream",
     "text": [
      "The autoreload extension is already loaded. To reload it, use:\n",
      "  %reload_ext autoreload\n",
      "WARNING! DATAPATH not found. The folder /tmp will be used to write binary files\n"
     ]
    },
    {
     "name": "stderr",
     "output_type": "stream",
     "text": [
      "/usr/local/lib/python3.9/dist-packages/numpy/core/getlimits.py:500: UserWarning: The value of the smallest subnormal for <class 'numpy.float64'> type is zero.\n",
      "  setattr(self, word, getattr(machar, word).flat[0])\n",
      "/usr/local/lib/python3.9/dist-packages/numpy/core/getlimits.py:89: UserWarning: The value of the smallest subnormal for <class 'numpy.float64'> type is zero.\n",
      "  return self._float_to_str(self.smallest_subnormal)\n",
      "/usr/local/lib/python3.9/dist-packages/numpy/core/getlimits.py:500: UserWarning: The value of the smallest subnormal for <class 'numpy.float32'> type is zero.\n",
      "  setattr(self, word, getattr(machar, word).flat[0])\n",
      "/usr/local/lib/python3.9/dist-packages/numpy/core/getlimits.py:89: UserWarning: The value of the smallest subnormal for <class 'numpy.float32'> type is zero.\n",
      "  return self._float_to_str(self.smallest_subnormal)\n"
     ]
    }
   ],
   "source": [
    "%load_ext autoreload\n",
    "%autoreload 2\n",
    "import SepVector\n",
    "from __pyDaskVector import DaskVector\n",
    "from __pyDaskOperator import DaskOperator\n",
    "import Hypercube\n",
    "import pyOperator as Op\n"
   ]
  },
  {
   "cell_type": "code",
   "execution_count": 4,
   "id": "fb065ade",
   "metadata": {
    "scrolled": true
   },
   "outputs": [
    {
     "data": {
      "text/plain": [
       "floatVector\n",
       "Axis 1: n=10\to=0.000000\td=1.000000\n",
       "Axis 2: n=40\to=0.000000\td=1.000000\n",
       "Axis 3: n=1000\to=0.000000\td=1.000000"
      ]
     },
     "execution_count": 4,
     "metadata": {},
     "output_type": "execute_result"
    }
   ],
   "source": [
    "\n",
    "ns = [10,40,1000]\n",
    "os = [0,0,0]\n",
    "ds = [1,1,1]\n",
    "chunks = (1,1,3)\n",
    "\n",
    "ax = Hypercube.axis(n=1, o=1, d=1)\n",
    "hyp = Hypercube.hypercube(ns=ns, ds=ds, os=os)\n",
    "vec = SepVector.getSepVector(ns=ns, ds=ds, os=os)\n",
    "vec.set(1)"
   ]
  },
  {
   "cell_type": "code",
   "execution_count": 5,
   "id": "7fd1b057",
   "metadata": {
    "scrolled": false
   },
   "outputs": [],
   "source": [
    "# option 1\n",
    "# creating from scratch\n",
    "data = DaskVector(client, vecCls=SepVector.floatVector, ns=ns, ds=ds, os=os, chunks=chunks)"
   ]
  },
  {
   "cell_type": "code",
   "execution_count": 6,
   "id": "f603103e",
   "metadata": {},
   "outputs": [
    {
     "data": {
      "text/plain": [
       "<__pyDaskVector.DaskVector at 0x7fd647b7bd00>"
      ]
     },
     "execution_count": 6,
     "metadata": {},
     "output_type": "execute_result"
    }
   ],
   "source": [
    "data.set(2)"
   ]
  },
  {
   "cell_type": "code",
   "execution_count": 7,
   "id": "a7acb8d1",
   "metadata": {},
   "outputs": [
    {
     "data": {
      "text/plain": [
       "<__pyDaskVector.DaskVector at 0x7fd647b7bd00>"
      ]
     },
     "execution_count": 7,
     "metadata": {},
     "output_type": "execute_result"
    }
   ],
   "source": [
    "data.scale(1)"
   ]
  },
  {
   "cell_type": "code",
   "execution_count": 8,
   "id": "d227488e",
   "metadata": {},
   "outputs": [
    {
     "data": {
      "text/plain": [
       "[array([[[2., 2., 2., ..., 2., 2., 2.],\n",
       "         [2., 2., 2., ..., 2., 2., 2.],\n",
       "         [2., 2., 2., ..., 2., 2., 2.],\n",
       "         ...,\n",
       "         [2., 2., 2., ..., 2., 2., 2.],\n",
       "         [2., 2., 2., ..., 2., 2., 2.],\n",
       "         [2., 2., 2., ..., 2., 2., 2.]],\n",
       " \n",
       "        [[2., 2., 2., ..., 2., 2., 2.],\n",
       "         [2., 2., 2., ..., 2., 2., 2.],\n",
       "         [2., 2., 2., ..., 2., 2., 2.],\n",
       "         ...,\n",
       "         [2., 2., 2., ..., 2., 2., 2.],\n",
       "         [2., 2., 2., ..., 2., 2., 2.],\n",
       "         [2., 2., 2., ..., 2., 2., 2.]],\n",
       " \n",
       "        [[2., 2., 2., ..., 2., 2., 2.],\n",
       "         [2., 2., 2., ..., 2., 2., 2.],\n",
       "         [2., 2., 2., ..., 2., 2., 2.],\n",
       "         ...,\n",
       "         [2., 2., 2., ..., 2., 2., 2.],\n",
       "         [2., 2., 2., ..., 2., 2., 2.],\n",
       "         [2., 2., 2., ..., 2., 2., 2.]],\n",
       " \n",
       "        ...,\n",
       " \n",
       "        [[2., 2., 2., ..., 2., 2., 2.],\n",
       "         [2., 2., 2., ..., 2., 2., 2.],\n",
       "         [2., 2., 2., ..., 2., 2., 2.],\n",
       "         ...,\n",
       "         [2., 2., 2., ..., 2., 2., 2.],\n",
       "         [2., 2., 2., ..., 2., 2., 2.],\n",
       "         [2., 2., 2., ..., 2., 2., 2.]],\n",
       " \n",
       "        [[2., 2., 2., ..., 2., 2., 2.],\n",
       "         [2., 2., 2., ..., 2., 2., 2.],\n",
       "         [2., 2., 2., ..., 2., 2., 2.],\n",
       "         ...,\n",
       "         [2., 2., 2., ..., 2., 2., 2.],\n",
       "         [2., 2., 2., ..., 2., 2., 2.],\n",
       "         [2., 2., 2., ..., 2., 2., 2.]],\n",
       " \n",
       "        [[2., 2., 2., ..., 2., 2., 2.],\n",
       "         [2., 2., 2., ..., 2., 2., 2.],\n",
       "         [2., 2., 2., ..., 2., 2., 2.],\n",
       "         ...,\n",
       "         [2., 2., 2., ..., 2., 2., 2.],\n",
       "         [2., 2., 2., ..., 2., 2., 2.],\n",
       "         [2., 2., 2., ..., 2., 2., 2.]]], dtype=float32),\n",
       " array([[[2., 2., 2., ..., 2., 2., 2.],\n",
       "         [2., 2., 2., ..., 2., 2., 2.],\n",
       "         [2., 2., 2., ..., 2., 2., 2.],\n",
       "         ...,\n",
       "         [2., 2., 2., ..., 2., 2., 2.],\n",
       "         [2., 2., 2., ..., 2., 2., 2.],\n",
       "         [2., 2., 2., ..., 2., 2., 2.]],\n",
       " \n",
       "        [[2., 2., 2., ..., 2., 2., 2.],\n",
       "         [2., 2., 2., ..., 2., 2., 2.],\n",
       "         [2., 2., 2., ..., 2., 2., 2.],\n",
       "         ...,\n",
       "         [2., 2., 2., ..., 2., 2., 2.],\n",
       "         [2., 2., 2., ..., 2., 2., 2.],\n",
       "         [2., 2., 2., ..., 2., 2., 2.]],\n",
       " \n",
       "        [[2., 2., 2., ..., 2., 2., 2.],\n",
       "         [2., 2., 2., ..., 2., 2., 2.],\n",
       "         [2., 2., 2., ..., 2., 2., 2.],\n",
       "         ...,\n",
       "         [2., 2., 2., ..., 2., 2., 2.],\n",
       "         [2., 2., 2., ..., 2., 2., 2.],\n",
       "         [2., 2., 2., ..., 2., 2., 2.]],\n",
       " \n",
       "        ...,\n",
       " \n",
       "        [[2., 2., 2., ..., 2., 2., 2.],\n",
       "         [2., 2., 2., ..., 2., 2., 2.],\n",
       "         [2., 2., 2., ..., 2., 2., 2.],\n",
       "         ...,\n",
       "         [2., 2., 2., ..., 2., 2., 2.],\n",
       "         [2., 2., 2., ..., 2., 2., 2.],\n",
       "         [2., 2., 2., ..., 2., 2., 2.]],\n",
       " \n",
       "        [[2., 2., 2., ..., 2., 2., 2.],\n",
       "         [2., 2., 2., ..., 2., 2., 2.],\n",
       "         [2., 2., 2., ..., 2., 2., 2.],\n",
       "         ...,\n",
       "         [2., 2., 2., ..., 2., 2., 2.],\n",
       "         [2., 2., 2., ..., 2., 2., 2.],\n",
       "         [2., 2., 2., ..., 2., 2., 2.]],\n",
       " \n",
       "        [[2., 2., 2., ..., 2., 2., 2.],\n",
       "         [2., 2., 2., ..., 2., 2., 2.],\n",
       "         [2., 2., 2., ..., 2., 2., 2.],\n",
       "         ...,\n",
       "         [2., 2., 2., ..., 2., 2., 2.],\n",
       "         [2., 2., 2., ..., 2., 2., 2.],\n",
       "         [2., 2., 2., ..., 2., 2., 2.]]], dtype=float32),\n",
       " array([[[2., 2., 2., ..., 2., 2., 2.],\n",
       "         [2., 2., 2., ..., 2., 2., 2.],\n",
       "         [2., 2., 2., ..., 2., 2., 2.],\n",
       "         ...,\n",
       "         [2., 2., 2., ..., 2., 2., 2.],\n",
       "         [2., 2., 2., ..., 2., 2., 2.],\n",
       "         [2., 2., 2., ..., 2., 2., 2.]],\n",
       " \n",
       "        [[2., 2., 2., ..., 2., 2., 2.],\n",
       "         [2., 2., 2., ..., 2., 2., 2.],\n",
       "         [2., 2., 2., ..., 2., 2., 2.],\n",
       "         ...,\n",
       "         [2., 2., 2., ..., 2., 2., 2.],\n",
       "         [2., 2., 2., ..., 2., 2., 2.],\n",
       "         [2., 2., 2., ..., 2., 2., 2.]],\n",
       " \n",
       "        [[2., 2., 2., ..., 2., 2., 2.],\n",
       "         [2., 2., 2., ..., 2., 2., 2.],\n",
       "         [2., 2., 2., ..., 2., 2., 2.],\n",
       "         ...,\n",
       "         [2., 2., 2., ..., 2., 2., 2.],\n",
       "         [2., 2., 2., ..., 2., 2., 2.],\n",
       "         [2., 2., 2., ..., 2., 2., 2.]],\n",
       " \n",
       "        ...,\n",
       " \n",
       "        [[2., 2., 2., ..., 2., 2., 2.],\n",
       "         [2., 2., 2., ..., 2., 2., 2.],\n",
       "         [2., 2., 2., ..., 2., 2., 2.],\n",
       "         ...,\n",
       "         [2., 2., 2., ..., 2., 2., 2.],\n",
       "         [2., 2., 2., ..., 2., 2., 2.],\n",
       "         [2., 2., 2., ..., 2., 2., 2.]],\n",
       " \n",
       "        [[2., 2., 2., ..., 2., 2., 2.],\n",
       "         [2., 2., 2., ..., 2., 2., 2.],\n",
       "         [2., 2., 2., ..., 2., 2., 2.],\n",
       "         ...,\n",
       "         [2., 2., 2., ..., 2., 2., 2.],\n",
       "         [2., 2., 2., ..., 2., 2., 2.],\n",
       "         [2., 2., 2., ..., 2., 2., 2.]],\n",
       " \n",
       "        [[2., 2., 2., ..., 2., 2., 2.],\n",
       "         [2., 2., 2., ..., 2., 2., 2.],\n",
       "         [2., 2., 2., ..., 2., 2., 2.],\n",
       "         ...,\n",
       "         [2., 2., 2., ..., 2., 2., 2.],\n",
       "         [2., 2., 2., ..., 2., 2., 2.],\n",
       "         [2., 2., 2., ..., 2., 2., 2.]]], dtype=float32)]"
      ]
     },
     "execution_count": 8,
     "metadata": {},
     "output_type": "execute_result"
    }
   ],
   "source": [
    "data[:]"
   ]
  },
  {
   "cell_type": "code",
   "execution_count": 9,
   "id": "927640fc",
   "metadata": {},
   "outputs": [],
   "source": [
    "# option 2\n",
    "# creating from existing in-memory SepVector\n",
    "daskVec = DaskVector(client, from_vector=vec, chunks=chunks)"
   ]
  },
  {
   "cell_type": "code",
   "execution_count": 10,
   "id": "3039cf72",
   "metadata": {},
   "outputs": [],
   "source": [
    "d1 = data.clone()\n",
    "d2 = data.cloneSpace()"
   ]
  },
  {
   "cell_type": "code",
   "execution_count": 11,
   "id": "b080c5a3",
   "metadata": {},
   "outputs": [
    {
     "data": {
      "text/html": [
       "<table>\n",
       "    <tr>\n",
       "        <th>Worker</th>\n",
       "        <th>Key count</th>\n",
       "        <th>Key list</th>\n",
       "    </tr>\n",
       "\n",
       "    \n",
       "    <tr>\n",
       "        <td>tcp://127.0.0.1:39497</td>\n",
       "        <td>4</td>\n",
       "        <td>\n",
       "            <details>\n",
       "            <summary style='display:list-item'>Expand</summary>\n",
       "            <table>\n",
       "            \n",
       "                <tr><td>scale-9cb4fafb-17a6-4d0f-bc0d-0fea941e5001-0</td></tr>\n",
       "            \n",
       "                <tr><td>window-5d53a2886eb834257b44ee7ced1da95b</td></tr>\n",
       "            \n",
       "                <tr><td>clone-928a2e7f-ae17-4248-865e-e21cb21f205d-0</td></tr>\n",
       "            \n",
       "                <tr><td>zero-4ded9d35-090f-4236-8785-22e2262aedcc-0</td></tr>\n",
       "            \n",
       "            </table>\n",
       "            </details>\n",
       "        </td>\n",
       "    </tr>\n",
       "    \n",
       "    <tr>\n",
       "        <td>tcp://127.0.0.1:41217</td>\n",
       "        <td>4</td>\n",
       "        <td>\n",
       "            <details>\n",
       "            <summary style='display:list-item'>Expand</summary>\n",
       "            <table>\n",
       "            \n",
       "                <tr><td>scale-9cb4fafb-17a6-4d0f-bc0d-0fea941e5001-1</td></tr>\n",
       "            \n",
       "                <tr><td>window-8cbbf5ca40008b74cdf6af1784f01ef0</td></tr>\n",
       "            \n",
       "                <tr><td>clone-928a2e7f-ae17-4248-865e-e21cb21f205d-1</td></tr>\n",
       "            \n",
       "                <tr><td>zero-4ded9d35-090f-4236-8785-22e2262aedcc-1</td></tr>\n",
       "            \n",
       "            </table>\n",
       "            </details>\n",
       "        </td>\n",
       "    </tr>\n",
       "    \n",
       "    <tr>\n",
       "        <td>tcp://127.0.0.1:42655</td>\n",
       "        <td>3</td>\n",
       "        <td>\n",
       "            <details>\n",
       "            <summary style='display:list-item'>Expand</summary>\n",
       "            <table>\n",
       "            \n",
       "                <tr><td>scale-9cb4fafb-17a6-4d0f-bc0d-0fea941e5001-2</td></tr>\n",
       "            \n",
       "                <tr><td>clone-928a2e7f-ae17-4248-865e-e21cb21f205d-2</td></tr>\n",
       "            \n",
       "                <tr><td>zero-4ded9d35-090f-4236-8785-22e2262aedcc-2</td></tr>\n",
       "            \n",
       "            </table>\n",
       "            </details>\n",
       "        </td>\n",
       "    </tr>\n",
       "    \n",
       "    <tr>\n",
       "        <td>tcp://127.0.0.1:44303</td>\n",
       "        <td>1</td>\n",
       "        <td>\n",
       "            <details>\n",
       "            <summary style='display:list-item'>Expand</summary>\n",
       "            <table>\n",
       "            \n",
       "                <tr><td>window-6a99047fc52bf39712a811683661f46e</td></tr>\n",
       "            \n",
       "            </table>\n",
       "            </details>\n",
       "        </td>\n",
       "    </tr>\n",
       "    \n",
       "</table>"
      ],
      "text/plain": [
       "{'tcp://127.0.0.1:39497': ('scale-9cb4fafb-17a6-4d0f-bc0d-0fea941e5001-0',\n",
       "  'window-5d53a2886eb834257b44ee7ced1da95b',\n",
       "  'clone-928a2e7f-ae17-4248-865e-e21cb21f205d-0',\n",
       "  'zero-4ded9d35-090f-4236-8785-22e2262aedcc-0'),\n",
       " 'tcp://127.0.0.1:41217': ('scale-9cb4fafb-17a6-4d0f-bc0d-0fea941e5001-1',\n",
       "  'window-8cbbf5ca40008b74cdf6af1784f01ef0',\n",
       "  'clone-928a2e7f-ae17-4248-865e-e21cb21f205d-1',\n",
       "  'zero-4ded9d35-090f-4236-8785-22e2262aedcc-1'),\n",
       " 'tcp://127.0.0.1:42655': ('scale-9cb4fafb-17a6-4d0f-bc0d-0fea941e5001-2',\n",
       "  'clone-928a2e7f-ae17-4248-865e-e21cb21f205d-2',\n",
       "  'zero-4ded9d35-090f-4236-8785-22e2262aedcc-2'),\n",
       " 'tcp://127.0.0.1:44303': ('window-6a99047fc52bf39712a811683661f46e',)}"
      ]
     },
     "execution_count": 11,
     "metadata": {},
     "output_type": "execute_result"
    }
   ],
   "source": [
    "client.getClient().has_what()"
   ]
  },
  {
   "cell_type": "code",
   "execution_count": 12,
   "id": "ef747320",
   "metadata": {},
   "outputs": [
    {
     "data": {
      "text/plain": [
       "array([[[Axis 1: n=10\to=0.000000\td=1.000000\n",
       "         Axis 2: n=40\to=0.000000\td=1.000000\n",
       "         Axis 3: n=333\to=0.000000\td=1.000000,\n",
       "         Axis 1: n=10\to=0.000000\td=1.000000\n",
       "         Axis 2: n=40\to=0.000000\td=1.000000\n",
       "         Axis 3: n=333\to=333.000000\td=1.000000,\n",
       "         Axis 1: n=10\to=0.000000\td=1.000000\n",
       "         Axis 2: n=40\to=0.000000\td=1.000000\n",
       "         Axis 3: n=334\to=666.000000\td=1.000000]]], dtype=object)"
      ]
     },
     "execution_count": 12,
     "metadata": {},
     "output_type": "execute_result"
    }
   ],
   "source": [
    "data.getChunkHyper()"
   ]
  },
  {
   "cell_type": "code",
   "execution_count": 13,
   "id": "4c70d1c4",
   "metadata": {},
   "outputs": [
    {
     "data": {
      "text/plain": [
       "array([[[Axis 1: n=10\to=0.000000\td=1.000000\n",
       "         Axis 2: n=40\to=0.000000\td=1.000000\n",
       "         Axis 3: n=333\to=0.000000\td=1.000000,\n",
       "         Axis 1: n=10\to=0.000000\td=1.000000\n",
       "         Axis 2: n=40\to=0.000000\td=1.000000\n",
       "         Axis 3: n=333\to=333.000000\td=1.000000,\n",
       "         Axis 1: n=10\to=0.000000\td=1.000000\n",
       "         Axis 2: n=40\to=0.000000\td=1.000000\n",
       "         Axis 3: n=334\to=666.000000\td=1.000000]]], dtype=object)"
      ]
     },
     "execution_count": 13,
     "metadata": {},
     "output_type": "execute_result"
    }
   ],
   "source": [
    "daskVec.getChunkHyper()"
   ]
  },
  {
   "cell_type": "code",
   "execution_count": 14,
   "id": "d9438a76",
   "metadata": {},
   "outputs": [
    {
     "data": {
      "text/plain": [
       "400000.0"
      ]
     },
     "execution_count": 14,
     "metadata": {},
     "output_type": "execute_result"
    }
   ],
   "source": [
    "daskVec.dot(daskVec)"
   ]
  },
  {
   "cell_type": "code",
   "execution_count": 15,
   "id": "98ef679d",
   "metadata": {},
   "outputs": [
    {
     "data": {
      "text/plain": [
       "True"
      ]
     },
     "execution_count": 15,
     "metadata": {},
     "output_type": "execute_result"
    }
   ],
   "source": [
    "daskVec.checkSame(daskVec)"
   ]
  },
  {
   "cell_type": "code",
   "execution_count": 16,
   "id": "52714c41",
   "metadata": {},
   "outputs": [
    {
     "data": {
      "text/plain": [
       "False"
      ]
     },
     "execution_count": 16,
     "metadata": {},
     "output_type": "execute_result"
    }
   ],
   "source": [
    "daskVec.isDifferent(daskVec)"
   ]
  },
  {
   "cell_type": "code",
   "execution_count": 17,
   "id": "152ef728",
   "metadata": {},
   "outputs": [
    {
     "data": {
      "text/plain": [
       "False"
      ]
     },
     "execution_count": 17,
     "metadata": {},
     "output_type": "execute_result"
    }
   ],
   "source": [
    "d1.isDifferent(d1)"
   ]
  },
  {
   "cell_type": "code",
   "execution_count": 18,
   "id": "67b4710c",
   "metadata": {},
   "outputs": [
    {
     "data": {
      "text/plain": [
       "True"
      ]
     },
     "execution_count": 18,
     "metadata": {},
     "output_type": "execute_result"
    }
   ],
   "source": [
    "d1.isDifferent(daskVec)"
   ]
  },
  {
   "cell_type": "code",
   "execution_count": 19,
   "id": "ef7fde26",
   "metadata": {},
   "outputs": [
    {
     "data": {
      "text/plain": [
       "False"
      ]
     },
     "execution_count": 19,
     "metadata": {},
     "output_type": "execute_result"
    }
   ],
   "source": [
    "d2.isDifferent(d2)"
   ]
  },
  {
   "cell_type": "code",
   "execution_count": 20,
   "id": "087a038c",
   "metadata": {},
   "outputs": [
    {
     "data": {
      "text/plain": [
       "['tcp://127.0.0.1:39497', 'tcp://127.0.0.1:41217', 'tcp://127.0.0.1:42655']"
      ]
     },
     "execution_count": 20,
     "metadata": {},
     "output_type": "execute_result"
    }
   ],
   "source": [
    "d2.get_workers()"
   ]
  },
  {
   "cell_type": "code",
   "execution_count": 21,
   "id": "54f13f5a",
   "metadata": {},
   "outputs": [
    {
     "data": {
      "text/plain": [
       "['tcp://127.0.0.1:39497', 'tcp://127.0.0.1:41217', 'tcp://127.0.0.1:42655']"
      ]
     },
     "execution_count": 21,
     "metadata": {},
     "output_type": "execute_result"
    }
   ],
   "source": [
    "data.get_workers()"
   ]
  },
  {
   "cell_type": "code",
   "execution_count": 22,
   "id": "eae230b0",
   "metadata": {},
   "outputs": [
    {
     "data": {
      "text/plain": [
       "Axis 1: n=10\to=0.000000\td=1.000000\n",
       "Axis 2: n=40\to=0.000000\td=1.000000\n",
       "Axis 3: n=1000\to=0.000000\td=1.000000"
      ]
     },
     "execution_count": 22,
     "metadata": {},
     "output_type": "execute_result"
    }
   ],
   "source": [
    "daskVec.getHyper()"
   ]
  },
  {
   "cell_type": "code",
   "execution_count": 23,
   "id": "0ee2aaaa",
   "metadata": {},
   "outputs": [],
   "source": [
    "scaleOp = DaskOperator(client, Op.scalingOp, daskVec, data, 4)"
   ]
  },
  {
   "cell_type": "code",
   "execution_count": 24,
   "id": "e6b82da3",
   "metadata": {},
   "outputs": [
    {
     "name": "stdout",
     "output_type": "stream",
     "text": [
      "0\n"
     ]
    },
    {
     "name": "stderr",
     "output_type": "stream",
     "text": [
      "/usr/local/lib/python3.9/dist-packages/numpy/core/getlimits.py:500: UserWarning: The value of the smallest subnormal for <class 'numpy.float64'> type is zero.\n",
      "  setattr(self, word, getattr(machar, word).flat[0])\n",
      "/usr/local/lib/python3.9/dist-packages/numpy/core/getlimits.py:89: UserWarning: The value of the smallest subnormal for <class 'numpy.float64'> type is zero.\n",
      "  return self._float_to_str(self.smallest_subnormal)\n",
      "/usr/local/lib/python3.9/dist-packages/numpy/core/getlimits.py:500: UserWarning: The value of the smallest subnormal for <class 'numpy.float32'> type is zero.\n",
      "  setattr(self, word, getattr(machar, word).flat[0])\n",
      "/usr/local/lib/python3.9/dist-packages/numpy/core/getlimits.py:89: UserWarning: The value of the smallest subnormal for <class 'numpy.float32'> type is zero.\n",
      "  return self._float_to_str(self.smallest_subnormal)\n",
      "/usr/local/lib/python3.9/dist-packages/numpy/core/getlimits.py:500: UserWarning: The value of the smallest subnormal for <class 'numpy.float64'> type is zero.\n",
      "  setattr(self, word, getattr(machar, word).flat[0])\n",
      "/usr/local/lib/python3.9/dist-packages/numpy/core/getlimits.py:89: UserWarning: The value of the smallest subnormal for <class 'numpy.float64'> type is zero.\n",
      "  return self._float_to_str(self.smallest_subnormal)\n",
      "/usr/local/lib/python3.9/dist-packages/numpy/core/getlimits.py:500: UserWarning: The value of the smallest subnormal for <class 'numpy.float32'> type is zero.\n",
      "  setattr(self, word, getattr(machar, word).flat[0])\n",
      "/usr/local/lib/python3.9/dist-packages/numpy/core/getlimits.py:89: UserWarning: The value of the smallest subnormal for <class 'numpy.float32'> type is zero.\n",
      "  return self._float_to_str(self.smallest_subnormal)\n",
      "/usr/local/lib/python3.9/dist-packages/numpy/core/getlimits.py:500: UserWarning: The value of the smallest subnormal for <class 'numpy.float64'> type is zero.\n",
      "  setattr(self, word, getattr(machar, word).flat[0])\n",
      "/usr/local/lib/python3.9/dist-packages/numpy/core/getlimits.py:89: UserWarning: The value of the smallest subnormal for <class 'numpy.float64'> type is zero.\n",
      "  return self._float_to_str(self.smallest_subnormal)\n",
      "/usr/local/lib/python3.9/dist-packages/numpy/core/getlimits.py:500: UserWarning: The value of the smallest subnormal for <class 'numpy.float32'> type is zero.\n",
      "  setattr(self, word, getattr(machar, word).flat[0])\n",
      "/usr/local/lib/python3.9/dist-packages/numpy/core/getlimits.py:89: UserWarning: The value of the smallest subnormal for <class 'numpy.float32'> type is zero.\n",
      "  return self._float_to_str(self.smallest_subnormal)\n",
      "/usr/local/lib/python3.9/dist-packages/numpy/core/getlimits.py:500: UserWarning: The value of the smallest subnormal for <class 'numpy.float64'> type is zero.\n",
      "  setattr(self, word, getattr(machar, word).flat[0])\n",
      "/usr/local/lib/python3.9/dist-packages/numpy/core/getlimits.py:89: UserWarning: The value of the smallest subnormal for <class 'numpy.float64'> type is zero.\n",
      "  return self._float_to_str(self.smallest_subnormal)\n",
      "/usr/local/lib/python3.9/dist-packages/numpy/core/getlimits.py:500: UserWarning: The value of the smallest subnormal for <class 'numpy.float32'> type is zero.\n",
      "  setattr(self, word, getattr(machar, word).flat[0])\n",
      "/usr/local/lib/python3.9/dist-packages/numpy/core/getlimits.py:89: UserWarning: The value of the smallest subnormal for <class 'numpy.float32'> type is zero.\n",
      "  return self._float_to_str(self.smallest_subnormal)\n"
     ]
    }
   ],
   "source": [
    "daskVec.set(1)\n",
    "for i in range(1):\n",
    "    print(i)\n",
    "    scaleOp.forward(False, daskVec, data)"
   ]
  },
  {
   "cell_type": "code",
   "execution_count": 25,
   "id": "235ed296",
   "metadata": {},
   "outputs": [
    {
     "data": {
      "text/plain": [
       "['tcp://127.0.0.1:44303', 'tcp://127.0.0.1:44303', 'tcp://127.0.0.1:44303']"
      ]
     },
     "execution_count": 25,
     "metadata": {},
     "output_type": "execute_result"
    }
   ],
   "source": [
    "daskVec.get_workers()"
   ]
  },
  {
   "cell_type": "code",
   "execution_count": 26,
   "id": "8717ce61",
   "metadata": {},
   "outputs": [
    {
     "data": {
      "text/plain": [
       "['tcp://127.0.0.1:44303', 'tcp://127.0.0.1:42655', 'tcp://127.0.0.1:39497']"
      ]
     },
     "execution_count": 26,
     "metadata": {},
     "output_type": "execute_result"
    }
   ],
   "source": [
    "data.get_workers()"
   ]
  },
  {
   "cell_type": "code",
   "execution_count": 27,
   "id": "845cc551",
   "metadata": {},
   "outputs": [
    {
     "data": {
      "text/plain": [
       "[array([[[4., 4., 4., ..., 4., 4., 4.],\n",
       "         [4., 4., 4., ..., 4., 4., 4.],\n",
       "         [4., 4., 4., ..., 4., 4., 4.],\n",
       "         ...,\n",
       "         [4., 4., 4., ..., 4., 4., 4.],\n",
       "         [4., 4., 4., ..., 4., 4., 4.],\n",
       "         [4., 4., 4., ..., 4., 4., 4.]],\n",
       " \n",
       "        [[4., 4., 4., ..., 4., 4., 4.],\n",
       "         [4., 4., 4., ..., 4., 4., 4.],\n",
       "         [4., 4., 4., ..., 4., 4., 4.],\n",
       "         ...,\n",
       "         [4., 4., 4., ..., 4., 4., 4.],\n",
       "         [4., 4., 4., ..., 4., 4., 4.],\n",
       "         [4., 4., 4., ..., 4., 4., 4.]],\n",
       " \n",
       "        [[4., 4., 4., ..., 4., 4., 4.],\n",
       "         [4., 4., 4., ..., 4., 4., 4.],\n",
       "         [4., 4., 4., ..., 4., 4., 4.],\n",
       "         ...,\n",
       "         [4., 4., 4., ..., 4., 4., 4.],\n",
       "         [4., 4., 4., ..., 4., 4., 4.],\n",
       "         [4., 4., 4., ..., 4., 4., 4.]],\n",
       " \n",
       "        ...,\n",
       " \n",
       "        [[4., 4., 4., ..., 4., 4., 4.],\n",
       "         [4., 4., 4., ..., 4., 4., 4.],\n",
       "         [4., 4., 4., ..., 4., 4., 4.],\n",
       "         ...,\n",
       "         [4., 4., 4., ..., 4., 4., 4.],\n",
       "         [4., 4., 4., ..., 4., 4., 4.],\n",
       "         [4., 4., 4., ..., 4., 4., 4.]],\n",
       " \n",
       "        [[4., 4., 4., ..., 4., 4., 4.],\n",
       "         [4., 4., 4., ..., 4., 4., 4.],\n",
       "         [4., 4., 4., ..., 4., 4., 4.],\n",
       "         ...,\n",
       "         [4., 4., 4., ..., 4., 4., 4.],\n",
       "         [4., 4., 4., ..., 4., 4., 4.],\n",
       "         [4., 4., 4., ..., 4., 4., 4.]],\n",
       " \n",
       "        [[4., 4., 4., ..., 4., 4., 4.],\n",
       "         [4., 4., 4., ..., 4., 4., 4.],\n",
       "         [4., 4., 4., ..., 4., 4., 4.],\n",
       "         ...,\n",
       "         [4., 4., 4., ..., 4., 4., 4.],\n",
       "         [4., 4., 4., ..., 4., 4., 4.],\n",
       "         [4., 4., 4., ..., 4., 4., 4.]]], dtype=float32),\n",
       " array([[[4., 4., 4., ..., 4., 4., 4.],\n",
       "         [4., 4., 4., ..., 4., 4., 4.],\n",
       "         [4., 4., 4., ..., 4., 4., 4.],\n",
       "         ...,\n",
       "         [4., 4., 4., ..., 4., 4., 4.],\n",
       "         [4., 4., 4., ..., 4., 4., 4.],\n",
       "         [4., 4., 4., ..., 4., 4., 4.]],\n",
       " \n",
       "        [[4., 4., 4., ..., 4., 4., 4.],\n",
       "         [4., 4., 4., ..., 4., 4., 4.],\n",
       "         [4., 4., 4., ..., 4., 4., 4.],\n",
       "         ...,\n",
       "         [4., 4., 4., ..., 4., 4., 4.],\n",
       "         [4., 4., 4., ..., 4., 4., 4.],\n",
       "         [4., 4., 4., ..., 4., 4., 4.]],\n",
       " \n",
       "        [[4., 4., 4., ..., 4., 4., 4.],\n",
       "         [4., 4., 4., ..., 4., 4., 4.],\n",
       "         [4., 4., 4., ..., 4., 4., 4.],\n",
       "         ...,\n",
       "         [4., 4., 4., ..., 4., 4., 4.],\n",
       "         [4., 4., 4., ..., 4., 4., 4.],\n",
       "         [4., 4., 4., ..., 4., 4., 4.]],\n",
       " \n",
       "        ...,\n",
       " \n",
       "        [[4., 4., 4., ..., 4., 4., 4.],\n",
       "         [4., 4., 4., ..., 4., 4., 4.],\n",
       "         [4., 4., 4., ..., 4., 4., 4.],\n",
       "         ...,\n",
       "         [4., 4., 4., ..., 4., 4., 4.],\n",
       "         [4., 4., 4., ..., 4., 4., 4.],\n",
       "         [4., 4., 4., ..., 4., 4., 4.]],\n",
       " \n",
       "        [[4., 4., 4., ..., 4., 4., 4.],\n",
       "         [4., 4., 4., ..., 4., 4., 4.],\n",
       "         [4., 4., 4., ..., 4., 4., 4.],\n",
       "         ...,\n",
       "         [4., 4., 4., ..., 4., 4., 4.],\n",
       "         [4., 4., 4., ..., 4., 4., 4.],\n",
       "         [4., 4., 4., ..., 4., 4., 4.]],\n",
       " \n",
       "        [[4., 4., 4., ..., 4., 4., 4.],\n",
       "         [4., 4., 4., ..., 4., 4., 4.],\n",
       "         [4., 4., 4., ..., 4., 4., 4.],\n",
       "         ...,\n",
       "         [4., 4., 4., ..., 4., 4., 4.],\n",
       "         [4., 4., 4., ..., 4., 4., 4.],\n",
       "         [4., 4., 4., ..., 4., 4., 4.]]], dtype=float32),\n",
       " array([[[4., 4., 4., ..., 4., 4., 4.],\n",
       "         [4., 4., 4., ..., 4., 4., 4.],\n",
       "         [4., 4., 4., ..., 4., 4., 4.],\n",
       "         ...,\n",
       "         [4., 4., 4., ..., 4., 4., 4.],\n",
       "         [4., 4., 4., ..., 4., 4., 4.],\n",
       "         [4., 4., 4., ..., 4., 4., 4.]],\n",
       " \n",
       "        [[4., 4., 4., ..., 4., 4., 4.],\n",
       "         [4., 4., 4., ..., 4., 4., 4.],\n",
       "         [4., 4., 4., ..., 4., 4., 4.],\n",
       "         ...,\n",
       "         [4., 4., 4., ..., 4., 4., 4.],\n",
       "         [4., 4., 4., ..., 4., 4., 4.],\n",
       "         [4., 4., 4., ..., 4., 4., 4.]],\n",
       " \n",
       "        [[4., 4., 4., ..., 4., 4., 4.],\n",
       "         [4., 4., 4., ..., 4., 4., 4.],\n",
       "         [4., 4., 4., ..., 4., 4., 4.],\n",
       "         ...,\n",
       "         [4., 4., 4., ..., 4., 4., 4.],\n",
       "         [4., 4., 4., ..., 4., 4., 4.],\n",
       "         [4., 4., 4., ..., 4., 4., 4.]],\n",
       " \n",
       "        ...,\n",
       " \n",
       "        [[4., 4., 4., ..., 4., 4., 4.],\n",
       "         [4., 4., 4., ..., 4., 4., 4.],\n",
       "         [4., 4., 4., ..., 4., 4., 4.],\n",
       "         ...,\n",
       "         [4., 4., 4., ..., 4., 4., 4.],\n",
       "         [4., 4., 4., ..., 4., 4., 4.],\n",
       "         [4., 4., 4., ..., 4., 4., 4.]],\n",
       " \n",
       "        [[4., 4., 4., ..., 4., 4., 4.],\n",
       "         [4., 4., 4., ..., 4., 4., 4.],\n",
       "         [4., 4., 4., ..., 4., 4., 4.],\n",
       "         ...,\n",
       "         [4., 4., 4., ..., 4., 4., 4.],\n",
       "         [4., 4., 4., ..., 4., 4., 4.],\n",
       "         [4., 4., 4., ..., 4., 4., 4.]],\n",
       " \n",
       "        [[4., 4., 4., ..., 4., 4., 4.],\n",
       "         [4., 4., 4., ..., 4., 4., 4.],\n",
       "         [4., 4., 4., ..., 4., 4., 4.],\n",
       "         ...,\n",
       "         [4., 4., 4., ..., 4., 4., 4.],\n",
       "         [4., 4., 4., ..., 4., 4., 4.],\n",
       "         [4., 4., 4., ..., 4., 4., 4.]]], dtype=float32)]"
      ]
     },
     "execution_count": 27,
     "metadata": {},
     "output_type": "execute_result"
    }
   ],
   "source": [
    "data[:]"
   ]
  },
  {
   "cell_type": "code",
   "execution_count": 28,
   "id": "e486b695",
   "metadata": {},
   "outputs": [
    {
     "data": {
      "text/plain": [
       "4.0"
      ]
     },
     "execution_count": 28,
     "metadata": {},
     "output_type": "execute_result"
    }
   ],
   "source": [
    "data.min()"
   ]
  },
  {
   "cell_type": "code",
   "execution_count": 29,
   "id": "4d2f709d",
   "metadata": {},
   "outputs": [
    {
     "data": {
      "text/plain": [
       "4.0"
      ]
     },
     "execution_count": 29,
     "metadata": {},
     "output_type": "execute_result"
    }
   ],
   "source": [
    "data.max()"
   ]
  },
  {
   "cell_type": "code",
   "execution_count": 30,
   "id": "87b6d9e4",
   "metadata": {},
   "outputs": [
    {
     "name": "stdout",
     "output_type": "stream",
     "text": [
      "0\n"
     ]
    }
   ],
   "source": [
    "data.set(1)\n",
    "for i in range(1):\n",
    "    print(i)\n",
    "    scaleOp.adjoint(True, daskVec, data)"
   ]
  },
  {
   "cell_type": "code",
   "execution_count": 31,
   "id": "6fab179b",
   "metadata": {},
   "outputs": [
    {
     "data": {
      "text/plain": [
       "[array([[[5., 5., 5., ..., 5., 5., 5.],\n",
       "         [5., 5., 5., ..., 5., 5., 5.],\n",
       "         [5., 5., 5., ..., 5., 5., 5.],\n",
       "         ...,\n",
       "         [5., 5., 5., ..., 5., 5., 5.],\n",
       "         [5., 5., 5., ..., 5., 5., 5.],\n",
       "         [5., 5., 5., ..., 5., 5., 5.]],\n",
       " \n",
       "        [[5., 5., 5., ..., 5., 5., 5.],\n",
       "         [5., 5., 5., ..., 5., 5., 5.],\n",
       "         [5., 5., 5., ..., 5., 5., 5.],\n",
       "         ...,\n",
       "         [5., 5., 5., ..., 5., 5., 5.],\n",
       "         [5., 5., 5., ..., 5., 5., 5.],\n",
       "         [5., 5., 5., ..., 5., 5., 5.]],\n",
       " \n",
       "        [[5., 5., 5., ..., 5., 5., 5.],\n",
       "         [5., 5., 5., ..., 5., 5., 5.],\n",
       "         [5., 5., 5., ..., 5., 5., 5.],\n",
       "         ...,\n",
       "         [5., 5., 5., ..., 5., 5., 5.],\n",
       "         [5., 5., 5., ..., 5., 5., 5.],\n",
       "         [5., 5., 5., ..., 5., 5., 5.]],\n",
       " \n",
       "        ...,\n",
       " \n",
       "        [[5., 5., 5., ..., 5., 5., 5.],\n",
       "         [5., 5., 5., ..., 5., 5., 5.],\n",
       "         [5., 5., 5., ..., 5., 5., 5.],\n",
       "         ...,\n",
       "         [5., 5., 5., ..., 5., 5., 5.],\n",
       "         [5., 5., 5., ..., 5., 5., 5.],\n",
       "         [5., 5., 5., ..., 5., 5., 5.]],\n",
       " \n",
       "        [[5., 5., 5., ..., 5., 5., 5.],\n",
       "         [5., 5., 5., ..., 5., 5., 5.],\n",
       "         [5., 5., 5., ..., 5., 5., 5.],\n",
       "         ...,\n",
       "         [5., 5., 5., ..., 5., 5., 5.],\n",
       "         [5., 5., 5., ..., 5., 5., 5.],\n",
       "         [5., 5., 5., ..., 5., 5., 5.]],\n",
       " \n",
       "        [[5., 5., 5., ..., 5., 5., 5.],\n",
       "         [5., 5., 5., ..., 5., 5., 5.],\n",
       "         [5., 5., 5., ..., 5., 5., 5.],\n",
       "         ...,\n",
       "         [5., 5., 5., ..., 5., 5., 5.],\n",
       "         [5., 5., 5., ..., 5., 5., 5.],\n",
       "         [5., 5., 5., ..., 5., 5., 5.]]], dtype=float32),\n",
       " array([[[5., 5., 5., ..., 5., 5., 5.],\n",
       "         [5., 5., 5., ..., 5., 5., 5.],\n",
       "         [5., 5., 5., ..., 5., 5., 5.],\n",
       "         ...,\n",
       "         [5., 5., 5., ..., 5., 5., 5.],\n",
       "         [5., 5., 5., ..., 5., 5., 5.],\n",
       "         [5., 5., 5., ..., 5., 5., 5.]],\n",
       " \n",
       "        [[5., 5., 5., ..., 5., 5., 5.],\n",
       "         [5., 5., 5., ..., 5., 5., 5.],\n",
       "         [5., 5., 5., ..., 5., 5., 5.],\n",
       "         ...,\n",
       "         [5., 5., 5., ..., 5., 5., 5.],\n",
       "         [5., 5., 5., ..., 5., 5., 5.],\n",
       "         [5., 5., 5., ..., 5., 5., 5.]],\n",
       " \n",
       "        [[5., 5., 5., ..., 5., 5., 5.],\n",
       "         [5., 5., 5., ..., 5., 5., 5.],\n",
       "         [5., 5., 5., ..., 5., 5., 5.],\n",
       "         ...,\n",
       "         [5., 5., 5., ..., 5., 5., 5.],\n",
       "         [5., 5., 5., ..., 5., 5., 5.],\n",
       "         [5., 5., 5., ..., 5., 5., 5.]],\n",
       " \n",
       "        ...,\n",
       " \n",
       "        [[5., 5., 5., ..., 5., 5., 5.],\n",
       "         [5., 5., 5., ..., 5., 5., 5.],\n",
       "         [5., 5., 5., ..., 5., 5., 5.],\n",
       "         ...,\n",
       "         [5., 5., 5., ..., 5., 5., 5.],\n",
       "         [5., 5., 5., ..., 5., 5., 5.],\n",
       "         [5., 5., 5., ..., 5., 5., 5.]],\n",
       " \n",
       "        [[5., 5., 5., ..., 5., 5., 5.],\n",
       "         [5., 5., 5., ..., 5., 5., 5.],\n",
       "         [5., 5., 5., ..., 5., 5., 5.],\n",
       "         ...,\n",
       "         [5., 5., 5., ..., 5., 5., 5.],\n",
       "         [5., 5., 5., ..., 5., 5., 5.],\n",
       "         [5., 5., 5., ..., 5., 5., 5.]],\n",
       " \n",
       "        [[5., 5., 5., ..., 5., 5., 5.],\n",
       "         [5., 5., 5., ..., 5., 5., 5.],\n",
       "         [5., 5., 5., ..., 5., 5., 5.],\n",
       "         ...,\n",
       "         [5., 5., 5., ..., 5., 5., 5.],\n",
       "         [5., 5., 5., ..., 5., 5., 5.],\n",
       "         [5., 5., 5., ..., 5., 5., 5.]]], dtype=float32),\n",
       " array([[[5., 5., 5., ..., 5., 5., 5.],\n",
       "         [5., 5., 5., ..., 5., 5., 5.],\n",
       "         [5., 5., 5., ..., 5., 5., 5.],\n",
       "         ...,\n",
       "         [5., 5., 5., ..., 5., 5., 5.],\n",
       "         [5., 5., 5., ..., 5., 5., 5.],\n",
       "         [5., 5., 5., ..., 5., 5., 5.]],\n",
       " \n",
       "        [[5., 5., 5., ..., 5., 5., 5.],\n",
       "         [5., 5., 5., ..., 5., 5., 5.],\n",
       "         [5., 5., 5., ..., 5., 5., 5.],\n",
       "         ...,\n",
       "         [5., 5., 5., ..., 5., 5., 5.],\n",
       "         [5., 5., 5., ..., 5., 5., 5.],\n",
       "         [5., 5., 5., ..., 5., 5., 5.]],\n",
       " \n",
       "        [[5., 5., 5., ..., 5., 5., 5.],\n",
       "         [5., 5., 5., ..., 5., 5., 5.],\n",
       "         [5., 5., 5., ..., 5., 5., 5.],\n",
       "         ...,\n",
       "         [5., 5., 5., ..., 5., 5., 5.],\n",
       "         [5., 5., 5., ..., 5., 5., 5.],\n",
       "         [5., 5., 5., ..., 5., 5., 5.]],\n",
       " \n",
       "        ...,\n",
       " \n",
       "        [[5., 5., 5., ..., 5., 5., 5.],\n",
       "         [5., 5., 5., ..., 5., 5., 5.],\n",
       "         [5., 5., 5., ..., 5., 5., 5.],\n",
       "         ...,\n",
       "         [5., 5., 5., ..., 5., 5., 5.],\n",
       "         [5., 5., 5., ..., 5., 5., 5.],\n",
       "         [5., 5., 5., ..., 5., 5., 5.]],\n",
       " \n",
       "        [[5., 5., 5., ..., 5., 5., 5.],\n",
       "         [5., 5., 5., ..., 5., 5., 5.],\n",
       "         [5., 5., 5., ..., 5., 5., 5.],\n",
       "         ...,\n",
       "         [5., 5., 5., ..., 5., 5., 5.],\n",
       "         [5., 5., 5., ..., 5., 5., 5.],\n",
       "         [5., 5., 5., ..., 5., 5., 5.]],\n",
       " \n",
       "        [[5., 5., 5., ..., 5., 5., 5.],\n",
       "         [5., 5., 5., ..., 5., 5., 5.],\n",
       "         [5., 5., 5., ..., 5., 5., 5.],\n",
       "         ...,\n",
       "         [5., 5., 5., ..., 5., 5., 5.],\n",
       "         [5., 5., 5., ..., 5., 5., 5.],\n",
       "         [5., 5., 5., ..., 5., 5., 5.]]], dtype=float32)]"
      ]
     },
     "execution_count": 31,
     "metadata": {},
     "output_type": "execute_result"
    }
   ],
   "source": [
    "daskVec[:]"
   ]
  },
  {
   "cell_type": "code",
   "execution_count": 32,
   "id": "5f8f1c46",
   "metadata": {},
   "outputs": [
    {
     "data": {
      "text/plain": [
       "True"
      ]
     },
     "execution_count": 32,
     "metadata": {},
     "output_type": "execute_result"
    }
   ],
   "source": [
    "scaleOp.range.isDifferent(daskVec)"
   ]
  },
  {
   "cell_type": "code",
   "execution_count": 33,
   "id": "8de49bef",
   "metadata": {},
   "outputs": [
    {
     "data": {
      "text/plain": [
       "True"
      ]
     },
     "execution_count": 33,
     "metadata": {},
     "output_type": "execute_result"
    }
   ],
   "source": [
    "scaleOp.range.checkSame(daskVec)"
   ]
  },
  {
   "cell_type": "code",
   "execution_count": 34,
   "id": "47c9cee0",
   "metadata": {},
   "outputs": [],
   "source": [
    "nlOp = Op.NonLinearOperator(scaleOp, scaleOp)"
   ]
  },
  {
   "cell_type": "code",
   "execution_count": 35,
   "id": "032dcdc4",
   "metadata": {},
   "outputs": [],
   "source": [
    "for _ in range(10):\n",
    "    nlOp.set_background(daskVec)"
   ]
  },
  {
   "cell_type": "code",
   "execution_count": 36,
   "id": "d3b78ba8",
   "metadata": {
    "scrolled": false
   },
   "outputs": [],
   "source": [
    "data.zero()\n",
    "for i in range(10):\n",
    "    data.scaleAdd(daskVec, sc2=i)\n",
    "    nlOp.set_background(data)"
   ]
  },
  {
   "cell_type": "code",
   "execution_count": 37,
   "id": "9423f559",
   "metadata": {},
   "outputs": [
    {
     "data": {
      "text/plain": [
       "[array([[[225., 225., 225., ..., 225., 225., 225.],\n",
       "         [225., 225., 225., ..., 225., 225., 225.],\n",
       "         [225., 225., 225., ..., 225., 225., 225.],\n",
       "         ...,\n",
       "         [225., 225., 225., ..., 225., 225., 225.],\n",
       "         [225., 225., 225., ..., 225., 225., 225.],\n",
       "         [225., 225., 225., ..., 225., 225., 225.]],\n",
       " \n",
       "        [[225., 225., 225., ..., 225., 225., 225.],\n",
       "         [225., 225., 225., ..., 225., 225., 225.],\n",
       "         [225., 225., 225., ..., 225., 225., 225.],\n",
       "         ...,\n",
       "         [225., 225., 225., ..., 225., 225., 225.],\n",
       "         [225., 225., 225., ..., 225., 225., 225.],\n",
       "         [225., 225., 225., ..., 225., 225., 225.]],\n",
       " \n",
       "        [[225., 225., 225., ..., 225., 225., 225.],\n",
       "         [225., 225., 225., ..., 225., 225., 225.],\n",
       "         [225., 225., 225., ..., 225., 225., 225.],\n",
       "         ...,\n",
       "         [225., 225., 225., ..., 225., 225., 225.],\n",
       "         [225., 225., 225., ..., 225., 225., 225.],\n",
       "         [225., 225., 225., ..., 225., 225., 225.]],\n",
       " \n",
       "        ...,\n",
       " \n",
       "        [[225., 225., 225., ..., 225., 225., 225.],\n",
       "         [225., 225., 225., ..., 225., 225., 225.],\n",
       "         [225., 225., 225., ..., 225., 225., 225.],\n",
       "         ...,\n",
       "         [225., 225., 225., ..., 225., 225., 225.],\n",
       "         [225., 225., 225., ..., 225., 225., 225.],\n",
       "         [225., 225., 225., ..., 225., 225., 225.]],\n",
       " \n",
       "        [[225., 225., 225., ..., 225., 225., 225.],\n",
       "         [225., 225., 225., ..., 225., 225., 225.],\n",
       "         [225., 225., 225., ..., 225., 225., 225.],\n",
       "         ...,\n",
       "         [225., 225., 225., ..., 225., 225., 225.],\n",
       "         [225., 225., 225., ..., 225., 225., 225.],\n",
       "         [225., 225., 225., ..., 225., 225., 225.]],\n",
       " \n",
       "        [[225., 225., 225., ..., 225., 225., 225.],\n",
       "         [225., 225., 225., ..., 225., 225., 225.],\n",
       "         [225., 225., 225., ..., 225., 225., 225.],\n",
       "         ...,\n",
       "         [225., 225., 225., ..., 225., 225., 225.],\n",
       "         [225., 225., 225., ..., 225., 225., 225.],\n",
       "         [225., 225., 225., ..., 225., 225., 225.]]], dtype=float32),\n",
       " array([[[225., 225., 225., ..., 225., 225., 225.],\n",
       "         [225., 225., 225., ..., 225., 225., 225.],\n",
       "         [225., 225., 225., ..., 225., 225., 225.],\n",
       "         ...,\n",
       "         [225., 225., 225., ..., 225., 225., 225.],\n",
       "         [225., 225., 225., ..., 225., 225., 225.],\n",
       "         [225., 225., 225., ..., 225., 225., 225.]],\n",
       " \n",
       "        [[225., 225., 225., ..., 225., 225., 225.],\n",
       "         [225., 225., 225., ..., 225., 225., 225.],\n",
       "         [225., 225., 225., ..., 225., 225., 225.],\n",
       "         ...,\n",
       "         [225., 225., 225., ..., 225., 225., 225.],\n",
       "         [225., 225., 225., ..., 225., 225., 225.],\n",
       "         [225., 225., 225., ..., 225., 225., 225.]],\n",
       " \n",
       "        [[225., 225., 225., ..., 225., 225., 225.],\n",
       "         [225., 225., 225., ..., 225., 225., 225.],\n",
       "         [225., 225., 225., ..., 225., 225., 225.],\n",
       "         ...,\n",
       "         [225., 225., 225., ..., 225., 225., 225.],\n",
       "         [225., 225., 225., ..., 225., 225., 225.],\n",
       "         [225., 225., 225., ..., 225., 225., 225.]],\n",
       " \n",
       "        ...,\n",
       " \n",
       "        [[225., 225., 225., ..., 225., 225., 225.],\n",
       "         [225., 225., 225., ..., 225., 225., 225.],\n",
       "         [225., 225., 225., ..., 225., 225., 225.],\n",
       "         ...,\n",
       "         [225., 225., 225., ..., 225., 225., 225.],\n",
       "         [225., 225., 225., ..., 225., 225., 225.],\n",
       "         [225., 225., 225., ..., 225., 225., 225.]],\n",
       " \n",
       "        [[225., 225., 225., ..., 225., 225., 225.],\n",
       "         [225., 225., 225., ..., 225., 225., 225.],\n",
       "         [225., 225., 225., ..., 225., 225., 225.],\n",
       "         ...,\n",
       "         [225., 225., 225., ..., 225., 225., 225.],\n",
       "         [225., 225., 225., ..., 225., 225., 225.],\n",
       "         [225., 225., 225., ..., 225., 225., 225.]],\n",
       " \n",
       "        [[225., 225., 225., ..., 225., 225., 225.],\n",
       "         [225., 225., 225., ..., 225., 225., 225.],\n",
       "         [225., 225., 225., ..., 225., 225., 225.],\n",
       "         ...,\n",
       "         [225., 225., 225., ..., 225., 225., 225.],\n",
       "         [225., 225., 225., ..., 225., 225., 225.],\n",
       "         [225., 225., 225., ..., 225., 225., 225.]]], dtype=float32),\n",
       " array([[[225., 225., 225., ..., 225., 225., 225.],\n",
       "         [225., 225., 225., ..., 225., 225., 225.],\n",
       "         [225., 225., 225., ..., 225., 225., 225.],\n",
       "         ...,\n",
       "         [225., 225., 225., ..., 225., 225., 225.],\n",
       "         [225., 225., 225., ..., 225., 225., 225.],\n",
       "         [225., 225., 225., ..., 225., 225., 225.]],\n",
       " \n",
       "        [[225., 225., 225., ..., 225., 225., 225.],\n",
       "         [225., 225., 225., ..., 225., 225., 225.],\n",
       "         [225., 225., 225., ..., 225., 225., 225.],\n",
       "         ...,\n",
       "         [225., 225., 225., ..., 225., 225., 225.],\n",
       "         [225., 225., 225., ..., 225., 225., 225.],\n",
       "         [225., 225., 225., ..., 225., 225., 225.]],\n",
       " \n",
       "        [[225., 225., 225., ..., 225., 225., 225.],\n",
       "         [225., 225., 225., ..., 225., 225., 225.],\n",
       "         [225., 225., 225., ..., 225., 225., 225.],\n",
       "         ...,\n",
       "         [225., 225., 225., ..., 225., 225., 225.],\n",
       "         [225., 225., 225., ..., 225., 225., 225.],\n",
       "         [225., 225., 225., ..., 225., 225., 225.]],\n",
       " \n",
       "        ...,\n",
       " \n",
       "        [[225., 225., 225., ..., 225., 225., 225.],\n",
       "         [225., 225., 225., ..., 225., 225., 225.],\n",
       "         [225., 225., 225., ..., 225., 225., 225.],\n",
       "         ...,\n",
       "         [225., 225., 225., ..., 225., 225., 225.],\n",
       "         [225., 225., 225., ..., 225., 225., 225.],\n",
       "         [225., 225., 225., ..., 225., 225., 225.]],\n",
       " \n",
       "        [[225., 225., 225., ..., 225., 225., 225.],\n",
       "         [225., 225., 225., ..., 225., 225., 225.],\n",
       "         [225., 225., 225., ..., 225., 225., 225.],\n",
       "         ...,\n",
       "         [225., 225., 225., ..., 225., 225., 225.],\n",
       "         [225., 225., 225., ..., 225., 225., 225.],\n",
       "         [225., 225., 225., ..., 225., 225., 225.]],\n",
       " \n",
       "        [[225., 225., 225., ..., 225., 225., 225.],\n",
       "         [225., 225., 225., ..., 225., 225., 225.],\n",
       "         [225., 225., 225., ..., 225., 225., 225.],\n",
       "         ...,\n",
       "         [225., 225., 225., ..., 225., 225., 225.],\n",
       "         [225., 225., 225., ..., 225., 225., 225.],\n",
       "         [225., 225., 225., ..., 225., 225., 225.]]], dtype=float32)]"
      ]
     },
     "execution_count": 37,
     "metadata": {},
     "output_type": "execute_result"
    }
   ],
   "source": [
    "data[:]"
   ]
  },
  {
   "cell_type": "code",
   "execution_count": 38,
   "id": "2e8ee13b",
   "metadata": {},
   "outputs": [
    {
     "name": "stdout",
     "output_type": "stream",
     "text": [
      "0\n",
      "1\n",
      "2\n",
      "3\n",
      "4\n",
      "5\n",
      "6\n",
      "7\n",
      "8\n",
      "9\n"
     ]
    }
   ],
   "source": [
    "data.set(1)\n",
    "for i in range(10):\n",
    "    print(i)\n",
    "    nlOp.nl_op.forward(True, daskVec, data)"
   ]
  },
  {
   "cell_type": "code",
   "execution_count": 39,
   "id": "4ee12638",
   "metadata": {},
   "outputs": [
    {
     "name": "stdout",
     "output_type": "stream",
     "text": [
      "0\n",
      "1\n",
      "2\n",
      "3\n",
      "4\n",
      "5\n",
      "6\n",
      "7\n",
      "8\n",
      "9\n"
     ]
    }
   ],
   "source": [
    "data.set(1)\n",
    "for i in range(10):\n",
    "    print(i)\n",
    "    nlOp.nl_op.adjoint(True, daskVec, data)"
   ]
  },
  {
   "cell_type": "code",
   "execution_count": 40,
   "id": "19855b55",
   "metadata": {},
   "outputs": [
    {
     "name": "stdout",
     "output_type": "stream",
     "text": [
      "0\n",
      "1\n",
      "2\n",
      "3\n",
      "4\n",
      "5\n",
      "6\n",
      "7\n",
      "8\n",
      "9\n"
     ]
    }
   ],
   "source": [
    "data.set(1)\n",
    "for i in range(10):\n",
    "    print(i)\n",
    "    nlOp.lin_op.forward(True, daskVec, data)"
   ]
  },
  {
   "cell_type": "code",
   "execution_count": 41,
   "id": "1ff81825",
   "metadata": {},
   "outputs": [
    {
     "name": "stdout",
     "output_type": "stream",
     "text": [
      "0\n",
      "1\n",
      "2\n",
      "3\n",
      "4\n",
      "5\n",
      "6\n",
      "7\n",
      "8\n",
      "9\n"
     ]
    }
   ],
   "source": [
    "data.set(1)\n",
    "for i in range(10):\n",
    "    print(i)\n",
    "    nlOp.lin_op.adjoint(True, daskVec, data)"
   ]
  },
  {
   "cell_type": "code",
   "execution_count": 42,
   "id": "cf8c62ca",
   "metadata": {},
   "outputs": [
    {
     "name": "stdout",
     "output_type": "stream",
     "text": [
      "##########################################################################################\n",
      "Broyden-Fletcher-Goldfarb-Shanno (BFGS) algorithm \n",
      "Restart folder: /tmp/restart_2023-03-23T17-09-46.201340/\n",
      "##########################################################################################\n",
      "\n",
      "iter = 000, obj = 2.00000e+05, resnorm = 6.32e+02, gradnorm = 2.53e+03, feval = 1, geval = 1\n",
      "iter = 001, obj = 0.00000e+00, resnorm = 0.00e+00, gradnorm = 0.00e+00, feval = 2, geval = 2\n",
      "Terminate: minimum residual tolerance reached 0.0\n",
      "\n",
      "##########################################################################################\n",
      "Broyden-Fletcher-Goldfarb-Shanno (BFGS) algorithm end\n",
      "##########################################################################################\n",
      "\n"
     ]
    }
   ],
   "source": [
    "import numpy as np\n",
    "import SepVector\n",
    "import Hypercube\n",
    "import genericIO\n",
    "import WEM\n",
    "import Operator\n",
    "\n",
    "import pyVector as Vec\n",
    "import pyOperator as Op\n",
    "import pyNonLinearSolver as Solver\n",
    "import pyLinearSolver as LinearSolver\n",
    "import pyProblem as Prblm\n",
    "import pyStopper as Stopper\n",
    "from sys_util import logger\n",
    "import json\n",
    "import sys\n",
    "\n",
    "import dask_util\n",
    "from __pyDaskVector import DaskVector\n",
    "from __pyDaskOperator import DaskOperator\n",
    "\n",
    "\n",
    "model_pre = data.clone()\n",
    "model_pre.zero()\n",
    "nlOp = Op.NonLinearOperator(scaleOp,scaleOp)\n",
    "\n",
    "#Create L2-norm linear problem\n",
    "niter = 100\n",
    "minb = model_pre.clone()\n",
    "maxb = model_pre.clone()\n",
    "minb.set(0)\n",
    "maxb.set(2)\n",
    "\n",
    "L2Prob = Prblm.ProblemL2NonLinear(model_pre,data,nlOp)\n",
    "# # # #Create stopper\n",
    "Stop  = Stopper.BasicStopper(niter=niter)\n",
    "# # # #Create solver\n",
    "# # # log = par['non_linear_solver']['prefix'].split('/')\n",
    "LBFGSsolver = Solver.LBFGSsolver(Stop, logger=logger('test.txt'))\n",
    "# # # #Running the solver\n",
    "# # # LBFGSsolver.setDefaults(**par['non_linear_solver'])\n",
    "LBFGSsolver.run(L2Prob,verbose=True,restart=False)\n"
   ]
  },
  {
   "cell_type": "code",
   "execution_count": 43,
   "id": "aaca9a85",
   "metadata": {
    "scrolled": false
   },
   "outputs": [
    {
     "data": {
      "text/html": [
       "<table>\n",
       "    <tr>\n",
       "        <th>Key</th>\n",
       "        <th>Copies</th>\n",
       "        <th>Workers</th>\n",
       "    </tr>\n",
       "\n",
       "    \n",
       "    <tr>\n",
       "        <td>floatVector-595cfdd1dcf73321579315046e407455</td>\n",
       "        <td>0</td>\n",
       "        <td></td>\n",
       "    </tr>\n",
       "    \n",
       "    <tr>\n",
       "        <td>floatVector-0db53e00f86c4b3041dff31b974f2e51</td>\n",
       "        <td>0</td>\n",
       "        <td></td>\n",
       "    </tr>\n",
       "    \n",
       "    <tr>\n",
       "        <td>floatVector-8f225281933346fe820b753a2192adf1</td>\n",
       "        <td>0</td>\n",
       "        <td></td>\n",
       "    </tr>\n",
       "    \n",
       "    <tr>\n",
       "        <td>set-5a418791-36a0-4869-93ce-ec1d625bf40e-2</td>\n",
       "        <td>0</td>\n",
       "        <td></td>\n",
       "    </tr>\n",
       "    \n",
       "    <tr>\n",
       "        <td>set-5a418791-36a0-4869-93ce-ec1d625bf40e-0</td>\n",
       "        <td>0</td>\n",
       "        <td></td>\n",
       "    </tr>\n",
       "    \n",
       "    <tr>\n",
       "        <td>set-5a418791-36a0-4869-93ce-ec1d625bf40e-1</td>\n",
       "        <td>0</td>\n",
       "        <td></td>\n",
       "    </tr>\n",
       "    \n",
       "    <tr>\n",
       "        <td>scale-9cb4fafb-17a6-4d0f-bc0d-0fea941e5001-0</td>\n",
       "        <td>0</td>\n",
       "        <td></td>\n",
       "    </tr>\n",
       "    \n",
       "    <tr>\n",
       "        <td>scale-9cb4fafb-17a6-4d0f-bc0d-0fea941e5001-2</td>\n",
       "        <td>0</td>\n",
       "        <td></td>\n",
       "    </tr>\n",
       "    \n",
       "    <tr>\n",
       "        <td>scale-9cb4fafb-17a6-4d0f-bc0d-0fea941e5001-1</td>\n",
       "        <td>0</td>\n",
       "        <td></td>\n",
       "    </tr>\n",
       "    \n",
       "    <tr>\n",
       "        <td>clone-928a2e7f-ae17-4248-865e-e21cb21f205d-0</td>\n",
       "        <td>1</td>\n",
       "        <td>tcp://127.0.0.1:44303</td>\n",
       "    </tr>\n",
       "    \n",
       "    <tr>\n",
       "        <td>clone-928a2e7f-ae17-4248-865e-e21cb21f205d-1</td>\n",
       "        <td>1</td>\n",
       "        <td>tcp://127.0.0.1:41217</td>\n",
       "    </tr>\n",
       "    \n",
       "    <tr>\n",
       "        <td>clone-928a2e7f-ae17-4248-865e-e21cb21f205d-2</td>\n",
       "        <td>1</td>\n",
       "        <td>tcp://127.0.0.1:42655</td>\n",
       "    </tr>\n",
       "    \n",
       "    <tr>\n",
       "        <td>clone-e45d9734-0208-4aa3-9f44-708069d31b3e-1</td>\n",
       "        <td>0</td>\n",
       "        <td></td>\n",
       "    </tr>\n",
       "    \n",
       "    <tr>\n",
       "        <td>clone-e45d9734-0208-4aa3-9f44-708069d31b3e-0</td>\n",
       "        <td>0</td>\n",
       "        <td></td>\n",
       "    </tr>\n",
       "    \n",
       "    <tr>\n",
       "        <td>clone-e45d9734-0208-4aa3-9f44-708069d31b3e-2</td>\n",
       "        <td>0</td>\n",
       "        <td></td>\n",
       "    </tr>\n",
       "    \n",
       "    <tr>\n",
       "        <td>zero-4ded9d35-090f-4236-8785-22e2262aedcc-0</td>\n",
       "        <td>1</td>\n",
       "        <td>tcp://127.0.0.1:39497</td>\n",
       "    </tr>\n",
       "    \n",
       "    <tr>\n",
       "        <td>zero-4ded9d35-090f-4236-8785-22e2262aedcc-1</td>\n",
       "        <td>1</td>\n",
       "        <td>tcp://127.0.0.1:41217</td>\n",
       "    </tr>\n",
       "    \n",
       "    <tr>\n",
       "        <td>zero-4ded9d35-090f-4236-8785-22e2262aedcc-2</td>\n",
       "        <td>1</td>\n",
       "        <td>tcp://127.0.0.1:42655</td>\n",
       "    </tr>\n",
       "    \n",
       "    <tr>\n",
       "        <td>clone-d54e69d0-ccff-43fd-b564-3e82c7863a18-2</td>\n",
       "        <td>2</td>\n",
       "        <td>tcp://127.0.0.1:39497, tcp://127.0.0.1:42655</td>\n",
       "    </tr>\n",
       "    \n",
       "    <tr>\n",
       "        <td>clone-d54e69d0-ccff-43fd-b564-3e82c7863a18-1</td>\n",
       "        <td>1</td>\n",
       "        <td>tcp://127.0.0.1:42655</td>\n",
       "    </tr>\n",
       "    \n",
       "    <tr>\n",
       "        <td>clone-d54e69d0-ccff-43fd-b564-3e82c7863a18-0</td>\n",
       "        <td>2</td>\n",
       "        <td>tcp://127.0.0.1:44303, tcp://127.0.0.1:41217</td>\n",
       "    </tr>\n",
       "    \n",
       "    <tr>\n",
       "        <td>clone-7faa46cd-10b8-446e-85ad-2e53e022ba0b-0</td>\n",
       "        <td>1</td>\n",
       "        <td>tcp://127.0.0.1:44303</td>\n",
       "    </tr>\n",
       "    \n",
       "    <tr>\n",
       "        <td>clone-7faa46cd-10b8-446e-85ad-2e53e022ba0b-2</td>\n",
       "        <td>1</td>\n",
       "        <td>tcp://127.0.0.1:39497</td>\n",
       "    </tr>\n",
       "    \n",
       "    <tr>\n",
       "        <td>clone-7faa46cd-10b8-446e-85ad-2e53e022ba0b-1</td>\n",
       "        <td>2</td>\n",
       "        <td>tcp://127.0.0.1:41217, tcp://127.0.0.1:42655</td>\n",
       "    </tr>\n",
       "    \n",
       "    <tr>\n",
       "        <td>set-b7047449-5823-44eb-8e88-896788ac0639-0</td>\n",
       "        <td>1</td>\n",
       "        <td>tcp://127.0.0.1:44303</td>\n",
       "    </tr>\n",
       "    \n",
       "    <tr>\n",
       "        <td>set-b7047449-5823-44eb-8e88-896788ac0639-2</td>\n",
       "        <td>1</td>\n",
       "        <td>tcp://127.0.0.1:39497</td>\n",
       "    </tr>\n",
       "    \n",
       "    <tr>\n",
       "        <td>set-b7047449-5823-44eb-8e88-896788ac0639-1</td>\n",
       "        <td>2</td>\n",
       "        <td>tcp://127.0.0.1:41217, tcp://127.0.0.1:42655</td>\n",
       "    </tr>\n",
       "    \n",
       "    <tr>\n",
       "        <td>scaleAdd-145ff9b5-8673-4a34-8147-429e98b1b68f-2</td>\n",
       "        <td>1</td>\n",
       "        <td>tcp://127.0.0.1:39497</td>\n",
       "    </tr>\n",
       "    \n",
       "    <tr>\n",
       "        <td>scaleAdd-145ff9b5-8673-4a34-8147-429e98b1b68f-1</td>\n",
       "        <td>1</td>\n",
       "        <td>tcp://127.0.0.1:42655</td>\n",
       "    </tr>\n",
       "    \n",
       "    <tr>\n",
       "        <td>scaleAdd-145ff9b5-8673-4a34-8147-429e98b1b68f-0</td>\n",
       "        <td>1</td>\n",
       "        <td>tcp://127.0.0.1:41217</td>\n",
       "    </tr>\n",
       "    \n",
       "    <tr>\n",
       "        <td>clone-01b73778-2a5b-48d5-b663-9ba8744cc48c-1</td>\n",
       "        <td>0</td>\n",
       "        <td></td>\n",
       "    </tr>\n",
       "    \n",
       "    <tr>\n",
       "        <td>clone-01b73778-2a5b-48d5-b663-9ba8744cc48c-2</td>\n",
       "        <td>0</td>\n",
       "        <td></td>\n",
       "    </tr>\n",
       "    \n",
       "    <tr>\n",
       "        <td>clone-01b73778-2a5b-48d5-b663-9ba8744cc48c-0</td>\n",
       "        <td>0</td>\n",
       "        <td></td>\n",
       "    </tr>\n",
       "    \n",
       "    <tr>\n",
       "        <td>zero-84c946bb-6263-45b5-93c1-c32557831341-2</td>\n",
       "        <td>0</td>\n",
       "        <td></td>\n",
       "    </tr>\n",
       "    \n",
       "    <tr>\n",
       "        <td>zero-84c946bb-6263-45b5-93c1-c32557831341-1</td>\n",
       "        <td>0</td>\n",
       "        <td></td>\n",
       "    </tr>\n",
       "    \n",
       "    <tr>\n",
       "        <td>zero-84c946bb-6263-45b5-93c1-c32557831341-0</td>\n",
       "        <td>0</td>\n",
       "        <td></td>\n",
       "    </tr>\n",
       "    \n",
       "    <tr>\n",
       "        <td>clone-a4894485-5276-4ba0-b69b-539913d1b2ad-2</td>\n",
       "        <td>1</td>\n",
       "        <td>tcp://127.0.0.1:39497</td>\n",
       "    </tr>\n",
       "    \n",
       "    <tr>\n",
       "        <td>clone-a4894485-5276-4ba0-b69b-539913d1b2ad-0</td>\n",
       "        <td>1</td>\n",
       "        <td>tcp://127.0.0.1:41217</td>\n",
       "    </tr>\n",
       "    \n",
       "    <tr>\n",
       "        <td>clone-a4894485-5276-4ba0-b69b-539913d1b2ad-1</td>\n",
       "        <td>1</td>\n",
       "        <td>tcp://127.0.0.1:42655</td>\n",
       "    </tr>\n",
       "    \n",
       "    <tr>\n",
       "        <td>clone-492758e0-4fcf-410a-9b3a-b8000943f6d5-2</td>\n",
       "        <td>1</td>\n",
       "        <td>tcp://127.0.0.1:39497</td>\n",
       "    </tr>\n",
       "    \n",
       "    <tr>\n",
       "        <td>clone-492758e0-4fcf-410a-9b3a-b8000943f6d5-1</td>\n",
       "        <td>1</td>\n",
       "        <td>tcp://127.0.0.1:44303</td>\n",
       "    </tr>\n",
       "    \n",
       "    <tr>\n",
       "        <td>clone-492758e0-4fcf-410a-9b3a-b8000943f6d5-0</td>\n",
       "        <td>1</td>\n",
       "        <td>tcp://127.0.0.1:41217</td>\n",
       "    </tr>\n",
       "    \n",
       "    <tr>\n",
       "        <td>clone-6c7d9c24-77d5-4a30-8baa-98ab757982dc-2</td>\n",
       "        <td>0</td>\n",
       "        <td></td>\n",
       "    </tr>\n",
       "    \n",
       "    <tr>\n",
       "        <td>clone-6c7d9c24-77d5-4a30-8baa-98ab757982dc-1</td>\n",
       "        <td>0</td>\n",
       "        <td></td>\n",
       "    </tr>\n",
       "    \n",
       "    <tr>\n",
       "        <td>clone-6c7d9c24-77d5-4a30-8baa-98ab757982dc-0</td>\n",
       "        <td>0</td>\n",
       "        <td></td>\n",
       "    </tr>\n",
       "    \n",
       "    <tr>\n",
       "        <td>clone-b64d0685-b5c2-4679-b050-2bae02bebe96-2</td>\n",
       "        <td>0</td>\n",
       "        <td></td>\n",
       "    </tr>\n",
       "    \n",
       "    <tr>\n",
       "        <td>clone-b64d0685-b5c2-4679-b050-2bae02bebe96-1</td>\n",
       "        <td>0</td>\n",
       "        <td></td>\n",
       "    </tr>\n",
       "    \n",
       "    <tr>\n",
       "        <td>clone-b64d0685-b5c2-4679-b050-2bae02bebe96-0</td>\n",
       "        <td>0</td>\n",
       "        <td></td>\n",
       "    </tr>\n",
       "    \n",
       "    <tr>\n",
       "        <td>set-10546c0f-1db2-4760-a38e-1e8bb9b0be11-0</td>\n",
       "        <td>1</td>\n",
       "        <td>tcp://127.0.0.1:41217</td>\n",
       "    </tr>\n",
       "    \n",
       "    <tr>\n",
       "        <td>set-10546c0f-1db2-4760-a38e-1e8bb9b0be11-2</td>\n",
       "        <td>1</td>\n",
       "        <td>tcp://127.0.0.1:39497</td>\n",
       "    </tr>\n",
       "    \n",
       "    <tr>\n",
       "        <td>set-10546c0f-1db2-4760-a38e-1e8bb9b0be11-1</td>\n",
       "        <td>1</td>\n",
       "        <td>tcp://127.0.0.1:42655</td>\n",
       "    </tr>\n",
       "    \n",
       "    <tr>\n",
       "        <td>set-6da6deb9-a8d6-4714-bdba-58fe56f6e27a-1</td>\n",
       "        <td>1</td>\n",
       "        <td>tcp://127.0.0.1:42655</td>\n",
       "    </tr>\n",
       "    \n",
       "    <tr>\n",
       "        <td>set-6da6deb9-a8d6-4714-bdba-58fe56f6e27a-2</td>\n",
       "        <td>1</td>\n",
       "        <td>tcp://127.0.0.1:39497</td>\n",
       "    </tr>\n",
       "    \n",
       "    <tr>\n",
       "        <td>set-6da6deb9-a8d6-4714-bdba-58fe56f6e27a-0</td>\n",
       "        <td>1</td>\n",
       "        <td>tcp://127.0.0.1:41217</td>\n",
       "    </tr>\n",
       "    \n",
       "    <tr>\n",
       "        <td>clone-928fd64b-ac31-49a6-ac2a-7d06b139b373-1</td>\n",
       "        <td>0</td>\n",
       "        <td></td>\n",
       "    </tr>\n",
       "    \n",
       "    <tr>\n",
       "        <td>clone-928fd64b-ac31-49a6-ac2a-7d06b139b373-2</td>\n",
       "        <td>0</td>\n",
       "        <td></td>\n",
       "    </tr>\n",
       "    \n",
       "    <tr>\n",
       "        <td>clone-928fd64b-ac31-49a6-ac2a-7d06b139b373-0</td>\n",
       "        <td>0</td>\n",
       "        <td></td>\n",
       "    </tr>\n",
       "    \n",
       "    <tr>\n",
       "        <td>zero-b6c8e7a2-edd1-4754-89c5-e06f325e8f63-1</td>\n",
       "        <td>0</td>\n",
       "        <td></td>\n",
       "    </tr>\n",
       "    \n",
       "    <tr>\n",
       "        <td>zero-b6c8e7a2-edd1-4754-89c5-e06f325e8f63-0</td>\n",
       "        <td>0</td>\n",
       "        <td></td>\n",
       "    </tr>\n",
       "    \n",
       "    <tr>\n",
       "        <td>zero-b6c8e7a2-edd1-4754-89c5-e06f325e8f63-2</td>\n",
       "        <td>0</td>\n",
       "        <td></td>\n",
       "    </tr>\n",
       "    \n",
       "    <tr>\n",
       "        <td>copy-efba2760-9788-41d4-a50a-2f21f3292d00-2</td>\n",
       "        <td>4</td>\n",
       "        <td>tcp://127.0.0.1:44303, tcp://127.0.0.1:41217, tcp://127.0.0.1:39497, tcp://127.0.0.1:42655</td>\n",
       "    </tr>\n",
       "    \n",
       "    <tr>\n",
       "        <td>copy-efba2760-9788-41d4-a50a-2f21f3292d00-1</td>\n",
       "        <td>4</td>\n",
       "        <td>tcp://127.0.0.1:44303, tcp://127.0.0.1:41217, tcp://127.0.0.1:39497, tcp://127.0.0.1:42655</td>\n",
       "    </tr>\n",
       "    \n",
       "    <tr>\n",
       "        <td>copy-efba2760-9788-41d4-a50a-2f21f3292d00-0</td>\n",
       "        <td>4</td>\n",
       "        <td>tcp://127.0.0.1:44303, tcp://127.0.0.1:41217, tcp://127.0.0.1:39497, tcp://127.0.0.1:42655</td>\n",
       "    </tr>\n",
       "    \n",
       "    <tr>\n",
       "        <td>clone-afaf91b3-4058-445f-950e-682a918d2ab6-0</td>\n",
       "        <td>1</td>\n",
       "        <td>tcp://127.0.0.1:44303</td>\n",
       "    </tr>\n",
       "    \n",
       "    <tr>\n",
       "        <td>clone-afaf91b3-4058-445f-950e-682a918d2ab6-2</td>\n",
       "        <td>1</td>\n",
       "        <td>tcp://127.0.0.1:39497</td>\n",
       "    </tr>\n",
       "    \n",
       "    <tr>\n",
       "        <td>clone-afaf91b3-4058-445f-950e-682a918d2ab6-1</td>\n",
       "        <td>1</td>\n",
       "        <td>tcp://127.0.0.1:41217</td>\n",
       "    </tr>\n",
       "    \n",
       "    <tr>\n",
       "        <td>copy-0c3b2fbf-2b50-4120-90a6-e3213772a605-2</td>\n",
       "        <td>4</td>\n",
       "        <td>tcp://127.0.0.1:44303, tcp://127.0.0.1:41217, tcp://127.0.0.1:39497, tcp://127.0.0.1:42655</td>\n",
       "    </tr>\n",
       "    \n",
       "    <tr>\n",
       "        <td>copy-0c3b2fbf-2b50-4120-90a6-e3213772a605-0</td>\n",
       "        <td>4</td>\n",
       "        <td>tcp://127.0.0.1:44303, tcp://127.0.0.1:41217, tcp://127.0.0.1:39497, tcp://127.0.0.1:42655</td>\n",
       "    </tr>\n",
       "    \n",
       "    <tr>\n",
       "        <td>copy-0c3b2fbf-2b50-4120-90a6-e3213772a605-1</td>\n",
       "        <td>4</td>\n",
       "        <td>tcp://127.0.0.1:44303, tcp://127.0.0.1:41217, tcp://127.0.0.1:39497, tcp://127.0.0.1:42655</td>\n",
       "    </tr>\n",
       "    \n",
       "    <tr>\n",
       "        <td>scaleAdd-52cd1332-bdcb-4ed3-9ad2-8c69e9bdeae3-2</td>\n",
       "        <td>2</td>\n",
       "        <td>tcp://127.0.0.1:44303, tcp://127.0.0.1:39497</td>\n",
       "    </tr>\n",
       "    \n",
       "    <tr>\n",
       "        <td>scaleAdd-52cd1332-bdcb-4ed3-9ad2-8c69e9bdeae3-0</td>\n",
       "        <td>2</td>\n",
       "        <td>tcp://127.0.0.1:44303, tcp://127.0.0.1:42655</td>\n",
       "    </tr>\n",
       "    \n",
       "    <tr>\n",
       "        <td>scaleAdd-52cd1332-bdcb-4ed3-9ad2-8c69e9bdeae3-1</td>\n",
       "        <td>2</td>\n",
       "        <td>tcp://127.0.0.1:41217, tcp://127.0.0.1:42655</td>\n",
       "    </tr>\n",
       "    \n",
       "    <tr>\n",
       "        <td>set_bg-3ebebe25-fe28-4aab-9ed0-a3ae6a233572-0</td>\n",
       "        <td>1</td>\n",
       "        <td>tcp://127.0.0.1:44303</td>\n",
       "    </tr>\n",
       "    \n",
       "    <tr>\n",
       "        <td>set_bg-3ebebe25-fe28-4aab-9ed0-a3ae6a233572-2</td>\n",
       "        <td>2</td>\n",
       "        <td>tcp://127.0.0.1:44303, tcp://127.0.0.1:39497</td>\n",
       "    </tr>\n",
       "    \n",
       "    <tr>\n",
       "        <td>set_bg-3ebebe25-fe28-4aab-9ed0-a3ae6a233572-1</td>\n",
       "        <td>1</td>\n",
       "        <td>tcp://127.0.0.1:42655</td>\n",
       "    </tr>\n",
       "    \n",
       "    <tr>\n",
       "        <td>set_bg-a7035b8c-c981-45d9-bb4d-b1eadbb072b7-1</td>\n",
       "        <td>2</td>\n",
       "        <td>tcp://127.0.0.1:41217, tcp://127.0.0.1:42655</td>\n",
       "    </tr>\n",
       "    \n",
       "    <tr>\n",
       "        <td>set_bg-a7035b8c-c981-45d9-bb4d-b1eadbb072b7-0</td>\n",
       "        <td>1</td>\n",
       "        <td>tcp://127.0.0.1:41217</td>\n",
       "    </tr>\n",
       "    \n",
       "    <tr>\n",
       "        <td>set_bg-a7035b8c-c981-45d9-bb4d-b1eadbb072b7-2</td>\n",
       "        <td>2</td>\n",
       "        <td>tcp://127.0.0.1:39497, tcp://127.0.0.1:42655</td>\n",
       "    </tr>\n",
       "    \n",
       "    <tr>\n",
       "        <td>set_bg-610b1066-d580-4234-9931-b4a70c3fe455-2</td>\n",
       "        <td>1</td>\n",
       "        <td>tcp://127.0.0.1:44303</td>\n",
       "    </tr>\n",
       "    \n",
       "    <tr>\n",
       "        <td>set_bg-610b1066-d580-4234-9931-b4a70c3fe455-0</td>\n",
       "        <td>2</td>\n",
       "        <td>tcp://127.0.0.1:44303, tcp://127.0.0.1:39497</td>\n",
       "    </tr>\n",
       "    \n",
       "    <tr>\n",
       "        <td>set_bg-610b1066-d580-4234-9931-b4a70c3fe455-1</td>\n",
       "        <td>2</td>\n",
       "        <td>tcp://127.0.0.1:41217, tcp://127.0.0.1:39497</td>\n",
       "    </tr>\n",
       "    \n",
       "    <tr>\n",
       "        <td>scaleAdd-44de04b6-aa11-4345-8a0f-27fdad6e1cbd-1</td>\n",
       "        <td>1</td>\n",
       "        <td>tcp://127.0.0.1:41217</td>\n",
       "    </tr>\n",
       "    \n",
       "    <tr>\n",
       "        <td>scaleAdd-44de04b6-aa11-4345-8a0f-27fdad6e1cbd-2</td>\n",
       "        <td>2</td>\n",
       "        <td>tcp://127.0.0.1:39497, tcp://127.0.0.1:42655</td>\n",
       "    </tr>\n",
       "    \n",
       "    <tr>\n",
       "        <td>scaleAdd-44de04b6-aa11-4345-8a0f-27fdad6e1cbd-0</td>\n",
       "        <td>1</td>\n",
       "        <td>tcp://127.0.0.1:44303</td>\n",
       "    </tr>\n",
       "    \n",
       "    <tr>\n",
       "        <td>scaleAdd-233cebdb-5fe6-455e-bc98-876206858c91-1</td>\n",
       "        <td>1</td>\n",
       "        <td>tcp://127.0.0.1:41217</td>\n",
       "    </tr>\n",
       "    \n",
       "    <tr>\n",
       "        <td>scaleAdd-233cebdb-5fe6-455e-bc98-876206858c91-2</td>\n",
       "        <td>1</td>\n",
       "        <td>tcp://127.0.0.1:39497</td>\n",
       "    </tr>\n",
       "    \n",
       "    <tr>\n",
       "        <td>scaleAdd-233cebdb-5fe6-455e-bc98-876206858c91-0</td>\n",
       "        <td>1</td>\n",
       "        <td>tcp://127.0.0.1:44303</td>\n",
       "    </tr>\n",
       "    \n",
       "    <tr>\n",
       "        <td>scale-6ffc4730-32b9-4b26-9ff6-9dc3d92e0b12-1</td>\n",
       "        <td>2</td>\n",
       "        <td>tcp://127.0.0.1:41217, tcp://127.0.0.1:42655</td>\n",
       "    </tr>\n",
       "    \n",
       "    <tr>\n",
       "        <td>scale-6ffc4730-32b9-4b26-9ff6-9dc3d92e0b12-0</td>\n",
       "        <td>1</td>\n",
       "        <td>tcp://127.0.0.1:44303</td>\n",
       "    </tr>\n",
       "    \n",
       "    <tr>\n",
       "        <td>scale-6ffc4730-32b9-4b26-9ff6-9dc3d92e0b12-2</td>\n",
       "        <td>1</td>\n",
       "        <td>tcp://127.0.0.1:39497</td>\n",
       "    </tr>\n",
       "    \n",
       "</table>"
      ],
      "text/plain": [
       "{'floatVector-595cfdd1dcf73321579315046e407455': (),\n",
       " 'floatVector-0db53e00f86c4b3041dff31b974f2e51': (),\n",
       " 'floatVector-8f225281933346fe820b753a2192adf1': (),\n",
       " 'set-5a418791-36a0-4869-93ce-ec1d625bf40e-2': (),\n",
       " 'set-5a418791-36a0-4869-93ce-ec1d625bf40e-0': (),\n",
       " 'set-5a418791-36a0-4869-93ce-ec1d625bf40e-1': (),\n",
       " 'scale-9cb4fafb-17a6-4d0f-bc0d-0fea941e5001-0': (),\n",
       " 'scale-9cb4fafb-17a6-4d0f-bc0d-0fea941e5001-2': (),\n",
       " 'scale-9cb4fafb-17a6-4d0f-bc0d-0fea941e5001-1': (),\n",
       " 'clone-928a2e7f-ae17-4248-865e-e21cb21f205d-0': ('tcp://127.0.0.1:44303',),\n",
       " 'clone-928a2e7f-ae17-4248-865e-e21cb21f205d-1': ('tcp://127.0.0.1:41217',),\n",
       " 'clone-928a2e7f-ae17-4248-865e-e21cb21f205d-2': ('tcp://127.0.0.1:42655',),\n",
       " 'clone-e45d9734-0208-4aa3-9f44-708069d31b3e-1': (),\n",
       " 'clone-e45d9734-0208-4aa3-9f44-708069d31b3e-0': (),\n",
       " 'clone-e45d9734-0208-4aa3-9f44-708069d31b3e-2': (),\n",
       " 'zero-4ded9d35-090f-4236-8785-22e2262aedcc-0': ('tcp://127.0.0.1:39497',),\n",
       " 'zero-4ded9d35-090f-4236-8785-22e2262aedcc-1': ('tcp://127.0.0.1:41217',),\n",
       " 'zero-4ded9d35-090f-4236-8785-22e2262aedcc-2': ('tcp://127.0.0.1:42655',),\n",
       " 'clone-d54e69d0-ccff-43fd-b564-3e82c7863a18-2': ('tcp://127.0.0.1:39497',\n",
       "  'tcp://127.0.0.1:42655'),\n",
       " 'clone-d54e69d0-ccff-43fd-b564-3e82c7863a18-1': ('tcp://127.0.0.1:42655',),\n",
       " 'clone-d54e69d0-ccff-43fd-b564-3e82c7863a18-0': ('tcp://127.0.0.1:44303',\n",
       "  'tcp://127.0.0.1:41217'),\n",
       " 'clone-7faa46cd-10b8-446e-85ad-2e53e022ba0b-0': ('tcp://127.0.0.1:44303',),\n",
       " 'clone-7faa46cd-10b8-446e-85ad-2e53e022ba0b-2': ('tcp://127.0.0.1:39497',),\n",
       " 'clone-7faa46cd-10b8-446e-85ad-2e53e022ba0b-1': ('tcp://127.0.0.1:41217',\n",
       "  'tcp://127.0.0.1:42655'),\n",
       " 'set-b7047449-5823-44eb-8e88-896788ac0639-0': ('tcp://127.0.0.1:44303',),\n",
       " 'set-b7047449-5823-44eb-8e88-896788ac0639-2': ('tcp://127.0.0.1:39497',),\n",
       " 'set-b7047449-5823-44eb-8e88-896788ac0639-1': ('tcp://127.0.0.1:41217',\n",
       "  'tcp://127.0.0.1:42655'),\n",
       " 'scaleAdd-145ff9b5-8673-4a34-8147-429e98b1b68f-2': ('tcp://127.0.0.1:39497',),\n",
       " 'scaleAdd-145ff9b5-8673-4a34-8147-429e98b1b68f-1': ('tcp://127.0.0.1:42655',),\n",
       " 'scaleAdd-145ff9b5-8673-4a34-8147-429e98b1b68f-0': ('tcp://127.0.0.1:41217',),\n",
       " 'clone-01b73778-2a5b-48d5-b663-9ba8744cc48c-1': (),\n",
       " 'clone-01b73778-2a5b-48d5-b663-9ba8744cc48c-2': (),\n",
       " 'clone-01b73778-2a5b-48d5-b663-9ba8744cc48c-0': (),\n",
       " 'zero-84c946bb-6263-45b5-93c1-c32557831341-2': (),\n",
       " 'zero-84c946bb-6263-45b5-93c1-c32557831341-1': (),\n",
       " 'zero-84c946bb-6263-45b5-93c1-c32557831341-0': (),\n",
       " 'clone-a4894485-5276-4ba0-b69b-539913d1b2ad-2': ('tcp://127.0.0.1:39497',),\n",
       " 'clone-a4894485-5276-4ba0-b69b-539913d1b2ad-0': ('tcp://127.0.0.1:41217',),\n",
       " 'clone-a4894485-5276-4ba0-b69b-539913d1b2ad-1': ('tcp://127.0.0.1:42655',),\n",
       " 'clone-492758e0-4fcf-410a-9b3a-b8000943f6d5-2': ('tcp://127.0.0.1:39497',),\n",
       " 'clone-492758e0-4fcf-410a-9b3a-b8000943f6d5-1': ('tcp://127.0.0.1:44303',),\n",
       " 'clone-492758e0-4fcf-410a-9b3a-b8000943f6d5-0': ('tcp://127.0.0.1:41217',),\n",
       " 'clone-6c7d9c24-77d5-4a30-8baa-98ab757982dc-2': (),\n",
       " 'clone-6c7d9c24-77d5-4a30-8baa-98ab757982dc-1': (),\n",
       " 'clone-6c7d9c24-77d5-4a30-8baa-98ab757982dc-0': (),\n",
       " 'clone-b64d0685-b5c2-4679-b050-2bae02bebe96-2': (),\n",
       " 'clone-b64d0685-b5c2-4679-b050-2bae02bebe96-1': (),\n",
       " 'clone-b64d0685-b5c2-4679-b050-2bae02bebe96-0': (),\n",
       " 'set-10546c0f-1db2-4760-a38e-1e8bb9b0be11-0': ('tcp://127.0.0.1:41217',),\n",
       " 'set-10546c0f-1db2-4760-a38e-1e8bb9b0be11-2': ('tcp://127.0.0.1:39497',),\n",
       " 'set-10546c0f-1db2-4760-a38e-1e8bb9b0be11-1': ('tcp://127.0.0.1:42655',),\n",
       " 'set-6da6deb9-a8d6-4714-bdba-58fe56f6e27a-1': ('tcp://127.0.0.1:42655',),\n",
       " 'set-6da6deb9-a8d6-4714-bdba-58fe56f6e27a-2': ('tcp://127.0.0.1:39497',),\n",
       " 'set-6da6deb9-a8d6-4714-bdba-58fe56f6e27a-0': ('tcp://127.0.0.1:41217',),\n",
       " 'clone-928fd64b-ac31-49a6-ac2a-7d06b139b373-1': (),\n",
       " 'clone-928fd64b-ac31-49a6-ac2a-7d06b139b373-2': (),\n",
       " 'clone-928fd64b-ac31-49a6-ac2a-7d06b139b373-0': (),\n",
       " 'zero-b6c8e7a2-edd1-4754-89c5-e06f325e8f63-1': (),\n",
       " 'zero-b6c8e7a2-edd1-4754-89c5-e06f325e8f63-0': (),\n",
       " 'zero-b6c8e7a2-edd1-4754-89c5-e06f325e8f63-2': (),\n",
       " 'copy-efba2760-9788-41d4-a50a-2f21f3292d00-2': ('tcp://127.0.0.1:44303',\n",
       "  'tcp://127.0.0.1:41217',\n",
       "  'tcp://127.0.0.1:39497',\n",
       "  'tcp://127.0.0.1:42655'),\n",
       " 'copy-efba2760-9788-41d4-a50a-2f21f3292d00-1': ('tcp://127.0.0.1:44303',\n",
       "  'tcp://127.0.0.1:41217',\n",
       "  'tcp://127.0.0.1:39497',\n",
       "  'tcp://127.0.0.1:42655'),\n",
       " 'copy-efba2760-9788-41d4-a50a-2f21f3292d00-0': ('tcp://127.0.0.1:44303',\n",
       "  'tcp://127.0.0.1:41217',\n",
       "  'tcp://127.0.0.1:39497',\n",
       "  'tcp://127.0.0.1:42655'),\n",
       " 'clone-afaf91b3-4058-445f-950e-682a918d2ab6-0': ('tcp://127.0.0.1:44303',),\n",
       " 'clone-afaf91b3-4058-445f-950e-682a918d2ab6-2': ('tcp://127.0.0.1:39497',),\n",
       " 'clone-afaf91b3-4058-445f-950e-682a918d2ab6-1': ('tcp://127.0.0.1:41217',),\n",
       " 'copy-0c3b2fbf-2b50-4120-90a6-e3213772a605-2': ('tcp://127.0.0.1:44303',\n",
       "  'tcp://127.0.0.1:41217',\n",
       "  'tcp://127.0.0.1:39497',\n",
       "  'tcp://127.0.0.1:42655'),\n",
       " 'copy-0c3b2fbf-2b50-4120-90a6-e3213772a605-0': ('tcp://127.0.0.1:44303',\n",
       "  'tcp://127.0.0.1:41217',\n",
       "  'tcp://127.0.0.1:39497',\n",
       "  'tcp://127.0.0.1:42655'),\n",
       " 'copy-0c3b2fbf-2b50-4120-90a6-e3213772a605-1': ('tcp://127.0.0.1:44303',\n",
       "  'tcp://127.0.0.1:41217',\n",
       "  'tcp://127.0.0.1:39497',\n",
       "  'tcp://127.0.0.1:42655'),\n",
       " 'scaleAdd-52cd1332-bdcb-4ed3-9ad2-8c69e9bdeae3-2': ('tcp://127.0.0.1:44303',\n",
       "  'tcp://127.0.0.1:39497'),\n",
       " 'scaleAdd-52cd1332-bdcb-4ed3-9ad2-8c69e9bdeae3-0': ('tcp://127.0.0.1:44303',\n",
       "  'tcp://127.0.0.1:42655'),\n",
       " 'scaleAdd-52cd1332-bdcb-4ed3-9ad2-8c69e9bdeae3-1': ('tcp://127.0.0.1:41217',\n",
       "  'tcp://127.0.0.1:42655'),\n",
       " 'set_bg-3ebebe25-fe28-4aab-9ed0-a3ae6a233572-0': ('tcp://127.0.0.1:44303',),\n",
       " 'set_bg-3ebebe25-fe28-4aab-9ed0-a3ae6a233572-2': ('tcp://127.0.0.1:44303',\n",
       "  'tcp://127.0.0.1:39497'),\n",
       " 'set_bg-3ebebe25-fe28-4aab-9ed0-a3ae6a233572-1': ('tcp://127.0.0.1:42655',),\n",
       " 'set_bg-a7035b8c-c981-45d9-bb4d-b1eadbb072b7-1': ('tcp://127.0.0.1:41217',\n",
       "  'tcp://127.0.0.1:42655'),\n",
       " 'set_bg-a7035b8c-c981-45d9-bb4d-b1eadbb072b7-0': ('tcp://127.0.0.1:41217',),\n",
       " 'set_bg-a7035b8c-c981-45d9-bb4d-b1eadbb072b7-2': ('tcp://127.0.0.1:39497',\n",
       "  'tcp://127.0.0.1:42655'),\n",
       " 'set_bg-610b1066-d580-4234-9931-b4a70c3fe455-2': ('tcp://127.0.0.1:44303',),\n",
       " 'set_bg-610b1066-d580-4234-9931-b4a70c3fe455-0': ('tcp://127.0.0.1:44303',\n",
       "  'tcp://127.0.0.1:39497'),\n",
       " 'set_bg-610b1066-d580-4234-9931-b4a70c3fe455-1': ('tcp://127.0.0.1:41217',\n",
       "  'tcp://127.0.0.1:39497'),\n",
       " 'scaleAdd-44de04b6-aa11-4345-8a0f-27fdad6e1cbd-1': ('tcp://127.0.0.1:41217',),\n",
       " 'scaleAdd-44de04b6-aa11-4345-8a0f-27fdad6e1cbd-2': ('tcp://127.0.0.1:39497',\n",
       "  'tcp://127.0.0.1:42655'),\n",
       " 'scaleAdd-44de04b6-aa11-4345-8a0f-27fdad6e1cbd-0': ('tcp://127.0.0.1:44303',),\n",
       " 'scaleAdd-233cebdb-5fe6-455e-bc98-876206858c91-1': ('tcp://127.0.0.1:41217',),\n",
       " 'scaleAdd-233cebdb-5fe6-455e-bc98-876206858c91-2': ('tcp://127.0.0.1:39497',),\n",
       " 'scaleAdd-233cebdb-5fe6-455e-bc98-876206858c91-0': ('tcp://127.0.0.1:44303',),\n",
       " 'scale-6ffc4730-32b9-4b26-9ff6-9dc3d92e0b12-1': ('tcp://127.0.0.1:41217',\n",
       "  'tcp://127.0.0.1:42655'),\n",
       " 'scale-6ffc4730-32b9-4b26-9ff6-9dc3d92e0b12-0': ('tcp://127.0.0.1:44303',),\n",
       " 'scale-6ffc4730-32b9-4b26-9ff6-9dc3d92e0b12-2': ('tcp://127.0.0.1:39497',)}"
      ]
     },
     "execution_count": 43,
     "metadata": {},
     "output_type": "execute_result"
    }
   ],
   "source": [
    "client.getClient().who_has()"
   ]
  },
  {
   "cell_type": "code",
   "execution_count": 44,
   "id": "71193f0f",
   "metadata": {},
   "outputs": [
    {
     "data": {
      "text/plain": [
       "0.25"
      ]
     },
     "execution_count": 44,
     "metadata": {},
     "output_type": "execute_result"
    }
   ],
   "source": [
    "model_pre.min()"
   ]
  },
  {
   "cell_type": "code",
   "execution_count": 45,
   "id": "3bd180ee",
   "metadata": {},
   "outputs": [
    {
     "data": {
      "text/plain": [
       "0.25"
      ]
     },
     "execution_count": 45,
     "metadata": {},
     "output_type": "execute_result"
    }
   ],
   "source": [
    "model_pre.max()"
   ]
  },
  {
   "cell_type": "code",
   "execution_count": 46,
   "id": "71b2affc",
   "metadata": {},
   "outputs": [
    {
     "data": {
      "text/plain": [
       "[<pyOperator.scalingOp at 0x7fd645ced8b0>,\n",
       " <pyOperator.DummyOp at 0x7fd645ceda90>,\n",
       " <pyOperator.DummyOp at 0x7fd645cedd30>,\n",
       " <pyOperator.DummyOp at 0x7fd645ced850>,\n",
       " <pyOperator.scalingOp at 0x7fd645ced520>,\n",
       " <pyOperator.DummyOp at 0x7fd645ced9d0>,\n",
       " <pyOperator.DummyOp at 0x7fd645ced3a0>,\n",
       " <pyOperator.DummyOp at 0x7fd645ced430>,\n",
       " <pyOperator.scalingOp at 0x7fd645ea7220>]"
      ]
     },
     "execution_count": 46,
     "metadata": {},
     "output_type": "execute_result"
    }
   ],
   "source": [
    "client.getClient().gather(scaleOp.fut)"
   ]
  },
  {
   "cell_type": "code",
   "execution_count": 47,
   "id": "c1d21ef5",
   "metadata": {},
   "outputs": [],
   "source": [
    "import pickle \n",
    "\n",
    "d = pickle.dumps(data)"
   ]
  },
  {
   "cell_type": "code",
   "execution_count": 48,
   "id": "526cd479",
   "metadata": {},
   "outputs": [],
   "source": [
    "dd = pickle.loads(d)"
   ]
  },
  {
   "cell_type": "code",
   "execution_count": 49,
   "id": "2514ae46",
   "metadata": {},
   "outputs": [
    {
     "data": {
      "text/plain": [
       "{'dask_client': <dask_util.DaskClient at 0x7fd621f80730>,\n",
       " 'ns': [10, 40, 1000],\n",
       " 'os': [0, 0, 0],\n",
       " 'ds': [1, 1, 1],\n",
       " 'chunks': (1, 1, 3),\n",
       " 'hyper': Axis 1: n=10\to=0.000000\td=1.000000\n",
       " Axis 2: n=40\to=0.000000\td=1.000000\n",
       " Axis 3: n=1000\to=0.000000\td=1.000000,\n",
       " 'nchunks': 3,\n",
       " 'ns_list': array([[10, 40, 333],\n",
       "        [10, 40, 333],\n",
       "        [10, 40, 334]], dtype=object),\n",
       " 'fut': [<Future: finished, key: set-b7047449-5823-44eb-8e88-896788ac0639-0>,\n",
       "  <Future: finished, key: set-b7047449-5823-44eb-8e88-896788ac0639-1>,\n",
       "  <Future: finished, key: set-b7047449-5823-44eb-8e88-896788ac0639-2>],\n",
       " 'cls': SepVector.floatVector,\n",
       " 'workers': ['tcp://127.0.0.1:44303',\n",
       "  'tcp://127.0.0.1:42655',\n",
       "  'tcp://127.0.0.1:39497'],\n",
       " 'client': <Client: 'tcp://127.0.0.1:42237' processes=4 threads=8, memory=5.80 GiB>}"
      ]
     },
     "execution_count": 49,
     "metadata": {},
     "output_type": "execute_result"
    }
   ],
   "source": [
    "dd.__dict__"
   ]
  },
  {
   "cell_type": "code",
   "execution_count": 50,
   "id": "3aa6762a",
   "metadata": {},
   "outputs": [
    {
     "data": {
      "text/plain": [
       "{'dask_client': <dask_util.DaskClient at 0x7fd674ca2e80>,\n",
       " 'ns': [10, 40, 1000],\n",
       " 'os': [0, 0, 0],\n",
       " 'ds': [1, 1, 1],\n",
       " 'chunks': (1, 1, 3),\n",
       " 'hyper': Axis 1: n=10\to=0.000000\td=1.000000\n",
       " Axis 2: n=40\to=0.000000\td=1.000000\n",
       " Axis 3: n=1000\to=0.000000\td=1.000000,\n",
       " 'nchunks': 3,\n",
       " 'ns_list': array([[10, 40, 333],\n",
       "        [10, 40, 333],\n",
       "        [10, 40, 334]], dtype=object),\n",
       " 'fut': [<Future: finished, type: SepVector.floatVector, key: set-b7047449-5823-44eb-8e88-896788ac0639-0>,\n",
       "  <Future: finished, type: SepVector.floatVector, key: set-b7047449-5823-44eb-8e88-896788ac0639-1>,\n",
       "  <Future: finished, type: SepVector.floatVector, key: set-b7047449-5823-44eb-8e88-896788ac0639-2>],\n",
       " 'cls': SepVector.floatVector,\n",
       " 'workers': ['tcp://127.0.0.1:44303',\n",
       "  'tcp://127.0.0.1:42655',\n",
       "  'tcp://127.0.0.1:39497']}"
      ]
     },
     "execution_count": 50,
     "metadata": {},
     "output_type": "execute_result"
    }
   ],
   "source": [
    "data.__dict__"
   ]
  },
  {
   "cell_type": "code",
   "execution_count": 51,
   "id": "60f98792",
   "metadata": {},
   "outputs": [
    {
     "ename": "ValueError",
     "evalue": "Inputs contain futures that were created by another client.",
     "output_type": "error",
     "traceback": [
      "\u001b[0;31m---------------------------------------------------------------------------\u001b[0m",
      "\u001b[0;31mValueError\u001b[0m                                Traceback (most recent call last)",
      "Cell \u001b[0;32mIn[51], line 1\u001b[0m\n\u001b[0;32m----> 1\u001b[0m \u001b[43mdd\u001b[49m\u001b[38;5;241;43m.\u001b[39;49m\u001b[43mscaleAdd\u001b[49m\u001b[43m(\u001b[49m\u001b[43mdata\u001b[49m\u001b[43m)\u001b[49m\n",
      "File \u001b[0;32m/opt/python-solver/GenericSolver/python/__pyDaskVector.py:358\u001b[0m, in \u001b[0;36mDaskVector.scaleAdd\u001b[0;34m(self, vec2, sc1, sc2)\u001b[0m\n\u001b[1;32m    356\u001b[0m \u001b[38;5;124;03m\"\"\"Function to scale two vectors and add them to the first one\"\"\"\u001b[39;00m\n\u001b[1;32m    357\u001b[0m \u001b[38;5;28mself\u001b[39m\u001b[38;5;241m.\u001b[39mcheck(vec2)\n\u001b[0;32m--> 358\u001b[0m fut \u001b[38;5;241m=\u001b[39m \u001b[38;5;28;43mself\u001b[39;49m\u001b[38;5;241;43m.\u001b[39;49m\u001b[43mclient\u001b[49m\u001b[38;5;241;43m.\u001b[39;49m\u001b[43mmap\u001b[49m\u001b[43m(\u001b[49m\u001b[38;5;28;43mself\u001b[39;49m\u001b[38;5;241;43m.\u001b[39;49m\u001b[43mcls\u001b[49m\u001b[38;5;241;43m.\u001b[39;49m\u001b[43mscaleAdd\u001b[49m\u001b[43m,\u001b[49m\u001b[43m \u001b[49m\u001b[38;5;28;43mself\u001b[39;49m\u001b[38;5;241;43m.\u001b[39;49m\u001b[43mfut\u001b[49m\u001b[43m,\u001b[49m\u001b[43m \u001b[49m\u001b[43mvec2\u001b[49m\u001b[38;5;241;43m.\u001b[39;49m\u001b[43mfut\u001b[49m\u001b[43m,\u001b[49m\u001b[43m \u001b[49m\u001b[43m[\u001b[49m\u001b[43msc1\u001b[49m\u001b[43m]\u001b[49m\u001b[38;5;241;43m*\u001b[39;49m\u001b[38;5;28;43mlen\u001b[39;49m\u001b[43m(\u001b[49m\u001b[38;5;28;43mself\u001b[39;49m\u001b[43m)\u001b[49m\u001b[43m,\u001b[49m\u001b[43m \u001b[49m\u001b[43m[\u001b[49m\u001b[43msc2\u001b[49m\u001b[43m]\u001b[49m\u001b[38;5;241;43m*\u001b[39;49m\u001b[38;5;28;43mlen\u001b[39;49m\u001b[43m(\u001b[49m\u001b[38;5;28;43mself\u001b[39;49m\u001b[43m)\u001b[49m\u001b[43m,\u001b[49m\u001b[43m \u001b[49m\u001b[43mpure\u001b[49m\u001b[38;5;241;43m=\u001b[39;49m\u001b[38;5;28;43;01mFalse\u001b[39;49;00m\u001b[43m)\u001b[49m\n\u001b[1;32m    359\u001b[0m \u001b[38;5;28mself\u001b[39m\u001b[38;5;241m.\u001b[39mset_futures(fut)\n\u001b[1;32m    360\u001b[0m \u001b[38;5;28;01mreturn\u001b[39;00m \u001b[38;5;28mself\u001b[39m\n",
      "File \u001b[0;32m/usr/local/lib/python3.9/dist-packages/distributed/client.py:2092\u001b[0m, in \u001b[0;36mClient.map\u001b[0;34m(self, func, key, workers, retries, resources, priority, allow_other_workers, fifo_timeout, actor, actors, pure, batch_size, *iterables, **kwargs)\u001b[0m\n\u001b[1;32m   2088\u001b[0m     \u001b[38;5;28;01mraise\u001b[39;00m \u001b[38;5;167;01mTypeError\u001b[39;00m(\u001b[38;5;124m\"\u001b[39m\u001b[38;5;124mWorkers must be a list or set of workers or None\u001b[39m\u001b[38;5;124m\"\u001b[39m)\n\u001b[1;32m   2090\u001b[0m internal_priority \u001b[38;5;241m=\u001b[39m \u001b[38;5;28mdict\u001b[39m(\u001b[38;5;28mzip\u001b[39m(keys, \u001b[38;5;28mrange\u001b[39m(\u001b[38;5;28mlen\u001b[39m(keys))))\n\u001b[0;32m-> 2092\u001b[0m futures \u001b[38;5;241m=\u001b[39m \u001b[38;5;28;43mself\u001b[39;49m\u001b[38;5;241;43m.\u001b[39;49m\u001b[43m_graph_to_futures\u001b[49m\u001b[43m(\u001b[49m\n\u001b[1;32m   2093\u001b[0m \u001b[43m    \u001b[49m\u001b[43mdsk\u001b[49m\u001b[43m,\u001b[49m\n\u001b[1;32m   2094\u001b[0m \u001b[43m    \u001b[49m\u001b[43mkeys\u001b[49m\u001b[43m,\u001b[49m\n\u001b[1;32m   2095\u001b[0m \u001b[43m    \u001b[49m\u001b[43mworkers\u001b[49m\u001b[38;5;241;43m=\u001b[39;49m\u001b[43mworkers\u001b[49m\u001b[43m,\u001b[49m\n\u001b[1;32m   2096\u001b[0m \u001b[43m    \u001b[49m\u001b[43mallow_other_workers\u001b[49m\u001b[38;5;241;43m=\u001b[39;49m\u001b[43mallow_other_workers\u001b[49m\u001b[43m,\u001b[49m\n\u001b[1;32m   2097\u001b[0m \u001b[43m    \u001b[49m\u001b[43mpriority\u001b[49m\u001b[38;5;241;43m=\u001b[39;49m\u001b[43minternal_priority\u001b[49m\u001b[43m,\u001b[49m\n\u001b[1;32m   2098\u001b[0m \u001b[43m    \u001b[49m\u001b[43mresources\u001b[49m\u001b[38;5;241;43m=\u001b[39;49m\u001b[43mresources\u001b[49m\u001b[43m,\u001b[49m\n\u001b[1;32m   2099\u001b[0m \u001b[43m    \u001b[49m\u001b[43mretries\u001b[49m\u001b[38;5;241;43m=\u001b[39;49m\u001b[43mretries\u001b[49m\u001b[43m,\u001b[49m\n\u001b[1;32m   2100\u001b[0m \u001b[43m    \u001b[49m\u001b[43muser_priority\u001b[49m\u001b[38;5;241;43m=\u001b[39;49m\u001b[43mpriority\u001b[49m\u001b[43m,\u001b[49m\n\u001b[1;32m   2101\u001b[0m \u001b[43m    \u001b[49m\u001b[43mfifo_timeout\u001b[49m\u001b[38;5;241;43m=\u001b[39;49m\u001b[43mfifo_timeout\u001b[49m\u001b[43m,\u001b[49m\n\u001b[1;32m   2102\u001b[0m \u001b[43m    \u001b[49m\u001b[43mactors\u001b[49m\u001b[38;5;241;43m=\u001b[39;49m\u001b[43mactor\u001b[49m\u001b[43m,\u001b[49m\n\u001b[1;32m   2103\u001b[0m \u001b[43m\u001b[49m\u001b[43m)\u001b[49m\n\u001b[1;32m   2104\u001b[0m logger\u001b[38;5;241m.\u001b[39mdebug(\u001b[38;5;124m\"\u001b[39m\u001b[38;5;124mmap(\u001b[39m\u001b[38;5;132;01m%s\u001b[39;00m\u001b[38;5;124m, ...)\u001b[39m\u001b[38;5;124m\"\u001b[39m, funcname(func))\n\u001b[1;32m   2106\u001b[0m \u001b[38;5;28;01mreturn\u001b[39;00m [futures[stringify(k)] \u001b[38;5;28;01mfor\u001b[39;00m k \u001b[38;5;129;01min\u001b[39;00m keys]\n",
      "File \u001b[0;32m/usr/local/lib/python3.9/dist-packages/distributed/client.py:3024\u001b[0m, in \u001b[0;36mClient._graph_to_futures\u001b[0;34m(self, dsk, keys, workers, allow_other_workers, priority, user_priority, resources, retries, fifo_timeout, actors)\u001b[0m\n\u001b[1;32m   3022\u001b[0m \u001b[38;5;66;03m# Pack the high level graph before sending it to the scheduler\u001b[39;00m\n\u001b[1;32m   3023\u001b[0m keyset \u001b[38;5;241m=\u001b[39m \u001b[38;5;28mset\u001b[39m(keys)\n\u001b[0;32m-> 3024\u001b[0m dsk \u001b[38;5;241m=\u001b[39m \u001b[43mdsk\u001b[49m\u001b[38;5;241;43m.\u001b[39;49m\u001b[43m__dask_distributed_pack__\u001b[49m\u001b[43m(\u001b[49m\u001b[38;5;28;43mself\u001b[39;49m\u001b[43m,\u001b[49m\u001b[43m \u001b[49m\u001b[43mkeyset\u001b[49m\u001b[43m,\u001b[49m\u001b[43m \u001b[49m\u001b[43mannotations\u001b[49m\u001b[43m)\u001b[49m\n\u001b[1;32m   3026\u001b[0m \u001b[38;5;66;03m# Create futures before sending graph (helps avoid contention)\u001b[39;00m\n\u001b[1;32m   3027\u001b[0m futures \u001b[38;5;241m=\u001b[39m {key: Future(key, \u001b[38;5;28mself\u001b[39m, inform\u001b[38;5;241m=\u001b[39m\u001b[38;5;28;01mFalse\u001b[39;00m) \u001b[38;5;28;01mfor\u001b[39;00m key \u001b[38;5;129;01min\u001b[39;00m keyset}\n",
      "File \u001b[0;32m/usr/local/lib/python3.9/dist-packages/dask/highlevelgraph.py:1078\u001b[0m, in \u001b[0;36mHighLevelGraph.__dask_distributed_pack__\u001b[0;34m(self, client, client_keys, annotations)\u001b[0m\n\u001b[1;32m   1072\u001b[0m layers \u001b[38;5;241m=\u001b[39m []\n\u001b[1;32m   1073\u001b[0m \u001b[38;5;28;01mfor\u001b[39;00m layer \u001b[38;5;129;01min\u001b[39;00m (\u001b[38;5;28mself\u001b[39m\u001b[38;5;241m.\u001b[39mlayers[name] \u001b[38;5;28;01mfor\u001b[39;00m name \u001b[38;5;129;01min\u001b[39;00m \u001b[38;5;28mself\u001b[39m\u001b[38;5;241m.\u001b[39m_toposort_layers()):\n\u001b[1;32m   1074\u001b[0m     layers\u001b[38;5;241m.\u001b[39mappend(\n\u001b[1;32m   1075\u001b[0m         {\n\u001b[1;32m   1076\u001b[0m             \u001b[38;5;124m\"\u001b[39m\u001b[38;5;124m__module__\u001b[39m\u001b[38;5;124m\"\u001b[39m: layer\u001b[38;5;241m.\u001b[39m\u001b[38;5;18m__module__\u001b[39m,\n\u001b[1;32m   1077\u001b[0m             \u001b[38;5;124m\"\u001b[39m\u001b[38;5;124m__name__\u001b[39m\u001b[38;5;124m\"\u001b[39m: \u001b[38;5;28mtype\u001b[39m(layer)\u001b[38;5;241m.\u001b[39m\u001b[38;5;18m__name__\u001b[39m,\n\u001b[0;32m-> 1078\u001b[0m             \u001b[38;5;124m\"\u001b[39m\u001b[38;5;124mstate\u001b[39m\u001b[38;5;124m\"\u001b[39m: \u001b[43mlayer\u001b[49m\u001b[38;5;241;43m.\u001b[39;49m\u001b[43m__dask_distributed_pack__\u001b[49m\u001b[43m(\u001b[49m\n\u001b[1;32m   1079\u001b[0m \u001b[43m                \u001b[49m\u001b[38;5;28;43mself\u001b[39;49m\u001b[38;5;241;43m.\u001b[39;49m\u001b[43mget_all_external_keys\u001b[49m\u001b[43m(\u001b[49m\u001b[43m)\u001b[49m\u001b[43m,\u001b[49m\n\u001b[1;32m   1080\u001b[0m \u001b[43m                \u001b[49m\u001b[38;5;28;43mself\u001b[39;49m\u001b[38;5;241;43m.\u001b[39;49m\u001b[43mkey_dependencies\u001b[49m\u001b[43m,\u001b[49m\n\u001b[1;32m   1081\u001b[0m \u001b[43m                \u001b[49m\u001b[43mclient\u001b[49m\u001b[43m,\u001b[49m\n\u001b[1;32m   1082\u001b[0m \u001b[43m                \u001b[49m\u001b[43mclient_keys\u001b[49m\u001b[43m,\u001b[49m\n\u001b[1;32m   1083\u001b[0m \u001b[43m            \u001b[49m\u001b[43m)\u001b[49m,\n\u001b[1;32m   1084\u001b[0m             \u001b[38;5;124m\"\u001b[39m\u001b[38;5;124mannotations\u001b[39m\u001b[38;5;124m\"\u001b[39m: layer\u001b[38;5;241m.\u001b[39m__dask_distributed_annotations_pack__(\n\u001b[1;32m   1085\u001b[0m                 annotations\n\u001b[1;32m   1086\u001b[0m             ),\n\u001b[1;32m   1087\u001b[0m         }\n\u001b[1;32m   1088\u001b[0m     )\n\u001b[1;32m   1089\u001b[0m \u001b[38;5;28;01mreturn\u001b[39;00m {\u001b[38;5;124m\"\u001b[39m\u001b[38;5;124mlayers\u001b[39m\u001b[38;5;124m\"\u001b[39m: layers}\n",
      "File \u001b[0;32m/usr/local/lib/python3.9/dist-packages/dask/highlevelgraph.py:391\u001b[0m, in \u001b[0;36mLayer.__dask_distributed_pack__\u001b[0;34m(self, all_hlg_keys, known_key_dependencies, client, client_keys)\u001b[0m\n\u001b[1;32m    389\u001b[0m \u001b[38;5;28;01mfor\u001b[39;00m future \u001b[38;5;129;01min\u001b[39;00m unpacked_futures:\n\u001b[1;32m    390\u001b[0m     \u001b[38;5;28;01mif\u001b[39;00m future\u001b[38;5;241m.\u001b[39mclient \u001b[38;5;129;01mis\u001b[39;00m \u001b[38;5;129;01mnot\u001b[39;00m client:\n\u001b[0;32m--> 391\u001b[0m         \u001b[38;5;28;01mraise\u001b[39;00m \u001b[38;5;167;01mValueError\u001b[39;00m(\n\u001b[1;32m    392\u001b[0m             \u001b[38;5;124m\"\u001b[39m\u001b[38;5;124mInputs contain futures that were created by another client.\u001b[39m\u001b[38;5;124m\"\u001b[39m\n\u001b[1;32m    393\u001b[0m         )\n\u001b[1;32m    394\u001b[0m     \u001b[38;5;28;01mif\u001b[39;00m stringify(future\u001b[38;5;241m.\u001b[39mkey) \u001b[38;5;129;01mnot\u001b[39;00m \u001b[38;5;129;01min\u001b[39;00m client\u001b[38;5;241m.\u001b[39mfutures:\n\u001b[1;32m    395\u001b[0m         \u001b[38;5;28;01mraise\u001b[39;00m CancelledError(stringify(future\u001b[38;5;241m.\u001b[39mkey))\n",
      "\u001b[0;31mValueError\u001b[0m: Inputs contain futures that were created by another client."
     ]
    }
   ],
   "source": [
    "dd.scaleAdd(data)"
   ]
  },
  {
   "cell_type": "code",
   "execution_count": null,
   "id": "e23d619b",
   "metadata": {},
   "outputs": [],
   "source": [
    "f = client.getClient().submit(scaleOp.getDomain, scaleOp)"
   ]
  },
  {
   "cell_type": "code",
   "execution_count": null,
   "id": "a344fc85",
   "metadata": {},
   "outputs": [],
   "source": [
    "f"
   ]
  },
  {
   "cell_type": "code",
   "execution_count": null,
   "id": "2a547fa8",
   "metadata": {},
   "outputs": [],
   "source": []
  }
 ],
 "metadata": {
  "kernelspec": {
   "display_name": "Python 3 (ipykernel)",
   "language": "python",
   "name": "python3"
  },
  "language_info": {
   "codemirror_mode": {
    "name": "ipython",
    "version": 3
   },
   "file_extension": ".py",
   "mimetype": "text/x-python",
   "name": "python",
   "nbconvert_exporter": "python",
   "pygments_lexer": "ipython3",
   "version": "3.9.2"
  }
 },
 "nbformat": 4,
 "nbformat_minor": 5
}
